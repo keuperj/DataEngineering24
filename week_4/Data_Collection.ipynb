{
 "cells": [
  {
   "cell_type": "markdown",
   "metadata": {
    "slideshow": {
     "slide_type": "slide"
    }
   },
   "source": [
    "# Data Scraping"
   ]
  },
  {
   "cell_type": "markdown",
   "metadata": {
    "slideshow": {
     "slide_type": "slide"
    },
    "tags": []
   },
   "source": [
    "## Outline\n",
    "* Access Structured Data\n",
    "    * accessing ***Rest*** APIs\n",
    "    * Comon Bus-Systems\n",
    "        \n",
    "* Access Unstructured Data\n",
    "    * web scraping\n",
    "    * PDF scraping\n",
    "    "
   ]
  },
  {
   "cell_type": "markdown",
   "metadata": {
    "slideshow": {
     "slide_type": "slide"
    }
   },
   "source": [
    "## Data Science Processing Pipeline\n",
    "<img src=\"IMG/workflow.png\" width=1200>"
   ]
  },
  {
   "cell_type": "markdown",
   "metadata": {
    "slideshow": {
     "slide_type": "slide"
    }
   },
   "source": [
    "## Recall: JSON\n",
    "### *Data with less structure than tables: sparse entries or flexible schema*\n",
    "<img SRC=\"IMG/json-logo.png\" width=400>"
   ]
  },
  {
   "cell_type": "markdown",
   "metadata": {
    "slideshow": {
     "slide_type": "fragment"
    }
   },
   "source": [
    "***JavaScript Object Notation (JSON)*** is an open-standard file format that uses human-readable text to transmit data objects consisting of attribute–value pairs and array data types. \n",
    "JSON is a language-independent data format. It was derived from JavaScript, but as of 2017 many programming languages include code to generate and parse JSON-format data. "
   ]
  },
  {
   "cell_type": "markdown",
   "metadata": {
    "slideshow": {
     "slide_type": "subslide"
    }
   },
   "source": [
    "### JSON Document Tree\n",
    "<img SRC=\"IMG/json.png\">"
   ]
  },
  {
   "cell_type": "markdown",
   "metadata": {
    "slideshow": {
     "slide_type": "subslide"
    }
   },
   "source": [
    "### JSON in Pythhon\n"
   ]
  },
  {
   "cell_type": "code",
   "execution_count": 1,
   "metadata": {},
   "outputs": [
    {
     "name": "stdout",
     "output_type": "stream",
     "text": [
      "            Product  Price\n",
      "0  Desktop Computer    700\n",
      "1            Tablet    250\n",
      "2            iPhone    800\n",
      "3            Laptop   1200\n"
     ]
    }
   ],
   "source": [
    "import pandas as pd\n",
    "\n",
    "Data = {'Product': ['Desktop Computer','Tablet','iPhone','Laptop'],\n",
    "        'Price': [700,250,800,1200]\n",
    "        }\n",
    "\n",
    "df = pd.DataFrame(Data, columns= ['Product', 'Price'])\n",
    " \n",
    "print (df)\n"
   ]
  },
  {
   "cell_type": "code",
   "execution_count": 2,
   "metadata": {
    "slideshow": {
     "slide_type": "fragment"
    }
   },
   "outputs": [],
   "source": [
    "#native JSON support in pandas\n",
    "Export = df.to_json ('Export_DataFrame.json')"
   ]
  },
  {
   "cell_type": "markdown",
   "metadata": {},
   "source": [
    "#### Use ***Colab*** to browse the JSON file."
   ]
  },
  {
   "cell_type": "markdown",
   "metadata": {
    "slideshow": {
     "slide_type": "slide"
    }
   },
   "source": [
    "## REST-APIs: Getting Data from Sensors and Services\n",
    "### *IoT usecases and mesh-ups*\n",
    "\n",
    "* **REST** **RE**presentational **S**tate **T**ransfer - de facto standard for network (HTTP) communication \n",
    "* performance, scalability, simplicity, and reliability for **client-server** data exchange\n",
    "\n",
    "\n",
    "\n",
    "Also see: [https://en.wikipedia.org/wiki/Representational_state_transfer](https://en.wikipedia.org/wiki/Representational_state_transfer)"
   ]
  },
  {
   "cell_type": "markdown",
   "metadata": {
    "slideshow": {
     "slide_type": "subslide"
    }
   },
   "source": [
    "### REST\n",
    "* **Stateless:** The server won’t maintain any state between requests from the client.\n",
    "* **Client-server:** The client and server must be decoupled from each other, allowing each to develop independently.\n",
    "* **Cacheable:** The data retrieved from the server should be cacheable either by the client or by the server.\n",
    "* **Uniform interface:** The server will provide a uniform interface for accessing resources without defining their representation.\n",
    "* **Layered system:** The client may access the resources on the server indirectly through other layers such as a proxy or load balancer."
   ]
  },
  {
   "cell_type": "markdown",
   "metadata": {
    "slideshow": {
     "slide_type": "subslide"
    }
   },
   "source": [
    "### REST Schema\n",
    "<img src='IMG/REST.png'>\n",
    "[image from Wikipedia]"
   ]
  },
  {
   "cell_type": "markdown",
   "metadata": {
    "slideshow": {
     "slide_type": "subslide"
    }
   },
   "source": [
    "### Example\n",
    "\n",
    "* ***GitHub*** REST API -> User information\n",
    "\n",
    "[https://api.github.com/users/keuperj](https://api.github.com/users/keuperj)"
   ]
  },
  {
   "cell_type": "markdown",
   "metadata": {
    "slideshow": {
     "slide_type": "subslide"
    }
   },
   "source": [
    "### REST communication via HTTP(s) requests\n",
    "\n",
    "* GET\tRetrieve an existing resource.\n",
    "* POST\tCreate a new resource.\n",
    "* PUT\tUpdate an existing resource.\n",
    "* PATCH\tPartially update an existing resource.\n",
    "* DELETE\tDelete a resource.\n",
    "\n",
    "#### Data payload -> JSON !"
   ]
  },
  {
   "cell_type": "markdown",
   "metadata": {
    "slideshow": {
     "slide_type": "subslide"
    }
   },
   "source": [
    "### REST interactions in Python\n",
    "#### with the REQUESTS lib\n",
    "\n",
    "<center>\n",
    "<img src=\"IMG/requests.png\" width=300>\n",
    "</center>\n",
    "\n",
    "* [https://docs.python-requests.org/en/master/](https://docs.python-requests.org/en/master/)"
   ]
  },
  {
   "cell_type": "code",
   "execution_count": 1,
   "metadata": {
    "slideshow": {
     "slide_type": "subslide"
    }
   },
   "outputs": [
    {
     "data": {
      "text/plain": [
       "{'userId': 2,\n",
       " 'id': 23,\n",
       " 'title': 'et itaque necessitatibus maxime molestiae qui quas velit',\n",
       " 'completed': False}"
      ]
     },
     "execution_count": 1,
     "metadata": {},
     "output_type": "execute_result"
    }
   ],
   "source": [
    "# Example: read data from service\n",
    "\n",
    "import requests\n",
    "api_url = \"https://jsonplaceholder.typicode.com/todos/23\" # open REST service for tests\n",
    "response = requests.get(api_url)\n",
    "response.json()"
   ]
  },
  {
   "cell_type": "markdown",
   "metadata": {
    "slideshow": {
     "slide_type": "-"
    }
   },
   "source": [
    "We use the open REST test server at: https://jsonplaceholder.typicode.com"
   ]
  },
  {
   "cell_type": "code",
   "execution_count": 2,
   "metadata": {
    "slideshow": {
     "slide_type": "subslide"
    }
   },
   "outputs": [
    {
     "data": {
      "text/plain": [
       "{'userId': 1, 'title': 'Buy milk', 'completed': False, 'id': 201}"
      ]
     },
     "execution_count": 2,
     "metadata": {},
     "output_type": "execute_result"
    }
   ],
   "source": [
    "# write data to service\n",
    "\n",
    "api_url = \"https://jsonplaceholder.typicode.com/todos\"\n",
    "todo = {\"userId\": 99, \"title\": \"Buy milk\", \"completed\": False}\n",
    "response = requests.post(api_url, json=todo)\n",
    "response.json()\n",
    "{'userId': 1, 'title': 'Buy milk', 'completed': False, 'id': 201}\n",
    "\n"
   ]
  },
  {
   "cell_type": "code",
   "execution_count": 3,
   "metadata": {
    "slideshow": {
     "slide_type": "fragment"
    }
   },
   "outputs": [
    {
     "data": {
      "text/plain": [
       "201"
      ]
     },
     "execution_count": 3,
     "metadata": {},
     "output_type": "execute_result"
    }
   ],
   "source": [
    "#check transaction\n",
    "response.status_code"
   ]
  },
  {
   "cell_type": "markdown",
   "metadata": {
    "slideshow": {
     "slide_type": "subslide"
    }
   },
   "source": [
    "Error Codes:\n",
    "\n",
    "* 2xx - SUCCESS\n",
    "* 4xx - Client Error\n",
    "* 5xx - Server Error"
   ]
  },
  {
   "cell_type": "markdown",
   "metadata": {
    "slideshow": {
     "slide_type": "fragment"
    }
   },
   "source": [
    "#### Large scale JSON handling and Queries -> MogoDB !"
   ]
  },
  {
   "cell_type": "markdown",
   "metadata": {
    "slideshow": {
     "slide_type": "fragment"
    }
   },
   "source": [
    "#### Other comunication libs i.e. for CAN-Bus available: [https://python-can.readthedocs.io/en/master/](https://python-can.readthedocs.io/en/master/)"
   ]
  },
  {
   "cell_type": "markdown",
   "metadata": {
    "slideshow": {
     "slide_type": "slide"
    }
   },
   "source": [
    "## Getting Data from Web-Ressources\n",
    "#### *Data Scraping*\n",
    "\n",
    "* In some cases data is not *provided* via a defined API, but needs to be collected\n",
    "   * i.e. from unstructured web-data "
   ]
  },
  {
   "cell_type": "code",
   "execution_count": 4,
   "metadata": {
    "slideshow": {
     "slide_type": "fragment"
    }
   },
   "outputs": [
    {
     "name": "stdout",
     "output_type": "stream",
     "text": [
      "<!doctype html><html itemscope=\"\" itemtype=\"http://schema.org/WebPage\" lang=\"de\"><head><meta content=\"text/html; charset=UTF-8\" http-equiv=\"Content-Type\"><meta content=\"/images/branding/googleg/1x/googleg_standard_color_128dp.png\" itemprop=\"image\"><title>Google</title><script nonce=\"VjQWxBSbl9T4IkBF-rQxLg\">(function(){var _g={kEI:'5JYTZpu5MZusi-gP3sCyyAg',kEXPI:'0,1365468,206,4804,2329817,654,361,424527,38927,14764,4998,55519,2872,2891,3926,7828,30449,825,32636,13491,230,37802,69410,6666,7596,1,42154,2,39761,6700,31121,4569,6255,24673,59701,8155,8861,14490,8702,13733,9779,42459,20198,57055,16124,3030,15816,1804,35269,11813,1632,13495,29968,5222327,711,2,296,1347,853,39,106,5992324,2837752,1,58,7444385,19234296,1305643,16672,43887,3,318,4,1281,3,2121778,2585,16815,1,3,23017956,7375,8408,10756,5909,16632,819,3851,4821,5,1899,1625,35245,1922,7288,3671,4834,1573,8049,5796,10052,2901,2211,154,7815,213,391,7526,5328,2781,1720,5,1440,2,2704,4,1061,8833,10707,5134,1860,2,1071,2076,6870,662,4432,913,4983,12,365,221,1261,3,610,423,4100,353,124,32,1,2482,1506,203,1497,7,1188,637,2514,1013,383,4556,1006,1405,1511,2231,10,1574,8,4394,788,110,1299,1426,1114,77,149,467,4,271,245,293,799,2,941,425,611,314,18,4,186,120,775,627,4,1,6,796,1000,1,5,130,198,710,895,1078,378,327,704,1265,17,218,441,464,464,1,303,5,11,654,1040,854,2,4,209,1210,386,550,2,1033,85,316,618,179,1,897,497,149,690,318,26,3,3,508,759,214,176,464,874,1455,551,259,11,4,359,124,218,81,80,385,2,92,80,44,427,25,703,215,276,670,1,6,207,647,1252,508,87,1284,517,73,1,549,804,28,11,18,49,62,218,1277,195,625,469,2,1765,1204,54,9,11,21284355,365638,3,3771,1476,1611,1436,282,955,3,639,23,4,118,673,3298517',kBL:'KAOK',kOPI:89978449};(function(){var a;(null==(a=window.google)?0:a.stvsc)?google.kEI=_g.kEI:window.google=_g;}).call(this);})();(function(){google.sn='webhp';google.kHL='de';})();(function(){\n",
      "var h=this||self;function l(){return void 0!==window.google&&void 0!==window.google.kOPI&&0!==window.google.kOPI?window.google.kOPI:null};var m,n=[];function p(a){for(var b;a&&(!a.getAttribute||!(b=a.getAttribute(\"eid\")));)a=a.parentNode;return b||m}function q(a){for(var b=null;a&&(!a.getAttribute||!(b=a.getAttribute(\"leid\")));)a=a.parentNode;return b}function r(a){/^http:/i.test(a)&&\"https:\"===window.location.protocol&&(google.ml&&google.ml(Error(\"a\"),!1,{src:a,glmm:1}),a=\"\");return a}\n",
      "function t(a,b,c,d,k){var e=\"\";-1===b.search(\"&ei=\")&&(e=\"&ei=\"+p(d),-1===b.search(\"&lei=\")&&(d=q(d))&&(e+=\"&lei=\"+d));d=\"\";var g=-1===b.search(\"&cshid=\")&&\"slh\"!==a,f=[];f.push([\"zx\",Date.now().toString()]);h._cshid&&g&&f.push([\"cshid\",h._cshid]);c=c();null!=c&&f.push([\"opi\",c.toString()]);for(c=0;c<f.length;c++){if(0===c||0<c)d+=\"&\";d+=f[c][0]+\"=\"+f[c][1]}return\"/\"+(k||\"gen_204\")+\"?atyp=i&ct=\"+String(a)+\"&cad=\"+(b+e+d)};m=google.kEI;google.getEI=p;google.getLEI=q;google.ml=function(){return null};google.log=function(a,b,c,d,k,e){e=void 0===e?l:e;c||(c=t(a,b,e,d,k));if(c=r(c)){a=new Image;var g=n.length;n[g]=a;a.onerror=a.onload=a.onabort=function(){delete n[g]};a.src=c}};google.logUrl=function(a,b){b=void 0===b?l:b;return t(\"\",a,b)};}).call(this);(function(){google.y={};google.sy=[];google.x=function(a,b){if(a)var c=a.id;else{do c=Math.random();while(google.y[c])}google.y[c]=[a,b];return!1};google.sx=function(a){google.sy.push(a)};google.lm=[];google.plm=function(a){google.lm.push.apply(google.lm,a)};google.lq=[];google.load=function(a,b,c){google.lq.push([[a],b,c])};google.loadAll=function(a,b){google.lq.push([a,b])};google.bx=!1;google.lx=function(){};var d=[];google.fce=function(a,b,c,e){d.push([a,b,c,e])};google.qce=d;}).call(this);google.f={};(function(){\n",
      "document.documentElement.addEventListener(\"submit\",function(b){var a;if(a=b.target){var c=a.getAttribute(\"data-submitfalse\");a=\"1\"===c||\"q\"===c&&!a.elements.q.value?!0:!1}else a=!1;a&&(b.preventDefault(),b.stopPropagation())},!0);document.documentElement.addEventListener(\"click\",function(b){var a;a:{for(a=b.target;a&&a!==document.documentElement;a=a.parentElement)if(\"A\"===a.tagName){a=\"1\"===a.getAttribute(\"data-nohref\");break a}a=!1}a&&b.preventDefault()},!0);}).call(this);</script><style>#gbar,#guser{font-size:13px;padding-top:1px !important;}#gbar{height:22px}#guser{padding-bottom:7px !important;text-align:right}.gbh,.gbd{border-top:1px solid #c9d7f1;font-size:1px}.gbh{height:0;position:absolute;top:24px;width:100%}@media all{.gb1{height:22px;margin-right:.5em;vertical-align:top}#gbar{float:left}}a.gb1,a.gb4{text-decoration:underline !important}a.gb1,a.gb4{color:#00c !important}.gbi .gb4{color:#dd8e27 !important}.gbf .gb4{color:#900 !important}\n",
      "</style><style>body,td,a,p,.h{font-family:arial,sans-serif}body{margin:0;overflow-y:scroll}#gog{padding:3px 8px 0}td{line-height:.8em}.gac_m td{line-height:17px}form{margin-bottom:20px}.h{color:#1967d2}em{font-weight:bold;font-style:normal}.lst{height:25px;width:496px}.gsfi,.lst{font:18px arial,sans-serif}.gsfs{font:17px arial,sans-serif}.ds{display:inline-box;display:inline-block;margin:3px 0 4px;margin-left:4px}input{font-family:inherit}body{background:#fff;color:#000}a{color:#681da8;text-decoration:none}a:hover,a:active{text-decoration:underline}.fl a{color:#1967d2}a:visited{color:#681da8}.sblc{padding-top:5px}.sblc a{display:block;margin:2px 0;margin-left:13px;font-size:11px}.lsbb{background:#f8f9fa;border:solid 1px;border-color:#dadce0 #70757a #70757a #dadce0;height:30px}.lsbb{display:block}#WqQANb a{display:inline-block;margin:0 12px}.lsb{background:url(/images/nav_logo229.png) 0 -261px repeat-x;color:#000;border:none;cursor:pointer;height:30px;margin:0;outline:0;font:15px arial,sans-serif;vertical-align:top}.lsb:active{background:#dadce0}.lst:focus{outline:none}</style><script nonce=\"VjQWxBSbl9T4IkBF-rQxLg\">(function(){window.google.erd={jsr:1,bv:1983,de:true};\n",
      "var h=this||self;var k,l=null!=(k=h.mei)?k:1,n,p=null!=(n=h.sdo)?n:!0,q=0,r,t=google.erd,v=t.jsr;google.ml=function(a,b,d,m,e){e=void 0===e?2:e;b&&(r=a&&a.message);void 0===d&&(d={});d.cad=\"ple_\"+google.ple+\".aple_\"+google.aple;if(google.dl)return google.dl(a,e,d),null;b=d;if(0>v){window.console&&console.error(a,b);if(-2===v)throw a;b=!1}else b=!a||!a.message||\"Error loading script\"===a.message||q>=l&&!m?!1:!0;if(!b)return null;q++;d=d||{};b=encodeURIComponent;var c=\"/gen_204?atyp=i&ei=\"+b(google.kEI);google.kEXPI&&(c+=\"&jexpid=\"+b(google.kEXPI));c+=\"&srcpg=\"+b(google.sn)+\"&jsr=\"+b(t.jsr)+\"&bver=\"+\n",
      "b(t.bv);var f=a.lineNumber;void 0!==f&&(c+=\"&line=\"+f);var g=a.fileName;g&&(0<g.indexOf(\"-extension:/\")&&(e=3),c+=\"&script=\"+b(g),f&&g===window.location.href&&(f=document.documentElement.outerHTML.split(\"\\n\")[f],c+=\"&cad=\"+b(f?f.substring(0,300):\"No script found.\")));google.ple&&1===google.ple&&(e=2);c+=\"&jsel=\"+e;for(var u in d)c+=\"&\",c+=b(u),c+=\"=\",c+=b(d[u]);c=c+\"&emsg=\"+b(a.name+\": \"+a.message);c=c+\"&jsst=\"+b(a.stack||\"N/A\");12288<=c.length&&(c=c.substr(0,12288));a=c;m||google.log(0,\"\",a);return a};window.onerror=function(a,b,d,m,e){r!==a&&(a=e instanceof Error?e:Error(a),void 0===d||\"lineNumber\"in a||(a.lineNumber=d),void 0===b||\"fileName\"in a||(a.fileName=b),google.ml(a,!1,void 0,!1,\"SyntaxError\"===a.name||\"SyntaxError\"===a.message.substring(0,11)||-1!==a.message.indexOf(\"Script error\")?3:0));r=null;p&&q>=l&&(window.onerror=null)};})();</script></head><body bgcolor=\"#fff\"><script nonce=\"VjQWxBSbl9T4IkBF-rQxLg\">(function(){var src='/images/nav_logo229.png';var iesg=false;document.body.onload = function(){window.n && window.n();if (document.images){new Image().src=src;}\n",
      "if (!iesg){document.f&&document.f.q.focus();document.gbqf&&document.gbqf.q.focus();}\n",
      "}\n",
      "})();</script><div id=\"mngb\"><div id=gbar><nobr><b class=gb1>Suche</b> <a class=gb1 href=\"https://www.google.com/imghp?hl=de&tab=wi\">Bilder</a> <a class=gb1 href=\"https://maps.google.de/maps?hl=de&tab=wl\">Maps</a> <a class=gb1 href=\"https://play.google.com/?hl=de&tab=w8\">Play</a> <a class=gb1 href=\"https://www.youtube.com/?tab=w1\">YouTube</a> <a class=gb1 href=\"https://news.google.com/?tab=wn\">News</a> <a class=gb1 href=\"https://mail.google.com/mail/?tab=wm\">Gmail</a> <a class=gb1 href=\"https://drive.google.com/?tab=wo\">Drive</a> <a class=gb1 style=\"text-decoration:none\" href=\"https://www.google.de/intl/de/about/products?tab=wh\"><u>Mehr</u> &raquo;</a></nobr></div><div id=guser width=100%><nobr><span id=gbn class=gbi></span><span id=gbf class=gbf></span><span id=gbe></span><a href=\"http://www.google.de/history/optout?hl=de\" class=gb4>Webprotokoll</a> | <a  href=\"/preferences?hl=de\" class=gb4>Einstellungen</a> | <a target=_top id=gb_70 href=\"https://accounts.google.com/ServiceLogin?hl=de&passive=true&continue=https://www.google.com/&ec=GAZAAQ\" class=gb4>Anmelden</a></nobr></div><div class=gbh style=left:0></div><div class=gbh style=right:0></div></div><center><br clear=\"all\" id=\"lgpd\"><div id=\"lga\"><img alt=\"Google\" height=\"92\" src=\"/images/branding/googlelogo/1x/googlelogo_white_background_color_272x92dp.png\" style=\"padding:28px 0 14px\" width=\"272\" id=\"hplogo\"><br><br></div><form action=\"/search\" name=\"f\"><table cellpadding=\"0\" cellspacing=\"0\"><tr valign=\"top\"><td width=\"25%\">&nbsp;</td><td align=\"center\" nowrap=\"\"><input name=\"ie\" value=\"ISO-8859-1\" type=\"hidden\"><input value=\"de\" name=\"hl\" type=\"hidden\"><input name=\"source\" type=\"hidden\" value=\"hp\"><input name=\"biw\" type=\"hidden\"><input name=\"bih\" type=\"hidden\"><div class=\"ds\" style=\"height:32px;margin:4px 0\"><input class=\"lst\" style=\"margin:0;padding:5px 8px 0 6px;vertical-align:top;color:#000\" autocomplete=\"off\" value=\"\" title=\"Google Suche\" maxlength=\"2048\" name=\"q\" size=\"57\"></div><br style=\"line-height:0\"><span class=\"ds\"><span class=\"lsbb\"><input class=\"lsb\" value=\"Google Suche\" name=\"btnG\" type=\"submit\"></span></span><span class=\"ds\"><span class=\"lsbb\"><input class=\"lsb\" id=\"tsuid_1\" value=\"Auf gut Glück!\" name=\"btnI\" type=\"submit\"><script nonce=\"VjQWxBSbl9T4IkBF-rQxLg\">(function(){var id='tsuid_1';document.getElementById(id).onclick = function(){if (this.form.q.value){this.checked = 1;if (this.form.iflsig)this.form.iflsig.disabled = false;}\n",
      "else top.location='/doodles/';};})();</script><input value=\"ANes7DEAAAAAZhOk9MF6cqkIzNLVxnsGv1YWRCR0-V6N\" name=\"iflsig\" type=\"hidden\"></span></span></td><td class=\"fl sblc\" align=\"left\" nowrap=\"\" width=\"25%\"><a href=\"/advanced_search?hl=de&amp;authuser=0\">Erweiterte Suche</a></td></tr></table><input id=\"gbv\" name=\"gbv\" type=\"hidden\" value=\"1\"><script nonce=\"VjQWxBSbl9T4IkBF-rQxLg\">(function(){var a,b=\"1\";if(document&&document.getElementById)if(\"undefined\"!=typeof XMLHttpRequest)b=\"2\";else if(\"undefined\"!=typeof ActiveXObject){var c,d,e=[\"MSXML2.XMLHTTP.6.0\",\"MSXML2.XMLHTTP.3.0\",\"MSXML2.XMLHTTP\",\"Microsoft.XMLHTTP\"];for(c=0;d=e[c++];)try{new ActiveXObject(d),b=\"2\"}catch(h){}}a=b;if(\"2\"==a&&-1==location.search.indexOf(\"&gbv=2\")){var f=google.gbvu,g=document.getElementById(\"gbv\");g&&(g.value=a);f&&window.setTimeout(function(){location.href=f},0)};}).call(this);</script></form><div id=\"gac_scont\"></div><div style=\"font-size:83%;min-height:3.5em\"><br></div><span id=\"footer\"><div style=\"font-size:10pt\"><div style=\"margin:19px auto;text-align:center\" id=\"WqQANb\"><a href=\"/intl/de/ads/\">Werbeprogramme</a><a href=\"/services/\">Unternehmensangebote</a><a href=\"/intl/de/about.html\">Über Google</a><a href=\"https://www.google.com/setprefdomain?prefdom=DE&amp;prev=https://www.google.de/&amp;sig=K_EDilCC28zYI3EWAAYMNOfb21xFA%3D\">Google.de</a></div></div><p style=\"font-size:8pt;color:#70757a\">&copy; 2024 - <a href=\"/intl/de/policies/privacy/\">Datenschutzerklärung</a> - <a href=\"/intl/de/policies/terms/\">Nutzungsbedingungen</a></p></span></center><script nonce=\"VjQWxBSbl9T4IkBF-rQxLg\">(function(){window.google.cdo={height:757,width:1440};(function(){var a=window.innerWidth,b=window.innerHeight;if(!a||!b){var c=window.document,d=\"CSS1Compat\"==c.compatMode?c.documentElement:c.body;a=d.clientWidth;b=d.clientHeight}\n",
      "if(a&&b&&(a!=google.cdo.width||b!=google.cdo.height)){var e=google,f=e.log,g=\"/client_204?&atyp=i&biw=\"+a+\"&bih=\"+b+\"&ei=\"+google.kEI,h=\"\",k=[],l=void 0!==window.google&&void 0!==window.google.kOPI&&0!==window.google.kOPI?window.google.kOPI:null;null!=l&&k.push([\"opi\",l.toString()]);for(var m=0;m<k.length;m++){if(0===m||0<m)h+=\"&\";h+=k[m][0]+\"=\"+k[m][1]}f.call(e,\"\",\"\",g+h)};}).call(this);})();</script>  <script nonce=\"VjQWxBSbl9T4IkBF-rQxLg\">(function(){google.xjs={basecomb:'',basecss:'',basejs:'',ck:'xjs.hp.33RNxo6GE-8.L.X.O',combam:'AQAAAAEAAAAAAAAAAAAAAAAAAAAIAAAAAAAAxgEAAAgABAIAAMABIAAAAJAAAEAIAA6iIwAYgCMAAPAC',cs:'ACT90oFwBD5gFP5hJyUsXmAXfJw6Uum35Q',cssam:'AQAAAAEAAAAAAAAAAAAAAAAAAAAAAAAAAAAAAAAAAAgABAIAAAAAIAAAAJAAAEAI',csss:'ACT90oHPLMTdGRMcgL17jJIWftdK80b9IA',excm:[],jsam:'AAAAAAAAAAAAAAAAAAAAAAAAAAAIAAAAAAAAxgEAAAAAAAAAAMABAAAAAAAAAAAAAA6iIwAYgCMAAPAC',jss:'ACT90oESXeSjUetcaUKU_o0qMdldT9XBTA'};})();</script> <link href=\"/xjs/_/ss/k=xjs.hp.33RNxo6GE-8.L.X.O/am=AQAAAAEAAAAAAAAAAAAAAAAAAAAAAAAAAAAAAAAAAAgABAIAAAAAIAAAAJAAAEAI/d=1/ed=1/rs=ACT90oHPLMTdGRMcgL17jJIWftdK80b9IA/m=sb_he,d\" rel=\"stylesheet\" nonce=\"VjQWxBSbl9T4IkBF-rQxLg\">    <script nonce=\"VjQWxBSbl9T4IkBF-rQxLg\">(function(){var u='/xjs/_/js/k\\x3dxjs.hp.en.ciQyZxwgdh0.O/am\\x3dAAAAAAAAAAAAAAAAAAAAAAAAAAAIAAAAAAAAxgEAAAAAAAAAAMABAAAAAAAAAAAAAA6iIwAYgCMAAPAC/d\\x3d1/ed\\x3d1/rs\\x3dACT90oESXeSjUetcaUKU_o0qMdldT9XBTA/m\\x3dsb_he,d';var st=0;var amd=0;\n",
      "var e=this||self,f=function(a){return a};var g;var h=function(a){this.g=a};h.prototype.toString=function(){return this.g+\"\"};var k={};\n",
      "function m(a,b){a.src=b instanceof h&&b.constructor===h?b.g:\"type_error:TrustedResourceUrl\";var c,d;(c=(b=null==(d=(c=(a.ownerDocument&&a.ownerDocument.defaultView||window).document).querySelector)?void 0:d.call(c,\"script[nonce]\"))?b.nonce||b.getAttribute(\"nonce\")||\"\":\"\")&&a.setAttribute(\"nonce\",c)};var n=function(){var a=document;var b=\"SCRIPT\";\"application/xhtml+xml\"===a.contentType&&(b=b.toLowerCase());return a.createElement(b)};function p(a){a=null===a?\"null\":void 0===a?\"undefined\":a;if(void 0===g){var b=null;var c=e.trustedTypes;if(c&&c.createPolicy){try{b=c.createPolicy(\"goog#html\",{createHTML:f,createScript:f,createScriptURL:f})}catch(d){e.console&&e.console.error(d.message)}g=b}else g=b}a=(b=g)?b.createScriptURL(a):a;return new h(a,k)};void 0===google.ps&&(google.ps=[]);function q(){var a=u,b=function(){};google.lx=google.stvsc?b:function(){r(a);google.lx=b};google.bx||google.lx()}function t(a,b){b&&m(a,p(b));var c=a.onload;a.onload=function(d){c&&c(d);google.ps=google.ps.filter(function(l){return a!==l})};google.ps.push(a);document.body.appendChild(a)}google.as=t;function r(a){google.timers&&google.timers.load&&google.tick&&google.tick(\"load\",\"xjsls\");var b=n();b.onerror=function(){google.ple=1};b.onload=function(){google.ple=0};google.xjsus=void 0;t(b,a);google.aple=-1;google.psa=!0};google.xjsu=u;e._F_jsUrl=u;var v=!1;function w(){v||(q(),v=!0)}setTimeout(function(){var a;if(a=1===st&&google.caft){a:{a=document.getElementsByTagName(\"img\");for(var b=0,c=a.length;b<c;b++){var d=a[b],l=Number(d.getAttribute(\"data-atf\"))&1;d=d.hasAttribute(\"data-lzy_\");if(l&&d){a=!0;break a}}a=!1}a=!a}a?(window.setTimeout(w,amd),google.caft(w)):2===st&&google.rairicb?(window.setTimeout(w,amd),google.rairicb(w)):q()},0);})();window._ = window._ || {};window._DumpException = _._DumpException = function(e){throw e;};window._s = window._s || {};_s._DumpException = _._DumpException;window._qs = window._qs || {};_qs._DumpException = _._DumpException;(function(){var t=[1,4,0,0,0,10240,0,8417664,67110912,8,131100,2359296,573440,9340984,37257600,12320768];window._F_toggles = window._xjs_toggles = t;})();function _F_installCss(c){}\n",
      "(function(){google.jl={bfl:0,dw:false,ine:false,ubm:false,uwp:true,vs:false};})();(function(){var pmc='{\\x22d\\x22:{},\\x22sb_he\\x22:{\\x22agen\\x22:false,\\x22cgen\\x22:false,\\x22client\\x22:\\x22heirloom-hp\\x22,\\x22dh\\x22:true,\\x22ds\\x22:\\x22\\x22,\\x22fl\\x22:true,\\x22host\\x22:\\x22google.com\\x22,\\x22jsonp\\x22:true,\\x22lm\\x22:true,\\x22msgs\\x22:{\\x22cibl\\x22:\\x22Suche l\\\\u00f6schen\\x22,\\x22dym\\x22:\\x22Meintest du:\\x22,\\x22lcky\\x22:\\x22Auf gut Gl\\\\u00fcck!\\x22,\\x22lml\\x22:\\x22Weitere Informationen\\x22,\\x22psrc\\x22:\\x22Diese Suchanfrage wurde aus deinem \\\\u003Ca href\\x3d\\\\\\x22/history\\\\\\x22\\\\u003EWebprotokoll\\\\u003C/a\\\\u003E entfernt.\\x22,\\x22psrl\\x22:\\x22Entfernen\\x22,\\x22sbit\\x22:\\x22Bildersuche\\x22,\\x22srch\\x22:\\x22Google Suche\\x22},\\x22ovr\\x22:{},\\x22pq\\x22:\\x22\\x22,\\x22rfs\\x22:[],\\x22sbas\\x22:\\x220 3px 8px 0 rgba(0,0,0,0.2),0 0 0 1px rgba(0,0,0,0.08)\\x22,\\x22stok\\x22:\\x22RKYO4mQYbclvP3p0XoXDayfZ4cg\\x22}}';google.pmc=JSON.parse(pmc);})();(function(){var b=function(a){var c=0;return function(){return c<a.length?{done:!1,value:a[c++]}:{done:!0}}};\n",
      "var e=this||self;var g,h;a:{for(var k=[\"CLOSURE_FLAGS\"],l=e,n=0;n<k.length;n++)if(l=l[k[n]],null==l){h=null;break a}h=l}var p=h&&h[610401301];g=null!=p?p:!1;var q,r=e.navigator;q=r?r.userAgentData||null:null;function t(a){return g?q?q.brands.some(function(c){return(c=c.brand)&&-1!=c.indexOf(a)}):!1:!1}function u(a){var c;a:{if(c=e.navigator)if(c=c.userAgent)break a;c=\"\"}return-1!=c.indexOf(a)};function v(){return g?!!q&&0<q.brands.length:!1}function w(){return u(\"Safari\")&&!(x()||(v()?0:u(\"Coast\"))||(v()?0:u(\"Opera\"))||(v()?0:u(\"Edge\"))||(v()?t(\"Microsoft Edge\"):u(\"Edg/\"))||(v()?t(\"Opera\"):u(\"OPR\"))||u(\"Firefox\")||u(\"FxiOS\")||u(\"Silk\")||u(\"Android\"))}function x(){return v()?t(\"Chromium\"):(u(\"Chrome\")||u(\"CriOS\"))&&!(v()?0:u(\"Edge\"))||u(\"Silk\")}function y(){return u(\"Android\")&&!(x()||u(\"Firefox\")||u(\"FxiOS\")||(v()?0:u(\"Opera\"))||u(\"Silk\"))};var z=v()?!1:u(\"Trident\")||u(\"MSIE\");y();x();w();Object.freeze(new function(){});Object.freeze(new function(){});var A=!z&&!w(),D=function(a){if(/-[a-z]/.test(\"ved\"))return null;if(A&&a.dataset){if(y()&&!(\"ved\"in a.dataset))return null;a=a.dataset.ved;return void 0===a?null:a}return a.getAttribute(\"data-\"+\"ved\".replace(/([A-Z])/g,\"-$1\").toLowerCase())};var E=[],F=null;function G(a){a=a.target;var c=performance.now(),f=[],H=f.concat,d=E;if(!(d instanceof Array)){var m=\"undefined\"!=typeof Symbol&&Symbol.iterator&&d[Symbol.iterator];if(m)d=m.call(d);else if(\"number\"==typeof d.length)d={next:b(d)};else throw Error(\"a`\"+String(d));for(var B=[];!(m=d.next()).done;)B.push(m.value);d=B}E=H.call(f,d,[c]);if(a&&a instanceof HTMLElement)if(a===F){if(c=4<=E.length)c=5>(E[E.length-1]-E[E.length-4])/1E3;if(c){c=google.getEI(a);a.hasAttribute(\"data-ved\")?f=a?D(a)||\"\":\"\":f=(f=\n",
      "a.closest(\"[data-ved]\"))?D(f)||\"\":\"\";f=f||\"\";if(a.hasAttribute(\"jsname\"))a=a.getAttribute(\"jsname\");else{var C;a=null==(C=a.closest(\"[jsname]\"))?void 0:C.getAttribute(\"jsname\")}google.log(\"rcm\",\"&ei=\"+c+\"&ved=\"+f+\"&jsname=\"+(a||\"\"))}}else F=a,E=[c]}window.document.addEventListener(\"DOMContentLoaded\",function(){document.body.addEventListener(\"click\",G)});}).call(this);</script></body></html>\n"
     ]
    }
   ],
   "source": [
    "# example using requests\n",
    "import requests\n",
    "\n",
    "r = requests.get('https://www.google.com')\n",
    "print(r.text)"
   ]
  },
  {
   "cell_type": "markdown",
   "metadata": {
    "slideshow": {
     "slide_type": "subslide"
    }
   },
   "source": [
    "### How to get structured information from Websites?\n",
    "#### BeautifulSoup\n",
    "* Docu: https://beautiful-soup-4.readthedocs.io/en/latest/\n"
   ]
  },
  {
   "cell_type": "markdown",
   "metadata": {
    "slideshow": {
     "slide_type": "subslide"
    }
   },
   "source": [
    "* Example for news website: https://news.ycombinator.com"
   ]
  },
  {
   "cell_type": "code",
   "execution_count": 5,
   "metadata": {
    "slideshow": {
     "slide_type": "fragment"
    }
   },
   "outputs": [],
   "source": [
    "import requests\n",
    "from bs4 import BeautifulSoup\n",
    "\n",
    "r = requests.get('https://news.ycombinator.com')\n",
    "soup = BeautifulSoup(r.text, 'html.parser')\n",
    "links = soup.findAll('tr', class_='athing')\n",
    "\n",
    "formatted_links = []\n",
    "\n",
    "for link in links:\n",
    "    data = {\n",
    "        'id': link['id'],\n",
    "        'title': link.find_all('td')[2].a.text,\n",
    "        \"url\": link.find_all('td')[2].a['href'],\n",
    "        \"rank\": int(links[0].td.span.text.replace('.', ''))\n",
    "    }\n",
    "    formatted_links.append(data)\n",
    "\n"
   ]
  },
  {
   "cell_type": "code",
   "execution_count": 6,
   "metadata": {
    "scrolled": true,
    "slideshow": {
     "slide_type": "subslide"
    }
   },
   "outputs": [
    {
     "name": "stdout",
     "output_type": "stream",
     "text": [
      "{'id': '39965006', 'title': 'When a black hole and a neutron star merge', 'url': 'https://www.mpg.de/21778967/0404-grav-mysterious-object-in-the-gap-152520-x', 'rank': 1}\n",
      "{'id': '39962023', 'title': 'PumpkinOS, a Re-Implementation of PalmOS', 'url': 'https://github.com/migueletto/PumpkinOS', 'rank': 1}\n",
      "{'id': '39965267', 'title': 'Phytomining – Extracting Minerals via Plants', 'url': 'https://arpa-e.energy.gov/news-and-media/press-releases/us-department-energy-announces-10-million-explore-using-plants', 'rank': 1}\n",
      "{'id': '39966978', 'title': 'Bitmovin (YC S15) Is Hiring a Full Stack Engineer in Austria', 'url': 'https://bitmovin.com/careers/full-stack-engineer-7260509002', 'rank': 1}\n",
      "{'id': '39961910', 'title': 'What John von Neumann did at Los Alamos (2020)', 'url': 'https://3quarksdaily.com/3quarksdaily/2020/10/what-john-von-neumann-really-did-at-los-alamos.html', 'rank': 1}\n",
      "{'id': '39950989', 'title': 'Programming with DOS Debugger (2003)', 'url': 'https://susam.net/programming-with-dos-debugger.html', 'rank': 1}\n",
      "{'id': '39950459', 'title': 'Retrospective on 10 Years of colour-science', 'url': 'https://www.colour-science.org/posts/retrospective-on-10-years-of-colour-science/', 'rank': 1}\n",
      "{'id': '39966734', 'title': \"X's AI Bot Is Reporting Joke Posts as Actual News\", 'url': 'https://lifehacker.com/tech/grok-is-making-up-fake-news-on-x', 'rank': 1}\n",
      "{'id': '39962303', 'title': 'Diffoscope – In-depth comparison of files, archives, and directories', 'url': 'https://diffoscope.org/', 'rank': 1}\n",
      "{'id': '39964107', 'title': \"Wreck of Shackleton's 'Endurance' discovered in Antarctic depths (2022)\", 'url': 'https://www.smithsonianmag.com/smart-news/ernest-shackleton-ship-discovery-antarctic-explorer-history-180979702/', 'rank': 1}\n"
     ]
    }
   ],
   "source": [
    "for i in  range(10):\n",
    "    print(formatted_links[i])"
   ]
  },
  {
   "cell_type": "code",
   "execution_count": 7,
   "metadata": {
    "slideshow": {
     "slide_type": "subslide"
    }
   },
   "outputs": [],
   "source": [
    "#another example\n",
    "html_doc = \"\"\"\n",
    "<html><head><title>The Dormouse's story</title></head>\n",
    "<body>\n",
    "<p class=\"title\"><b>The Dormouse's story</b></p>\n",
    "\n",
    "<p class=\"story\">Once upon a time there were three little sisters; and their names were\n",
    "<a href=\"http://example.com/elsie\" class=\"sister\" id=\"link1\">Elsie</a>,\n",
    "<a href=\"http://example.com/lacie\" class=\"sister\" id=\"link2\">Lacie</a> and\n",
    "<a href=\"http://example.com/tillie\" class=\"sister\" id=\"link3\">Tillie</a>;\n",
    "and they lived at the bottom of a well.</p>\n",
    "\n",
    "<p class=\"story\">...</p>\n",
    "\"\"\""
   ]
  },
  {
   "cell_type": "code",
   "execution_count": 8,
   "metadata": {
    "slideshow": {
     "slide_type": "subslide"
    }
   },
   "outputs": [],
   "source": [
    "from bs4 import BeautifulSoup\n",
    "soup = BeautifulSoup(html_doc, 'html.parser')"
   ]
  },
  {
   "cell_type": "code",
   "execution_count": 9,
   "metadata": {
    "slideshow": {
     "slide_type": "fragment"
    }
   },
   "outputs": [
    {
     "data": {
      "text/plain": [
       "\"The Dormouse's story\""
      ]
     },
     "execution_count": 9,
     "metadata": {},
     "output_type": "execute_result"
    }
   ],
   "source": [
    "#get the clean title\n",
    "soup.title.string"
   ]
  },
  {
   "cell_type": "code",
   "execution_count": 10,
   "metadata": {
    "slideshow": {
     "slide_type": "fragment"
    }
   },
   "outputs": [
    {
     "name": "stdout",
     "output_type": "stream",
     "text": [
      "http://example.com/elsie\n",
      "http://example.com/lacie\n",
      "http://example.com/tillie\n"
     ]
    }
   ],
   "source": [
    "#iterate over all links\n",
    "for link in soup.find_all('a'):\n",
    "    print(link.get('href'))"
   ]
  },
  {
   "cell_type": "code",
   "execution_count": 11,
   "metadata": {
    "scrolled": false,
    "slideshow": {
     "slide_type": "subslide"
    }
   },
   "outputs": [
    {
     "name": "stdout",
     "output_type": "stream",
     "text": [
      "\n",
      "The Dormouse's story\n",
      "\n",
      "The Dormouse's story\n",
      "Once upon a time there were three little sisters; and their names were\n",
      "Elsie,\n",
      "Lacie and\n",
      "Tillie;\n",
      "and they lived at the bottom of a well.\n",
      "...\n",
      "\n"
     ]
    }
   ],
   "source": [
    "#get all text\n",
    "print(soup.get_text())"
   ]
  },
  {
   "cell_type": "markdown",
   "metadata": {
    "slideshow": {
     "slide_type": "subslide"
    }
   },
   "source": [
    "#### get table and convert to pandas\n",
    "Examle: https://www.w3schools.com/html/html_tables.asp"
   ]
  },
  {
   "cell_type": "code",
   "execution_count": 12,
   "metadata": {
    "slideshow": {
     "slide_type": "-"
    }
   },
   "outputs": [],
   "source": [
    "import bs4 as bs\n",
    "import urllib.request\n",
    "import pandas as pd\n",
    "\n",
    "source = urllib.request.urlopen('https://www.w3schools.com/html/html_tables.asp').read()\n",
    "soup = bs.BeautifulSoup(source,'lxml')\n",
    "\n",
    "table = soup.find_all('table')\n",
    "df = pd.read_html(str(table))[0]"
   ]
  },
  {
   "cell_type": "code",
   "execution_count": 13,
   "metadata": {
    "slideshow": {
     "slide_type": "-"
    }
   },
   "outputs": [
    {
     "data": {
      "text/html": [
       "<div>\n",
       "<style scoped>\n",
       "    .dataframe tbody tr th:only-of-type {\n",
       "        vertical-align: middle;\n",
       "    }\n",
       "\n",
       "    .dataframe tbody tr th {\n",
       "        vertical-align: top;\n",
       "    }\n",
       "\n",
       "    .dataframe thead th {\n",
       "        text-align: right;\n",
       "    }\n",
       "</style>\n",
       "<table border=\"1\" class=\"dataframe\">\n",
       "  <thead>\n",
       "    <tr style=\"text-align: right;\">\n",
       "      <th></th>\n",
       "      <th>Company</th>\n",
       "      <th>Contact</th>\n",
       "      <th>Country</th>\n",
       "    </tr>\n",
       "  </thead>\n",
       "  <tbody>\n",
       "    <tr>\n",
       "      <th>0</th>\n",
       "      <td>Alfreds Futterkiste</td>\n",
       "      <td>Maria Anders</td>\n",
       "      <td>Germany</td>\n",
       "    </tr>\n",
       "    <tr>\n",
       "      <th>1</th>\n",
       "      <td>Centro comercial Moctezuma</td>\n",
       "      <td>Francisco Chang</td>\n",
       "      <td>Mexico</td>\n",
       "    </tr>\n",
       "    <tr>\n",
       "      <th>2</th>\n",
       "      <td>Ernst Handel</td>\n",
       "      <td>Roland Mendel</td>\n",
       "      <td>Austria</td>\n",
       "    </tr>\n",
       "    <tr>\n",
       "      <th>3</th>\n",
       "      <td>Island Trading</td>\n",
       "      <td>Helen Bennett</td>\n",
       "      <td>UK</td>\n",
       "    </tr>\n",
       "    <tr>\n",
       "      <th>4</th>\n",
       "      <td>Laughing Bacchus Winecellars</td>\n",
       "      <td>Yoshi Tannamuri</td>\n",
       "      <td>Canada</td>\n",
       "    </tr>\n",
       "  </tbody>\n",
       "</table>\n",
       "</div>"
      ],
      "text/plain": [
       "                        Company          Contact  Country\n",
       "0           Alfreds Futterkiste     Maria Anders  Germany\n",
       "1    Centro comercial Moctezuma  Francisco Chang   Mexico\n",
       "2                  Ernst Handel    Roland Mendel  Austria\n",
       "3                Island Trading    Helen Bennett       UK\n",
       "4  Laughing Bacchus Winecellars  Yoshi Tannamuri   Canada"
      ]
     },
     "execution_count": 13,
     "metadata": {},
     "output_type": "execute_result"
    }
   ],
   "source": [
    "df.head()"
   ]
  },
  {
   "cell_type": "markdown",
   "metadata": {
    "slideshow": {
     "slide_type": "slide"
    }
   },
   "source": [
    "## Scaling Web-Scaraping wiht Scrapy\n",
    "#### Crowling the web\n",
    "\n",
    "<img SRC=\"IMG/scrapy.jpg\">\n",
    "\n",
    "#### [https://scrapy.org/](https://scrapy.org/)"
   ]
  },
  {
   "cell_type": "markdown",
   "metadata": {
    "slideshow": {
     "slide_type": "subslide"
    }
   },
   "source": [
    "#### Example\n",
    "\n",
    "Scraping [http://quotes.toscrape.com/page/1/](http://quotes.toscrape.com/page/1/)"
   ]
  },
  {
   "cell_type": "code",
   "execution_count": 14,
   "metadata": {
    "slideshow": {
     "slide_type": "subslide"
    }
   },
   "outputs": [
    {
     "name": "stdout",
     "output_type": "stream",
     "text": [
      "Writing myCrwler.py\n"
     ]
    }
   ],
   "source": [
    "%%writefile myCrwler.py \n",
    "\n",
    "import scrapy\n",
    "from scrapy.spiders import CrawlSpider, Rule\n",
    "from scrapy.linkextractors import LinkExtractor\n",
    "\n",
    "class TheFriendlyNeighbourhoodSpider(CrawlSpider):\n",
    "    name = 'TheFriendlyNeighbourhoodSpider'\n",
    "\n",
    "    allowed_domains = ['quotes.toscrape.com']\n",
    "    start_urls = ['http://quotes.toscrape.com/page/1/']\n",
    "\n",
    "    custom_settings = {\n",
    "    'LOG_LEVEL': 'INFO'\n",
    "    }\n",
    "\n",
    "    rules = (\n",
    "        Rule(LinkExtractor(), callback='parse_item', follow=True),\n",
    "    )\n",
    "\n",
    "\n",
    "    def parse_item(self, response):\n",
    "        print('Downloaded... ', response.url)\n",
    "        filename = \"download/\"+str(response.url.split(\"/\")[-2]) +  '.html'\n",
    "        print('Saving as :', filename)\n",
    "        with open(filename, 'wb') as f:\n",
    "            f.write(response.body)"
   ]
  },
  {
   "cell_type": "markdown",
   "metadata": {
    "slideshow": {
     "slide_type": "subslide"
    }
   },
   "source": [
    "### Run in Shell:"
   ]
  },
  {
   "cell_type": "code",
   "execution_count": 15,
   "metadata": {
    "scrolled": false,
    "slideshow": {
     "slide_type": "-"
    }
   },
   "outputs": [
    {
     "name": "stdout",
     "output_type": "stream",
     "text": [
      "2024-04-08 09:05:11 [scrapy.utils.log] INFO: Scrapy 2.8.0 started (bot: scrapybot)\n",
      "2024-04-08 09:05:11 [scrapy.utils.log] INFO: Versions: lxml 4.9.1.0, libxml2 2.9.14, cssselect 1.1.0, parsel 1.6.0, w3lib 1.21.0, Twisted 22.10.0, Python 3.11.4 (main, Jul  5 2023, 14:15:25) [GCC 11.2.0], pyOpenSSL 23.2.0 (OpenSSL 1.1.1u  30 May 2023), cryptography 41.0.2, Platform Linux-6.1.0-1036-oem-x86_64-with-glibc2.35\n",
      "2024-04-08 09:05:11 [scrapy.crawler] INFO: Overridden settings:\n",
      "{'LOG_LEVEL': 'INFO', 'SPIDER_LOADER_WARN_ONLY': True}\n",
      "2024-04-08 09:05:11 [py.warnings] WARNING: /home/keuper/anaconda3/lib/python3.11/site-packages/scrapy/utils/request.py:232: ScrapyDeprecationWarning: '2.6' is a deprecated value for the 'REQUEST_FINGERPRINTER_IMPLEMENTATION' setting.\n",
      "\n",
      "It is also the default value. In other words, it is normal to get this warning if you have not defined a value for the 'REQUEST_FINGERPRINTER_IMPLEMENTATION' setting. This is so for backward compatibility reasons, but it will change in a future version of Scrapy.\n",
      "\n",
      "See the documentation of the 'REQUEST_FINGERPRINTER_IMPLEMENTATION' setting for information on how to handle this deprecation.\n",
      "  return cls(crawler)\n",
      "\n",
      "2024-04-08 09:05:11 [scrapy.extensions.telnet] INFO: Telnet Password: 50cd564a60404e99\n",
      "2024-04-08 09:05:11 [scrapy.middleware] INFO: Enabled extensions:\n",
      "['scrapy.extensions.corestats.CoreStats',\n",
      " 'scrapy.extensions.telnet.TelnetConsole',\n",
      " 'scrapy.extensions.memusage.MemoryUsage',\n",
      " 'scrapy.extensions.logstats.LogStats']\n",
      "2024-04-08 09:05:11 [scrapy.middleware] INFO: Enabled downloader middlewares:\n",
      "['scrapy.downloadermiddlewares.httpauth.HttpAuthMiddleware',\n",
      " 'scrapy.downloadermiddlewares.downloadtimeout.DownloadTimeoutMiddleware',\n",
      " 'scrapy.downloadermiddlewares.defaultheaders.DefaultHeadersMiddleware',\n",
      " 'scrapy.downloadermiddlewares.useragent.UserAgentMiddleware',\n",
      " 'scrapy.downloadermiddlewares.retry.RetryMiddleware',\n",
      " 'scrapy.downloadermiddlewares.redirect.MetaRefreshMiddleware',\n",
      " 'scrapy.downloadermiddlewares.httpcompression.HttpCompressionMiddleware',\n",
      " 'scrapy.downloadermiddlewares.redirect.RedirectMiddleware',\n",
      " 'scrapy.downloadermiddlewares.cookies.CookiesMiddleware',\n",
      " 'scrapy.downloadermiddlewares.httpproxy.HttpProxyMiddleware',\n",
      " 'scrapy.downloadermiddlewares.stats.DownloaderStats']\n",
      "2024-04-08 09:05:11 [scrapy.middleware] INFO: Enabled spider middlewares:\n",
      "['scrapy.spidermiddlewares.httperror.HttpErrorMiddleware',\n",
      " 'scrapy.spidermiddlewares.offsite.OffsiteMiddleware',\n",
      " 'scrapy.spidermiddlewares.referer.RefererMiddleware',\n",
      " 'scrapy.spidermiddlewares.urllength.UrlLengthMiddleware',\n",
      " 'scrapy.spidermiddlewares.depth.DepthMiddleware']\n",
      "2024-04-08 09:05:11 [scrapy.middleware] INFO: Enabled item pipelines:\n",
      "[]\n",
      "2024-04-08 09:05:11 [scrapy.core.engine] INFO: Spider opened\n",
      "2024-04-08 09:05:11 [scrapy.extensions.logstats] INFO: Crawled 0 pages (at 0 pages/min), scraped 0 items (at 0 items/min)\n",
      "2024-04-08 09:05:11 [scrapy.extensions.telnet] INFO: Telnet console listening on 127.0.0.1:6023\n",
      "Downloaded...  http://quotes.toscrape.com/tag/adulthood/page/1/\n",
      "Saving as : download/1.html\n",
      "Downloaded...  http://quotes.toscrape.com/tag/success/page/1/\n",
      "Saving as : download/1.html\n",
      "Downloaded...  http://quotes.toscrape.com/tag/love/page/1/\n",
      "Saving as : download/1.html\n",
      "Downloaded...  http://quotes.toscrape.com/tag/value/page/1/\n",
      "Saving as : download/1.html\n",
      "Downloaded...  http://quotes.toscrape.com/tag/humor/page/1/\n",
      "Saving as : download/1.html\n",
      "Downloaded...  http://quotes.toscrape.com/tag/be-yourself/page/1/\n",
      "Saving as : download/1.html\n",
      "Downloaded...  http://quotes.toscrape.com/tag/aliteracy/page/1/\n",
      "Saving as : download/1.html\n",
      "Downloaded...  http://quotes.toscrape.com/tag/classic/page/1/\n",
      "Saving as : download/1.html\n",
      "Downloaded...  http://quotes.toscrape.com/tag/miracle/page/1/\n",
      "Saving as : download/1.html\n",
      "Downloaded...  http://quotes.toscrape.com/tag/books/page/1/\n",
      "Saving as : download/1.html\n",
      "Downloaded...  http://quotes.toscrape.com/tag/miracles/page/1/\n",
      "Saving as : download/1.html\n",
      "Downloaded...  http://quotes.toscrape.com/tag/live/page/1/\n",
      "Saving as : download/1.html\n",
      "Downloaded...  http://quotes.toscrape.com/author/Thomas-A-Edison/\n",
      "Saving as : download/Thomas-A-Edison.html\n",
      "Downloaded...  http://quotes.toscrape.com/author/Andre-Gide/\n",
      "Saving as : download/Andre-Gide.html\n",
      "Downloaded...  http://quotes.toscrape.com/tag/friends/\n",
      "Saving as : download/friends.html\n",
      "Downloaded...  http://quotes.toscrape.com/tag/friendship/\n",
      "Saving as : download/friendship.html\n",
      "Downloaded...  http://quotes.toscrape.com/tag/truth/\n",
      "Saving as : download/truth.html\n",
      "Downloaded...  http://quotes.toscrape.com/author/Marilyn-Monroe/\n",
      "Saving as : download/Marilyn-Monroe.html\n",
      "Downloaded...  http://quotes.toscrape.com/tag/simile/\n",
      "Saving as : download/simile.html\n",
      "Downloaded...  http://quotes.toscrape.com/tag/reading/\n",
      "Saving as : download/reading.html\n",
      "Downloaded...  http://quotes.toscrape.com/tag/books/\n",
      "Saving as : download/books.html\n",
      "Downloaded...  http://quotes.toscrape.com/tag/lies/page/1/\n",
      "Saving as : download/1.html\n",
      "Downloaded...  http://quotes.toscrape.com/author/Jane-Austen/\n",
      "Saving as : download/Jane-Austen.html\n",
      "Downloaded...  http://quotes.toscrape.com/tag/humor/page/2/\n",
      "Saving as : download/2.html\n",
      "Downloaded...  http://quotes.toscrape.com/tag/lying/page/1/\n",
      "Saving as : download/1.html\n",
      "Downloaded...  http://quotes.toscrape.com/tag/truth/page/1/\n",
      "Saving as : download/1.html\n",
      "Downloaded...  http://quotes.toscrape.com/tag/self-indulgence/page/1/\n",
      "Saving as : download/1.html\n",
      "Downloaded...  http://quotes.toscrape.com/tag/insanity/page/1/\n",
      "Saving as : download/1.html\n",
      "Downloaded...  http://quotes.toscrape.com/tag/write/page/1/\n",
      "Saving as : download/1.html\n",
      "Downloaded...  http://quotes.toscrape.com/tag/writers/page/1/\n",
      "Saving as : download/1.html\n",
      "Downloaded...  http://quotes.toscrape.com/tag/grown-ups/page/1/\n",
      "Saving as : download/1.html\n",
      "Downloaded...  http://quotes.toscrape.com/tag/books/page/2/\n",
      "Saving as : download/2.html\n",
      "Downloaded...  http://quotes.toscrape.com/tag/difficult/page/1/\n",
      "Saving as : download/1.html\n",
      "Downloaded...  http://quotes.toscrape.com/tag/children/page/1/\n",
      "Saving as : download/1.html\n",
      "Downloaded...  http://quotes.toscrape.com/tag/writing/page/1/\n",
      "Saving as : download/1.html\n",
      "Downloaded...  http://quotes.toscrape.com/tag/read/page/1/\n",
      "Saving as : download/1.html\n",
      "Downloaded...  http://quotes.toscrape.com/tag/seuss/page/1/\n",
      "Saving as : download/1.html\n",
      "Downloaded...  http://quotes.toscrape.com/author/George-Carlin/\n",
      "Saving as : download/George-Carlin.html\n",
      "Downloaded...  http://quotes.toscrape.com/tag/reading-books/page/1/\n",
      "Saving as : download/1.html\n",
      "Downloaded...  http://quotes.toscrape.com/tag/readers/page/1/\n",
      "Saving as : download/1.html\n",
      "Downloaded...  http://quotes.toscrape.com/tag/women/page/1/\n",
      "Saving as : download/1.html\n",
      "Downloaded...  http://quotes.toscrape.com/tag/romantic/page/1/\n",
      "Saving as : download/1.html\n",
      "Downloaded...  http://quotes.toscrape.com/author/Madeleine-LEngle/\n",
      "Saving as : download/Madeleine-LEngle.html\n",
      "Downloaded...  http://quotes.toscrape.com/tag/learning/page/1/\n",
      "Saving as : download/1.html\n",
      "Downloaded...  http://quotes.toscrape.com/tag/romance/page/1/\n",
      "Saving as : download/1.html\n",
      "Downloaded...  http://quotes.toscrape.com/tag/sinister/page/1/\n",
      "Saving as : download/1.html\n",
      "Downloaded...  http://quotes.toscrape.com/tag/drug/page/1/\n",
      "Saving as : download/1.html\n",
      "Downloaded...  http://quotes.toscrape.com/author/George-R-R-Martin/\n",
      "Saving as : download/George-R-R-Martin.html\n",
      "Downloaded...  http://quotes.toscrape.com/tag/good/page/1/\n",
      "Saving as : download/1.html\n",
      "Downloaded...  http://quotes.toscrape.com/tag/misattributed-to-c-s-lewis/page/1/\n",
      "Saving as : download/1.html\n",
      "Downloaded...  http://quotes.toscrape.com/author/William-Nicholson/\n",
      "Saving as : download/William-Nicholson.html\n",
      "Downloaded...  http://quotes.toscrape.com/tag/fairy-tales/page/1/\n",
      "Saving as : download/1.html\n",
      "Downloaded...  http://quotes.toscrape.com/tag/mind/page/1/\n",
      "Saving as : download/1.html\n",
      "Downloaded...  http://quotes.toscrape.com/tag/misattributed-mark-twain/page/1/\n",
      "Saving as : download/1.html\n",
      "Downloaded...  http://quotes.toscrape.com/tag/courage/page/1/\n",
      "Saving as : download/1.html\n",
      "Downloaded...  http://quotes.toscrape.com/tag/literature/page/1/\n",
      "Saving as : download/1.html\n",
      "Downloaded...  http://quotes.toscrape.com/author/W-C-Fields/\n",
      "Saving as : download/W-C-Fields.html\n",
      "Downloaded...  http://quotes.toscrape.com/tag/authors/page/1/\n",
      "Saving as : download/1.html\n",
      "Downloaded...  http://quotes.toscrape.com/tag/novelist-quotes/page/1/\n",
      "Saving as : download/1.html\n",
      "Downloaded...  http://quotes.toscrape.com/tag/thought/page/1/\n",
      "Saving as : download/1.html\n"
     ]
    },
    {
     "name": "stdout",
     "output_type": "stream",
     "text": [
      "Downloaded...  http://quotes.toscrape.com/tag/tea/page/1/\n",
      "Saving as : download/1.html\n",
      "Downloaded...  http://quotes.toscrape.com/author/Stephenie-Meyer/\n",
      "Saving as : download/Stephenie-Meyer.html\n",
      "Downloaded...  http://quotes.toscrape.com/tag/wisdom/page/1/\n",
      "Saving as : download/1.html\n",
      "Downloaded...  http://quotes.toscrape.com/tag/understanding/page/1/\n",
      "Saving as : download/1.html\n",
      "Downloaded...  http://quotes.toscrape.com/tag/knowledge/page/1/\n",
      "Saving as : download/1.html\n",
      "Downloaded...  http://quotes.toscrape.com/author/Alfred-Tennyson/\n",
      "Saving as : download/Alfred-Tennyson.html\n",
      "Downloaded...  http://quotes.toscrape.com/tag/library/page/1/\n",
      "Saving as : download/1.html\n",
      "Downloaded...  http://quotes.toscrape.com/author/J-D-Salinger/\n",
      "Saving as : download/J-D-Salinger.html\n",
      "Downloaded...  http://quotes.toscrape.com/tag/reading/page/1/\n",
      "Saving as : download/1.html\n",
      "Downloaded...  http://quotes.toscrape.com/tag/contentment/page/1/\n",
      "Saving as : download/1.html\n",
      "Downloaded...  http://quotes.toscrape.com/author/Ernest-Hemingway/\n",
      "Saving as : download/Ernest-Hemingway.html\n",
      "Downloaded...  http://quotes.toscrape.com/author/Haruki-Murakami/\n",
      "Saving as : download/Haruki-Murakami.html\n",
      "Downloaded...  http://quotes.toscrape.com/tag/open-mind/page/1/\n",
      "Saving as : download/1.html\n",
      "Downloaded...  http://quotes.toscrape.com/tag/food/page/1/\n",
      "Saving as : download/1.html\n",
      "Downloaded...  http://quotes.toscrape.com/author/C-S-Lewis/\n",
      "Saving as : download/C-S-Lewis.html\n",
      "Downloaded...  http://quotes.toscrape.com/tag/chocolate/page/1/\n",
      "Saving as : download/1.html\n",
      "Downloaded...  http://quotes.toscrape.com/author/Jorge-Luis-Borges/\n",
      "Saving as : download/Jorge-Luis-Borges.html\n",
      "Downloaded...  http://quotes.toscrape.com/author/Mark-Twain/\n",
      "Saving as : download/Mark-Twain.html\n",
      "Downloaded...  http://quotes.toscrape.com/tag/religion/page/1/\n",
      "Saving as : download/1.html\n",
      "Downloaded...  http://quotes.toscrape.com/author/Dr-Seuss/\n",
      "Saving as : download/Dr-Seuss.html\n",
      "Downloaded...  http://quotes.toscrape.com/tag/love/page/2/\n",
      "Saving as : download/2.html\n",
      "Downloaded...  http://quotes.toscrape.com/author/E-E-Cummings/\n",
      "Saving as : download/E-E-Cummings.html\n",
      "Downloaded...  http://quotes.toscrape.com/author/Suzanne-Collins/\n",
      "Saving as : download/Suzanne-Collins.html\n",
      "Downloaded...  http://quotes.toscrape.com/author/Charles-Bukowski/\n",
      "Saving as : download/Charles-Bukowski.html\n",
      "Downloaded...  http://quotes.toscrape.com/author/Terry-Pratchett/\n",
      "Saving as : download/Terry-Pratchett.html\n",
      "Downloaded...  http://quotes.toscrape.com/tag/girls/page/1/\n",
      "Saving as : download/1.html\n",
      "Downloaded...  http://quotes.toscrape.com/tag/poetry/page/1/\n",
      "Saving as : download/1.html\n",
      "Downloaded...  http://quotes.toscrape.com/tag/unhappy-marriage/page/1/\n",
      "Saving as : download/1.html\n",
      "Downloaded...  http://quotes.toscrape.com/author/Charles-M-Schulz/\n",
      "Saving as : download/Charles-M-Schulz.html\n",
      "Downloaded...  http://quotes.toscrape.com/tag/marriage/page/1/\n",
      "Saving as : download/1.html\n",
      "Downloaded...  http://quotes.toscrape.com/author/Garrison-Keillor/\n",
      "Saving as : download/Garrison-Keillor.html\n",
      "Downloaded...  http://quotes.toscrape.com/tag/lack-of-friendship/page/1/\n",
      "Saving as : download/1.html\n",
      "Downloaded...  http://quotes.toscrape.com/tag/lack-of-love/page/1/\n",
      "Saving as : download/1.html\n",
      "Downloaded...  http://quotes.toscrape.com/author/Jim-Henson/\n",
      "Saving as : download/Jim-Henson.html\n",
      "Downloaded...  http://quotes.toscrape.com/tag/friendship/page/1/\n",
      "Saving as : download/1.html\n",
      "Downloaded...  http://quotes.toscrape.com/tag/sun/page/1/\n",
      "Saving as : download/1.html\n",
      "Downloaded...  http://quotes.toscrape.com/tag/christianity/page/1/\n",
      "Saving as : download/1.html\n",
      "Downloaded...  http://quotes.toscrape.com/tag/adventure/page/1/\n",
      "Saving as : download/1.html\n",
      "Downloaded...  http://quotes.toscrape.com/author/James-Baldwin/\n",
      "Saving as : download/James-Baldwin.html\n",
      "Downloaded...  http://quotes.toscrape.com/tag/faith/page/1/\n",
      "Saving as : download/1.html\n",
      "Downloaded...  http://quotes.toscrape.com/author/Pablo-Neruda/\n",
      "Saving as : download/Pablo-Neruda.html\n",
      "Downloaded...  http://quotes.toscrape.com/tag/philosophy/page/1/\n",
      "Saving as : download/1.html\n",
      "Downloaded...  http://quotes.toscrape.com/tag/apathy/page/1/\n",
      "Saving as : download/1.html\n",
      "Downloaded...  http://quotes.toscrape.com/tag/activism/page/1/\n",
      "Saving as : download/1.html\n",
      "Downloaded...  http://quotes.toscrape.com/tag/indifference/page/1/\n",
      "Saving as : download/1.html\n",
      "Downloaded...  http://quotes.toscrape.com/tag/hate/page/1/\n",
      "Saving as : download/1.html\n",
      "Downloaded...  http://quotes.toscrape.com/tag/opposite/page/1/\n",
      "Saving as : download/1.html\n",
      "Downloaded...  http://quotes.toscrape.com/author/Friedrich-Nietzsche/\n",
      "Saving as : download/Friedrich-Nietzsche.html\n",
      "Downloaded...  http://quotes.toscrape.com/author/J-M-Barrie/\n",
      "Saving as : download/J-M-Barrie.html\n",
      "Downloaded...  http://quotes.toscrape.com/tag/sisters/page/1/\n",
      "Saving as : download/1.html\n",
      "Downloaded...  http://quotes.toscrape.com/tag/heartbreak/page/1/\n",
      "Saving as : download/1.html\n",
      "Downloaded...  http://quotes.toscrape.com/tag/humor/\n",
      "Saving as : download/humor.html\n",
      "Downloaded...  http://quotes.toscrape.com/tag/inspirational/\n",
      "Saving as : download/inspirational.html\n",
      "Downloaded...  http://quotes.toscrape.com/tag/friends/page/1/\n",
      "Saving as : download/1.html\n",
      "Downloaded...  http://quotes.toscrape.com/tag/life/\n",
      "Saving as : download/life.html\n",
      "Downloaded...  http://quotes.toscrape.com/tag/love/\n",
      "Saving as : download/love.html\n",
      "Downloaded...  http://quotes.toscrape.com/author/Bob-Marley/\n",
      "Saving as : download/Bob-Marley.html\n",
      "Downloaded...  http://quotes.toscrape.com/author/Elie-Wiesel/\n",
      "Saving as : download/Elie-Wiesel.html\n",
      "Downloaded...  http://quotes.toscrape.com/page/2/\n",
      "Saving as : download/2.html\n",
      "Downloaded...  http://quotes.toscrape.com/tag/simile/page/1/\n",
      "Saving as : download/1.html\n",
      "Downloaded...  http://quotes.toscrape.com/tag/misattributed-eleanor-roosevelt/page/1/\n",
      "Saving as : download/1.html\n",
      "Downloaded...  http://quotes.toscrape.com/tag/obvious/page/1/\n",
      "Saving as : download/1.html\n",
      "Downloaded...  http://quotes.toscrape.com/tag/paraphrased/page/1/\n",
      "Saving as : download/1.html\n",
      "Downloaded...  http://quotes.toscrape.com/tag/abilities/page/1/\n",
      "Saving as : download/1.html\n",
      "Downloaded...  http://quotes.toscrape.com/tag/choices/page/1/\n",
      "Saving as : download/1.html\n",
      "Downloaded...  http://quotes.toscrape.com/tag/life/page/1/\n",
      "Saving as : download/1.html\n",
      "Downloaded...  http://quotes.toscrape.com/tag/inspirational/page/1/\n",
      "Saving as : download/1.html\n",
      "Downloaded...  http://quotes.toscrape.com/author/Eleanor-Roosevelt/\n",
      "Saving as : download/Eleanor-Roosevelt.html\n",
      "Downloaded...  http://quotes.toscrape.com/author/Steve-Martin/\n",
      "Saving as : download/Steve-Martin.html\n",
      "Downloaded...  http://quotes.toscrape.com/tag/failure/page/1/\n",
      "Saving as : download/1.html\n",
      "Downloaded...  http://quotes.toscrape.com/tag/edison/page/1/\n",
      "Saving as : download/1.html\n",
      "Downloaded...  http://quotes.toscrape.com/tag/life/page/2/\n",
      "Saving as : download/2.html\n",
      "Downloaded...  http://quotes.toscrape.com/tag/regrets/page/1/\n",
      "Saving as : download/1.html\n",
      "Downloaded...  http://quotes.toscrape.com/tag/yourself/page/1/\n",
      "Saving as : download/1.html\n",
      "Downloaded...  http://quotes.toscrape.com/tag/comedy/page/1/\n",
      "Saving as : download/1.html\n",
      "Downloaded...  http://quotes.toscrape.com/page/3/\n",
      "Saving as : download/3.html\n",
      "Downloaded...  http://quotes.toscrape.com/tag/misattributed-to-mother-teresa/page/1/\n",
      "Saving as : download/1.html\n",
      "Downloaded...  http://quotes.toscrape.com/page/1/\n",
      "Saving as : download/1.html\n",
      "Downloaded...  http://quotes.toscrape.com/tag/fantasy/page/1/\n",
      "Saving as : download/1.html\n",
      "Downloaded...  http://quotes.toscrape.com/tag/understand/page/1/\n",
      "Saving as : download/1.html\n",
      "Downloaded...  http://quotes.toscrape.com/tag/simplicity/page/1/\n",
      "Saving as : download/1.html\n",
      "Downloaded...  http://quotes.toscrape.com/tag/plans/page/1/\n",
      "Saving as : download/1.html\n",
      "Downloaded...  http://quotes.toscrape.com/tag/planning/page/1/\n",
      "Saving as : download/1.html\n",
      "Downloaded...  http://quotes.toscrape.com/tag/misattributed-john-lennon/page/1/\n",
      "Saving as : download/1.html\n",
      "Downloaded...  http://quotes.toscrape.com/author/J-K-Rowling/\n",
      "Saving as : download/J-K-Rowling.html\n",
      "Downloaded...  http://quotes.toscrape.com/tag/fate/page/1/\n",
      "Saving as : download/1.html\n",
      "Downloaded...  http://quotes.toscrape.com/author/Ralph-Waldo-Emerson/\n",
      "Saving as : download/Ralph-Waldo-Emerson.html\n",
      "Downloaded...  http://quotes.toscrape.com/author/George-Bernard-Shaw/\n",
      "Saving as : download/George-Bernard-Shaw.html\n",
      "Downloaded...  http://quotes.toscrape.com/tag/navigation/page/1/\n",
      "Saving as : download/1.html\n"
     ]
    },
    {
     "name": "stdout",
     "output_type": "stream",
     "text": [
      "Downloaded...  http://quotes.toscrape.com/tag/inspirational/page/2/\n",
      "Saving as : download/2.html\n",
      "Downloaded...  http://quotes.toscrape.com/author/Mother-Teresa/\n",
      "Saving as : download/Mother-Teresa.html\n",
      "Downloaded...  http://quotes.toscrape.com/tag/attributed-no-source/page/1/\n",
      "Saving as : download/1.html\n",
      "Downloaded...  http://quotes.toscrape.com/tag/imagination/page/1/\n",
      "Saving as : download/1.html\n",
      "Downloaded...  http://quotes.toscrape.com/tag/music/page/1/\n",
      "Saving as : download/1.html\n",
      "Downloaded...  http://quotes.toscrape.com/page/4/\n",
      "Saving as : download/4.html\n",
      "Downloaded...  http://quotes.toscrape.com/author/Allen-Saunders/\n",
      "Saving as : download/Allen-Saunders.html\n",
      "Downloaded...  http://quotes.toscrape.com/author/Douglas-Adams/\n",
      "Saving as : download/Douglas-Adams.html\n",
      "Downloaded...  http://quotes.toscrape.com/tag/happiness/page/1/\n",
      "Saving as : download/1.html\n",
      "Downloaded...  http://quotes.toscrape.com/tag/hope/page/1/\n",
      "Saving as : download/1.html\n",
      "Downloaded...  http://quotes.toscrape.com/tag/death/page/1/\n",
      "Saving as : download/1.html\n",
      "Downloaded...  http://quotes.toscrape.com/author/Jimi-Hendrix/\n",
      "Saving as : download/Jimi-Hendrix.html\n",
      "Downloaded...  http://quotes.toscrape.com/tag/deep-thoughts/page/1/\n",
      "Saving as : download/1.html\n",
      "Downloaded...  http://quotes.toscrape.com/tag/thinking/page/1/\n",
      "Saving as : download/1.html\n",
      "Downloaded...  http://quotes.toscrape.com/author/Khaled-Hosseini/\n",
      "Saving as : download/Khaled-Hosseini.html\n",
      "Downloaded...  http://quotes.toscrape.com/tag/world/page/1/\n",
      "Saving as : download/1.html\n",
      "Downloaded...  http://quotes.toscrape.com/login\n",
      "Saving as : download/quotes.toscrape.com.html\n",
      "Downloaded...  http://quotes.toscrape.com/tag/change/page/1/\n",
      "Saving as : download/1.html\n",
      "Downloaded...  http://quotes.toscrape.com/author/Martin-Luther-King-Jr/\n",
      "Saving as : download/Martin-Luther-King-Jr.html\n",
      "Downloaded...  http://quotes.toscrape.com/author/Helen-Keller/\n",
      "Saving as : download/Helen-Keller.html\n",
      "Downloaded...  http://quotes.toscrape.com/page/5/\n",
      "Saving as : download/5.html\n",
      "Downloaded...  http://quotes.toscrape.com/author/George-Eliot/\n",
      "Saving as : download/George-Eliot.html\n",
      "Downloaded...  http://quotes.toscrape.com/tag/dumbledore/page/1/\n",
      "Saving as : download/1.html\n",
      "Downloaded...  http://quotes.toscrape.com/tag/peace/page/1/\n",
      "Saving as : download/1.html\n",
      "Downloaded...  http://quotes.toscrape.com/tag/dreaming/page/1/\n",
      "Saving as : download/1.html\n",
      "Downloaded...  http://quotes.toscrape.com/tag/dreams/page/1/\n",
      "Saving as : download/1.html\n",
      "Downloaded...  http://quotes.toscrape.com/author/Albert-Einstein/\n",
      "Saving as : download/Albert-Einstein.html\n",
      "Downloaded...  http://quotes.toscrape.com/tag/dreamers/page/1/\n",
      "Saving as : download/1.html\n",
      "Downloaded...  http://quotes.toscrape.com/tag/connection/page/1/\n",
      "Saving as : download/1.html\n",
      "Downloaded...  http://quotes.toscrape.com/tag/beatles/page/1/\n",
      "Saving as : download/1.html\n",
      "Downloaded...  http://quotes.toscrape.com/\n",
      "Saving as : download/quotes.toscrape.com.html\n",
      "Downloaded...  http://quotes.toscrape.com/page/6/\n",
      "Saving as : download/6.html\n",
      "Downloaded...  http://quotes.toscrape.com/author/John-Lennon/\n",
      "Saving as : download/John-Lennon.html\n",
      "Downloaded...  http://quotes.toscrape.com/tag/inspiration/page/1/\n",
      "Saving as : download/1.html\n",
      "Downloaded...  http://quotes.toscrape.com/tag/fear/page/1/\n",
      "Saving as : download/1.html\n",
      "Downloaded...  http://quotes.toscrape.com/tag/attributed/page/1/\n",
      "Saving as : download/1.html\n",
      "Downloaded...  http://quotes.toscrape.com/page/7/\n",
      "Saving as : download/7.html\n",
      "Downloaded...  http://quotes.toscrape.com/tag/misattributed-to-einstein/page/1/\n",
      "Saving as : download/1.html\n",
      "Downloaded...  http://quotes.toscrape.com/author/Alexandre-Dumas-fils/\n",
      "Saving as : download/Alexandre-Dumas-fils.html\n",
      "Downloaded...  http://quotes.toscrape.com/page/8/\n",
      "Saving as : download/8.html\n",
      "Downloaded...  http://quotes.toscrape.com/tag/troubles/page/1/\n",
      "Saving as : download/1.html\n",
      "Downloaded...  http://quotes.toscrape.com/tag/travel/page/1/\n",
      "Saving as : download/1.html\n",
      "Downloaded...  http://quotes.toscrape.com/tag/education/page/1/\n",
      "Saving as : download/1.html\n",
      "Downloaded...  http://quotes.toscrape.com/tag/quest/page/1/\n",
      "Saving as : download/1.html\n",
      "Downloaded...  http://quotes.toscrape.com/tag/wander/page/1/\n",
      "Saving as : download/1.html\n",
      "Downloaded...  http://quotes.toscrape.com/tag/lost/page/1/\n",
      "Saving as : download/1.html\n",
      "Downloaded...  http://quotes.toscrape.com/tag/live-death-love/page/1/\n",
      "Saving as : download/1.html\n",
      "Downloaded...  http://quotes.toscrape.com/tag/the-hunger-games/page/1/\n",
      "Saving as : download/1.html\n",
      "Downloaded...  http://quotes.toscrape.com/tag/journey/page/1/\n",
      "Saving as : download/1.html\n",
      "Downloaded...  http://quotes.toscrape.com/tag/alcohol/page/1/\n",
      "Saving as : download/1.html\n",
      "Downloaded...  http://quotes.toscrape.com/tag/bilbo/page/1/\n",
      "Saving as : download/1.html\n",
      "Downloaded...  http://quotes.toscrape.com/author/J-R-R-Tolkien/\n",
      "Saving as : download/J-R-R-Tolkien.html\n",
      "Downloaded...  http://quotes.toscrape.com/page/9/\n",
      "Saving as : download/9.html\n",
      "Downloaded...  http://quotes.toscrape.com/author/Ayn-Rand/\n",
      "Saving as : download/Ayn-Rand.html\n",
      "Downloaded...  http://quotes.toscrape.com/tag/age/page/1/\n",
      "Saving as : download/1.html\n",
      "Downloaded...  http://quotes.toscrape.com/tag/elizabeth-bennet/page/1/\n",
      "Saving as : download/1.html\n",
      "Downloaded...  http://quotes.toscrape.com/tag/growing-up/page/1/\n",
      "Saving as : download/1.html\n",
      "Downloaded...  http://quotes.toscrape.com/tag/jane-austen/page/1/\n",
      "Saving as : download/1.html\n",
      "Downloaded...  http://quotes.toscrape.com/tag/mistakes/page/1/\n",
      "Saving as : download/1.html\n",
      "Downloaded...  http://quotes.toscrape.com/tag/god/page/1/\n",
      "Saving as : download/1.html\n",
      "Downloaded...  http://quotes.toscrape.com/tag/fairytales/page/1/\n",
      "Saving as : download/1.html\n",
      "Downloaded...  http://quotes.toscrape.com/page/10/\n",
      "Saving as : download/10.html\n",
      "Downloaded...  http://quotes.toscrape.com/tag/integrity/page/1/\n",
      "Saving as : download/1.html\n",
      "Downloaded...  http://quotes.toscrape.com/author/Harper-Lee/\n",
      "Saving as : download/Harper-Lee.html\n",
      "Downloaded...  http://quotes.toscrape.com/tag/better-life-empathy/page/1/\n",
      "Saving as : download/1.html\n",
      "2024-04-08 09:05:19 [scrapy.core.engine] INFO: Closing spider (finished)\n",
      "2024-04-08 09:05:19 [scrapy.statscollectors] INFO: Dumping Scrapy stats:\n",
      "{'downloader/request_bytes': 85667,\n",
      " 'downloader/request_count': 265,\n",
      " 'downloader/request_method_count/GET': 265,\n",
      " 'downloader/response_bytes': 311666,\n",
      " 'downloader/response_count': 265,\n",
      " 'downloader/response_status_count/200': 215,\n",
      " 'downloader/response_status_count/308': 50,\n",
      " 'dupefilter/filtered': 3378,\n",
      " 'elapsed_time_seconds': 7.246185,\n",
      " 'finish_reason': 'finished',\n",
      " 'finish_time': datetime.datetime(2024, 4, 8, 7, 5, 19, 168968),\n",
      " 'httpcompression/response_bytes': 1024175,\n",
      " 'httpcompression/response_count': 215,\n",
      " 'log_count/INFO': 10,\n",
      " 'log_count/WARNING': 1,\n",
      " 'memusage/max': 119377920,\n",
      " 'memusage/startup': 119377920,\n",
      " 'offsite/domains': 2,\n",
      " 'offsite/filtered': 430,\n",
      " 'request_depth_max': 11,\n",
      " 'response_received_count': 215,\n",
      " 'scheduler/dequeued': 265,\n",
      " 'scheduler/dequeued/memory': 265,\n",
      " 'scheduler/enqueued': 265,\n",
      " 'scheduler/enqueued/memory': 265,\n",
      " 'start_time': datetime.datetime(2024, 4, 8, 7, 5, 11, 922783)}\n",
      "2024-04-08 09:05:19 [scrapy.core.engine] INFO: Spider closed (finished)\n"
     ]
    }
   ],
   "source": [
    "#This would produce all the linked HTML file we can use for analysis \n",
    "!mkdir download\n",
    "!scrapy runspider myCrwler.py"
   ]
  },
  {
   "cell_type": "code",
   "execution_count": 16,
   "metadata": {
    "slideshow": {
     "slide_type": "subslide"
    }
   },
   "outputs": [
    {
     "name": "stdout",
     "output_type": "stream",
     "text": [
      "10.html\t\t\t   Eleanor-Roosevelt.html    Jorge-Luis-Borges.html\r\n",
      "1.html\t\t\t   Elie-Wiesel.html\t     J-R-R-Tolkien.html\r\n",
      "2.html\t\t\t   Ernest-Hemingway.html     Khaled-Hosseini.html\r\n",
      "3.html\t\t\t   Friedrich-Nietzsche.html  life.html\r\n",
      "4.html\t\t\t   friendship.html\t     love.html\r\n",
      "5.html\t\t\t   friends.html\t\t     Madeleine-LEngle.html\r\n",
      "6.html\t\t\t   Garrison-Keillor.html     Marilyn-Monroe.html\r\n",
      "7.html\t\t\t   George-Bernard-Shaw.html  Mark-Twain.html\r\n",
      "8.html\t\t\t   George-Carlin.html\t     Martin-Luther-King-Jr.html\r\n",
      "9.html\t\t\t   George-Eliot.html\t     Mother-Teresa.html\r\n",
      "Albert-Einstein.html\t   George-R-R-Martin.html    Pablo-Neruda.html\r\n",
      "Alexandre-Dumas-fils.html  Harper-Lee.html\t     quotes.toscrape.com.html\r\n",
      "Alfred-Tennyson.html\t   Haruki-Murakami.html      Ralph-Waldo-Emerson.html\r\n",
      "Allen-Saunders.html\t   Helen-Keller.html\t     reading.html\r\n",
      "Andre-Gide.html\t\t   humor.html\t\t     simile.html\r\n",
      "Ayn-Rand.html\t\t   inspirational.html\t     Stephenie-Meyer.html\r\n",
      "Bob-Marley.html\t\t   James-Baldwin.html\t     Steve-Martin.html\r\n",
      "books.html\t\t   Jane-Austen.html\t     Suzanne-Collins.html\r\n",
      "Charles-Bukowski.html\t   J-D-Salinger.html\t     Terry-Pratchett.html\r\n",
      "Charles-M-Schulz.html\t   Jim-Henson.html\t     Thomas-A-Edison.html\r\n",
      "C-S-Lewis.html\t\t   Jimi-Hendrix.html\t     truth.html\r\n",
      "Douglas-Adams.html\t   J-K-Rowling.html\t     W-C-Fields.html\r\n",
      "Dr-Seuss.html\t\t   J-M-Barrie.html\t     William-Nicholson.html\r\n",
      "E-E-Cummings.html\t   John-Lennon.html\r\n"
     ]
    }
   ],
   "source": [
    "!ls download"
   ]
  },
  {
   "cell_type": "markdown",
   "metadata": {
    "slideshow": {
     "slide_type": "slide"
    }
   },
   "source": [
    "## Scraping PDFs\n",
    "* using ``tabula-py``\n",
    "* Docu: https://tabula-py.readthedocs.io/en/latest/"
   ]
  },
  {
   "cell_type": "code",
   "execution_count": 17,
   "metadata": {
    "slideshow": {
     "slide_type": "fragment"
    }
   },
   "outputs": [
    {
     "name": "stdout",
     "output_type": "stream",
     "text": [
      "Collecting tabula-py\n",
      "  Obtaining dependency information for tabula-py from https://files.pythonhosted.org/packages/d5/77/b34088cbb55ba59e1cc6512ab2ff3b7679102b7f7577982a96cbdcddb90c/tabula_py-2.9.0-py3-none-any.whl.metadata\n",
      "  Downloading tabula_py-2.9.0-py3-none-any.whl.metadata (7.5 kB)\n",
      "Requirement already satisfied: pandas>=0.25.3 in /home/keuper/anaconda3/lib/python3.11/site-packages (from tabula-py) (1.5.3)\n",
      "Requirement already satisfied: numpy in /home/keuper/anaconda3/lib/python3.11/site-packages (from tabula-py) (1.24.3)\n",
      "Requirement already satisfied: distro in /home/keuper/anaconda3/lib/python3.11/site-packages (from tabula-py) (1.9.0)\n",
      "Requirement already satisfied: python-dateutil>=2.8.1 in /home/keuper/anaconda3/lib/python3.11/site-packages (from pandas>=0.25.3->tabula-py) (2.8.2)\n",
      "Requirement already satisfied: pytz>=2020.1 in /home/keuper/anaconda3/lib/python3.11/site-packages (from pandas>=0.25.3->tabula-py) (2022.7)\n",
      "Requirement already satisfied: six>=1.5 in /home/keuper/anaconda3/lib/python3.11/site-packages (from python-dateutil>=2.8.1->pandas>=0.25.3->tabula-py) (1.16.0)\n",
      "Downloading tabula_py-2.9.0-py3-none-any.whl (12.0 MB)\n",
      "\u001b[2K   \u001b[38;2;114;156;31m━━━━━━━━━━━━━━━━━━━━━━━━━━━━━━━━━━━━━━━━\u001b[0m \u001b[32m12.0/12.0 MB\u001b[0m \u001b[31m11.5 MB/s\u001b[0m eta \u001b[36m0:00:00\u001b[0mm eta \u001b[36m0:00:01\u001b[0m[36m0:00:01\u001b[0m\n",
      "\u001b[?25hInstalling collected packages: tabula-py\n",
      "Successfully installed tabula-py-2.9.0\n",
      "Note: you may need to restart the kernel to use updated packages.\n"
     ]
    }
   ],
   "source": [
    "pip install tabula-py"
   ]
  },
  {
   "cell_type": "markdown",
   "metadata": {
    "slideshow": {
     "slide_type": "subslide"
    }
   },
   "source": [
    "#### Example: \n",
    "* a UN report as [PDF](https://www.un.org/en/development/desa/population/publications/pdf/urbanization/the_worlds_cities_in_2016_data_booklet.pdf)"
   ]
  },
  {
   "cell_type": "code",
   "execution_count": 6,
   "metadata": {
    "scrolled": true,
    "slideshow": {
     "slide_type": "fragment"
    }
   },
   "outputs": [
    {
     "ename": "HTTPError",
     "evalue": "HTTP Error 403: Forbidden",
     "output_type": "error",
     "traceback": [
      "\u001b[0;31m---------------------------------------------------------------------------\u001b[0m",
      "\u001b[0;31mHTTPError\u001b[0m                                 Traceback (most recent call last)",
      "Cell \u001b[0;32mIn[6], line 5\u001b[0m\n\u001b[1;32m      2\u001b[0m url\u001b[38;5;241m=\u001b[39m \u001b[38;5;124m\"\u001b[39m\u001b[38;5;124mhttps://www.un.org/en/development/desa/population/publications/pdf/urbanization/the_worlds_cities_in_2016_data_booklet.pdf\u001b[39m\u001b[38;5;124m\"\u001b[39m\n\u001b[1;32m      4\u001b[0m \u001b[38;5;66;03m#get table on page 4\u001b[39;00m\n\u001b[0;32m----> 5\u001b[0m df \u001b[38;5;241m=\u001b[39m tabula\u001b[38;5;241m.\u001b[39mread_pdf(url,  pages\u001b[38;5;241m=\u001b[39m\u001b[38;5;124m'\u001b[39m\u001b[38;5;124m6\u001b[39m\u001b[38;5;124m'\u001b[39m)\n",
      "File \u001b[0;32m~/anaconda3/lib/python3.11/site-packages/tabula/io.py:386\u001b[0m, in \u001b[0;36mread_pdf\u001b[0;34m(input_path, output_format, encoding, java_options, pandas_options, multiple_tables, user_agent, use_raw_url, pages, guess, area, relative_area, lattice, stream, password, silent, columns, relative_columns, format, batch, output_path, force_subprocess, options)\u001b[0m\n\u001b[1;32m    366\u001b[0m     \u001b[38;5;28mformat\u001b[39m \u001b[38;5;241m=\u001b[39m \u001b[38;5;124m\"\u001b[39m\u001b[38;5;124mJSON\u001b[39m\u001b[38;5;124m\"\u001b[39m\n\u001b[1;32m    368\u001b[0m tabula_options \u001b[38;5;241m=\u001b[39m TabulaOption(\n\u001b[1;32m    369\u001b[0m     pages\u001b[38;5;241m=\u001b[39mpages,\n\u001b[1;32m    370\u001b[0m     guess\u001b[38;5;241m=\u001b[39mguess,\n\u001b[0;32m   (...)\u001b[0m\n\u001b[1;32m    383\u001b[0m     multiple_tables\u001b[38;5;241m=\u001b[39mmultiple_tables,\n\u001b[1;32m    384\u001b[0m )\n\u001b[0;32m--> 386\u001b[0m path, temporary \u001b[38;5;241m=\u001b[39m localize_file(input_path, user_agent, use_raw_url\u001b[38;5;241m=\u001b[39muse_raw_url)\n\u001b[1;32m    388\u001b[0m \u001b[38;5;28;01mif\u001b[39;00m \u001b[38;5;129;01mnot\u001b[39;00m os\u001b[38;5;241m.\u001b[39mpath\u001b[38;5;241m.\u001b[39mexists(path):\n\u001b[1;32m    389\u001b[0m     \u001b[38;5;28;01mraise\u001b[39;00m \u001b[38;5;167;01mFileNotFoundError\u001b[39;00m(errno\u001b[38;5;241m.\u001b[39mENOENT, os\u001b[38;5;241m.\u001b[39mstrerror(errno\u001b[38;5;241m.\u001b[39mENOENT), path)\n",
      "File \u001b[0;32m~/anaconda3/lib/python3.11/site-packages/tabula/file_util.py:59\u001b[0m, in \u001b[0;36mlocalize_file\u001b[0;34m(path_or_buffer, user_agent, suffix, use_raw_url)\u001b[0m\n\u001b[1;32m     57\u001b[0m     req \u001b[38;5;241m=\u001b[39m urlopen(_create_request(path_or_buffer, user_agent))\n\u001b[1;32m     58\u001b[0m \u001b[38;5;28;01melse\u001b[39;00m:\n\u001b[0;32m---> 59\u001b[0m     req \u001b[38;5;241m=\u001b[39m urlopen(path_or_buffer)\n\u001b[1;32m     61\u001b[0m parsed_url \u001b[38;5;241m=\u001b[39m urlparse(req\u001b[38;5;241m.\u001b[39mgeturl())\n\u001b[1;32m     62\u001b[0m filename \u001b[38;5;241m=\u001b[39m os\u001b[38;5;241m.\u001b[39mpath\u001b[38;5;241m.\u001b[39mbasename(parsed_url\u001b[38;5;241m.\u001b[39mpath)\n",
      "File \u001b[0;32m~/anaconda3/lib/python3.11/urllib/request.py:216\u001b[0m, in \u001b[0;36murlopen\u001b[0;34m(url, data, timeout, cafile, capath, cadefault, context)\u001b[0m\n\u001b[1;32m    214\u001b[0m \u001b[38;5;28;01melse\u001b[39;00m:\n\u001b[1;32m    215\u001b[0m     opener \u001b[38;5;241m=\u001b[39m _opener\n\u001b[0;32m--> 216\u001b[0m \u001b[38;5;28;01mreturn\u001b[39;00m opener\u001b[38;5;241m.\u001b[39mopen(url, data, timeout)\n",
      "File \u001b[0;32m~/anaconda3/lib/python3.11/urllib/request.py:525\u001b[0m, in \u001b[0;36mOpenerDirector.open\u001b[0;34m(self, fullurl, data, timeout)\u001b[0m\n\u001b[1;32m    523\u001b[0m \u001b[38;5;28;01mfor\u001b[39;00m processor \u001b[38;5;129;01min\u001b[39;00m \u001b[38;5;28mself\u001b[39m\u001b[38;5;241m.\u001b[39mprocess_response\u001b[38;5;241m.\u001b[39mget(protocol, []):\n\u001b[1;32m    524\u001b[0m     meth \u001b[38;5;241m=\u001b[39m \u001b[38;5;28mgetattr\u001b[39m(processor, meth_name)\n\u001b[0;32m--> 525\u001b[0m     response \u001b[38;5;241m=\u001b[39m meth(req, response)\n\u001b[1;32m    527\u001b[0m \u001b[38;5;28;01mreturn\u001b[39;00m response\n",
      "File \u001b[0;32m~/anaconda3/lib/python3.11/urllib/request.py:634\u001b[0m, in \u001b[0;36mHTTPErrorProcessor.http_response\u001b[0;34m(self, request, response)\u001b[0m\n\u001b[1;32m    631\u001b[0m \u001b[38;5;66;03m# According to RFC 2616, \"2xx\" code indicates that the client's\u001b[39;00m\n\u001b[1;32m    632\u001b[0m \u001b[38;5;66;03m# request was successfully received, understood, and accepted.\u001b[39;00m\n\u001b[1;32m    633\u001b[0m \u001b[38;5;28;01mif\u001b[39;00m \u001b[38;5;129;01mnot\u001b[39;00m (\u001b[38;5;241m200\u001b[39m \u001b[38;5;241m<\u001b[39m\u001b[38;5;241m=\u001b[39m code \u001b[38;5;241m<\u001b[39m \u001b[38;5;241m300\u001b[39m):\n\u001b[0;32m--> 634\u001b[0m     response \u001b[38;5;241m=\u001b[39m \u001b[38;5;28mself\u001b[39m\u001b[38;5;241m.\u001b[39mparent\u001b[38;5;241m.\u001b[39merror(\n\u001b[1;32m    635\u001b[0m         \u001b[38;5;124m'\u001b[39m\u001b[38;5;124mhttp\u001b[39m\u001b[38;5;124m'\u001b[39m, request, response, code, msg, hdrs)\n\u001b[1;32m    637\u001b[0m \u001b[38;5;28;01mreturn\u001b[39;00m response\n",
      "File \u001b[0;32m~/anaconda3/lib/python3.11/urllib/request.py:563\u001b[0m, in \u001b[0;36mOpenerDirector.error\u001b[0;34m(self, proto, *args)\u001b[0m\n\u001b[1;32m    561\u001b[0m \u001b[38;5;28;01mif\u001b[39;00m http_err:\n\u001b[1;32m    562\u001b[0m     args \u001b[38;5;241m=\u001b[39m (\u001b[38;5;28mdict\u001b[39m, \u001b[38;5;124m'\u001b[39m\u001b[38;5;124mdefault\u001b[39m\u001b[38;5;124m'\u001b[39m, \u001b[38;5;124m'\u001b[39m\u001b[38;5;124mhttp_error_default\u001b[39m\u001b[38;5;124m'\u001b[39m) \u001b[38;5;241m+\u001b[39m orig_args\n\u001b[0;32m--> 563\u001b[0m     \u001b[38;5;28;01mreturn\u001b[39;00m \u001b[38;5;28mself\u001b[39m\u001b[38;5;241m.\u001b[39m_call_chain(\u001b[38;5;241m*\u001b[39margs)\n",
      "File \u001b[0;32m~/anaconda3/lib/python3.11/urllib/request.py:496\u001b[0m, in \u001b[0;36mOpenerDirector._call_chain\u001b[0;34m(self, chain, kind, meth_name, *args)\u001b[0m\n\u001b[1;32m    494\u001b[0m \u001b[38;5;28;01mfor\u001b[39;00m handler \u001b[38;5;129;01min\u001b[39;00m handlers:\n\u001b[1;32m    495\u001b[0m     func \u001b[38;5;241m=\u001b[39m \u001b[38;5;28mgetattr\u001b[39m(handler, meth_name)\n\u001b[0;32m--> 496\u001b[0m     result \u001b[38;5;241m=\u001b[39m func(\u001b[38;5;241m*\u001b[39margs)\n\u001b[1;32m    497\u001b[0m     \u001b[38;5;28;01mif\u001b[39;00m result \u001b[38;5;129;01mis\u001b[39;00m \u001b[38;5;129;01mnot\u001b[39;00m \u001b[38;5;28;01mNone\u001b[39;00m:\n\u001b[1;32m    498\u001b[0m         \u001b[38;5;28;01mreturn\u001b[39;00m result\n",
      "File \u001b[0;32m~/anaconda3/lib/python3.11/urllib/request.py:643\u001b[0m, in \u001b[0;36mHTTPDefaultErrorHandler.http_error_default\u001b[0;34m(self, req, fp, code, msg, hdrs)\u001b[0m\n\u001b[1;32m    642\u001b[0m \u001b[38;5;28;01mdef\u001b[39;00m \u001b[38;5;21mhttp_error_default\u001b[39m(\u001b[38;5;28mself\u001b[39m, req, fp, code, msg, hdrs):\n\u001b[0;32m--> 643\u001b[0m     \u001b[38;5;28;01mraise\u001b[39;00m HTTPError(req\u001b[38;5;241m.\u001b[39mfull_url, code, msg, hdrs, fp)\n",
      "\u001b[0;31mHTTPError\u001b[0m: HTTP Error 403: Forbidden"
     ]
    }
   ],
   "source": [
    "import tabula\n",
    "url= \"https://www.un.org/en/development/desa/population/publications/pdf/urbanization/the_worlds_cities_in_2016_data_booklet.pdf\"\n",
    "\n",
    "#get table on page 4\n",
    "df = tabula.read_pdf(url,  pages='6')\n"
   ]
  },
  {
   "cell_type": "code",
   "execution_count": 29,
   "metadata": {
    "slideshow": {
     "slide_type": "subslide"
    }
   },
   "outputs": [
    {
     "data": {
      "text/html": [
       "<div>\n",
       "<style scoped>\n",
       "    .dataframe tbody tr th:only-of-type {\n",
       "        vertical-align: middle;\n",
       "    }\n",
       "\n",
       "    .dataframe tbody tr th {\n",
       "        vertical-align: top;\n",
       "    }\n",
       "\n",
       "    .dataframe thead th {\n",
       "        text-align: right;\n",
       "    }\n",
       "</style>\n",
       "<table border=\"1\" class=\"dataframe\">\n",
       "  <thead>\n",
       "    <tr style=\"text-align: right;\">\n",
       "      <th></th>\n",
       "      <th>Of the world’s 31 megacities (that is,</th>\n",
       "      <th>Unnamed: 0</th>\n",
       "      <th>Population</th>\n",
       "      <th>Unnamed: 1</th>\n",
       "      <th>Population.1</th>\n",
       "    </tr>\n",
       "  </thead>\n",
       "  <tbody>\n",
       "    <tr>\n",
       "      <th>0</th>\n",
       "      <td>NaN</td>\n",
       "      <td>NaN</td>\n",
       "      <td>in 2016</td>\n",
       "      <td>NaN</td>\n",
       "      <td>in 2030</td>\n",
       "    </tr>\n",
       "    <tr>\n",
       "      <th>1</th>\n",
       "      <td>cities with 10 million inhabitants or Rank</td>\n",
       "      <td>City, Country</td>\n",
       "      <td>(thousands)</td>\n",
       "      <td>City, Country</td>\n",
       "      <td>(thousands)</td>\n",
       "    </tr>\n",
       "    <tr>\n",
       "      <th>2</th>\n",
       "      <td>more) in 2016, 24 are located in the 1</td>\n",
       "      <td>Tokyo, Japan</td>\n",
       "      <td>38 140</td>\n",
       "      <td>Tokyo, Japan</td>\n",
       "      <td>37 190</td>\n",
       "    </tr>\n",
       "    <tr>\n",
       "      <th>3</th>\n",
       "      <td>less developed regions or the “global 2 3</td>\n",
       "      <td>Delhi, India Shanghai, China</td>\n",
       "      <td>26 454 24 484</td>\n",
       "      <td>Delhi, India Shanghai, China</td>\n",
       "      <td>36 06030 751</td>\n",
       "    </tr>\n",
       "    <tr>\n",
       "      <th>4</th>\n",
       "      <td>South”.  China alone was home to six 4</td>\n",
       "      <td>Mumbai (Bombay), India</td>\n",
       "      <td>21 357</td>\n",
       "      <td>Mumbai (Bombay), India</td>\n",
       "      <td>27 797</td>\n",
       "    </tr>\n",
       "    <tr>\n",
       "      <th>5</th>\n",
       "      <td>megacities in 2016, while India had 5</td>\n",
       "      <td>São Paulo, Brazil</td>\n",
       "      <td>21 297</td>\n",
       "      <td>Beijing, China</td>\n",
       "      <td>27 706</td>\n",
       "    </tr>\n",
       "    <tr>\n",
       "      <th>6</th>\n",
       "      <td>27 374five. 6 7</td>\n",
       "      <td>Beijing, China Ciudad de México (Mexico City),...</td>\n",
       "      <td>21 240 21 157</td>\n",
       "      <td>Dhaka, Bangladesh Karachi, Pakistan</td>\n",
       "      <td>24 838</td>\n",
       "    </tr>\n",
       "    <tr>\n",
       "      <th>7</th>\n",
       "      <td>8</td>\n",
       "      <td>Kinki M.M.A. (Osaka), Japan</td>\n",
       "      <td>20 337</td>\n",
       "      <td>Al-Qahirah (Cairo), Egypt</td>\n",
       "      <td>24 502</td>\n",
       "    </tr>\n",
       "    <tr>\n",
       "      <th>8</th>\n",
       "      <td>The 10 cities that are projected to be- 9</td>\n",
       "      <td>Al-Qahirah (Cairo), Egypt</td>\n",
       "      <td>19 128</td>\n",
       "      <td>Lagos, Nigeria</td>\n",
       "      <td>24 239</td>\n",
       "    </tr>\n",
       "    <tr>\n",
       "      <th>9</th>\n",
       "      <td>10</td>\n",
       "      <td>New York-Newark, USA</td>\n",
       "      <td>18 604</td>\n",
       "      <td>Ciudad de México (Mexico City), Mexico</td>\n",
       "      <td>23 865</td>\n",
       "    </tr>\n",
       "  </tbody>\n",
       "</table>\n",
       "</div>"
      ],
      "text/plain": [
       "       Of the world’s 31 megacities (that is,  \\\n",
       "0                                         NaN   \n",
       "1  cities with 10 million inhabitants or Rank   \n",
       "2      more) in 2016, 24 are located in the 1   \n",
       "3   less developed regions or the “global 2 3   \n",
       "4      South”.  China alone was home to six 4   \n",
       "5       megacities in 2016, while India had 5   \n",
       "6                             27 374five. 6 7   \n",
       "7                                           8   \n",
       "8   The 10 cities that are projected to be- 9   \n",
       "9                                          10   \n",
       "\n",
       "                                          Unnamed: 0     Population  \\\n",
       "0                                                NaN        in 2016   \n",
       "1                                      City, Country    (thousands)   \n",
       "2                                       Tokyo, Japan         38 140   \n",
       "3                       Delhi, India Shanghai, China  26 454 24 484   \n",
       "4                             Mumbai (Bombay), India         21 357   \n",
       "5                                  São Paulo, Brazil         21 297   \n",
       "6  Beijing, China Ciudad de México (Mexico City),...  21 240 21 157   \n",
       "7                        Kinki M.M.A. (Osaka), Japan         20 337   \n",
       "8                          Al-Qahirah (Cairo), Egypt         19 128   \n",
       "9                               New York-Newark, USA         18 604   \n",
       "\n",
       "                               Unnamed: 1  Population.1  \n",
       "0                                     NaN       in 2030  \n",
       "1                           City, Country   (thousands)  \n",
       "2                            Tokyo, Japan        37 190  \n",
       "3            Delhi, India Shanghai, China  36 06030 751  \n",
       "4                  Mumbai (Bombay), India        27 797  \n",
       "5                          Beijing, China        27 706  \n",
       "6     Dhaka, Bangladesh Karachi, Pakistan        24 838  \n",
       "7               Al-Qahirah (Cairo), Egypt        24 502  \n",
       "8                          Lagos, Nigeria        24 239  \n",
       "9  Ciudad de México (Mexico City), Mexico        23 865  "
      ]
     },
     "execution_count": 29,
     "metadata": {},
     "output_type": "execute_result"
    }
   ],
   "source": [
    "#returns list of all tables - get the first one\n",
    "df[0].head(10)"
   ]
  },
  {
   "cell_type": "markdown",
   "metadata": {
    "slideshow": {
     "slide_type": "slide"
    }
   },
   "source": [
    "# Discussion"
   ]
  }
 ],
 "metadata": {
  "celltoolbar": "Slideshow",
  "kernelspec": {
   "display_name": "Python 3 (ipykernel)",
   "language": "python",
   "name": "python3"
  },
  "language_info": {
   "codemirror_mode": {
    "name": "ipython",
    "version": 3
   },
   "file_extension": ".py",
   "mimetype": "text/x-python",
   "name": "python",
   "nbconvert_exporter": "python",
   "pygments_lexer": "ipython3",
   "version": "3.11.4"
  },
  "livereveal": {
   "enable_chalkboard": true,
   "footer": "Janis Keuper - SS24",
   "header": "Data Engineering + MLops"
  }
 },
 "nbformat": 4,
 "nbformat_minor": 4
}
