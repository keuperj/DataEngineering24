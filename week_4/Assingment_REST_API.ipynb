{
 "cells": [
  {
   "cell_type": "markdown",
   "metadata": {
    "id": "i4ERP83H6BAs"
   },
   "source": [
    "# Assignment Rest API\n"
   ]
  },
  {
   "cell_type": "code",
   "execution_count": 1,
   "metadata": {
    "colab": {
     "base_uri": "https://localhost:8080/"
    },
    "id": "F5SrIgvv6BAv",
    "outputId": "9fbcbc6f-543a-4fdd-989c-ba40c6185c31"
   },
   "outputs": [
    {
     "name": "stdout",
     "output_type": "stream",
     "text": [
      "Note: you may need to restart the kernel to use updated packages.\n"
     ]
    }
   ],
   "source": [
    "pip install --quiet requests "
   ]
  },
  {
   "cell_type": "code",
   "execution_count": 2,
   "metadata": {
    "id": "gRX8iN3I6BAx"
   },
   "outputs": [],
   "source": [
    "import pandas as pd\n",
    "import requests\n"
   ]
  },
  {
   "cell_type": "markdown",
   "metadata": {
    "id": "Jv8ICUgm6BA0"
   },
   "source": [
    "### REST API\n",
    "#### Using data from [https://www.energidataservice.dk](https://www.energidataservice.dk) \n",
    "\n",
    "We look at real time energy production: https://www.energidataservice.dk/tso-electricity/electricityprodex5minrealtime"
   ]
  },
  {
   "cell_type": "code",
   "execution_count": 3,
   "metadata": {
    "id": "EoosWmpA6BA1"
   },
   "outputs": [],
   "source": [
    "import pandas as pd\n",
    "import requests\n",
    "from pandas import json_normalize"
   ]
  },
  {
   "cell_type": "code",
   "execution_count": 8,
   "metadata": {
    "colab": {
     "base_uri": "https://localhost:8080/",
     "height": 357
    },
    "id": "czTWVgCt6BA2",
    "outputId": "4875f5bf-99d2-4457-9c4f-84becf353ba2",
    "scrolled": true
   },
   "outputs": [
    {
     "data": {
      "text/html": [
       "\n",
       "  <div id=\"df-923e02e1-d802-4837-9f8e-8aa67c186b79\">\n",
       "    <div class=\"colab-df-container\">\n",
       "      <div>\n",
       "<style scoped>\n",
       "    .dataframe tbody tr th:only-of-type {\n",
       "        vertical-align: middle;\n",
       "    }\n",
       "\n",
       "    .dataframe tbody tr th {\n",
       "        vertical-align: top;\n",
       "    }\n",
       "\n",
       "    .dataframe thead th {\n",
       "        text-align: right;\n",
       "    }\n",
       "</style>\n",
       "<table border=\"1\" class=\"dataframe\">\n",
       "  <thead>\n",
       "    <tr style=\"text-align: right;\">\n",
       "      <th></th>\n",
       "      <th>Minutes5UTC</th>\n",
       "      <th>Minutes5DK</th>\n",
       "      <th>PriceArea</th>\n",
       "      <th>ProductionLt100MW</th>\n",
       "      <th>ProductionGe100MW</th>\n",
       "      <th>OffshoreWindPower</th>\n",
       "      <th>OnshoreWindPower</th>\n",
       "      <th>SolarPower</th>\n",
       "      <th>ExchangeGreatBelt</th>\n",
       "      <th>ExchangeGermany</th>\n",
       "      <th>ExchangeNetherlands</th>\n",
       "      <th>ExchangeNorway</th>\n",
       "      <th>ExchangeSweden</th>\n",
       "      <th>BornholmSE4</th>\n",
       "    </tr>\n",
       "  </thead>\n",
       "  <tbody>\n",
       "    <tr>\n",
       "      <th>0</th>\n",
       "      <td>2023-06-06T17:55:00</td>\n",
       "      <td>2023-06-06T19:55:00</td>\n",
       "      <td>DK1</td>\n",
       "      <td>283.429993</td>\n",
       "      <td>377.920013</td>\n",
       "      <td>319.230011</td>\n",
       "      <td>228.179993</td>\n",
       "      <td>236.270004</td>\n",
       "      <td>-88.269997</td>\n",
       "      <td>-1160.060059</td>\n",
       "      <td>700.070007</td>\n",
       "      <td>802.820007</td>\n",
       "      <td>715.000000</td>\n",
       "      <td>NaN</td>\n",
       "    </tr>\n",
       "    <tr>\n",
       "      <th>1</th>\n",
       "      <td>2023-06-06T17:55:00</td>\n",
       "      <td>2023-06-06T19:55:00</td>\n",
       "      <td>DK2</td>\n",
       "      <td>106.400002</td>\n",
       "      <td>128.630005</td>\n",
       "      <td>36.009998</td>\n",
       "      <td>36.119999</td>\n",
       "      <td>67.080002</td>\n",
       "      <td>88.269997</td>\n",
       "      <td>-167.500000</td>\n",
       "      <td>NaN</td>\n",
       "      <td>NaN</td>\n",
       "      <td>1073.619995</td>\n",
       "      <td>18.170000</td>\n",
       "    </tr>\n",
       "    <tr>\n",
       "      <th>2</th>\n",
       "      <td>2023-06-06T17:50:00</td>\n",
       "      <td>2023-06-06T19:50:00</td>\n",
       "      <td>DK1</td>\n",
       "      <td>282.279999</td>\n",
       "      <td>364.850006</td>\n",
       "      <td>329.769989</td>\n",
       "      <td>242.740005</td>\n",
       "      <td>259.670013</td>\n",
       "      <td>-124.120003</td>\n",
       "      <td>-1135.500000</td>\n",
       "      <td>700.070007</td>\n",
       "      <td>803.000000</td>\n",
       "      <td>716.000000</td>\n",
       "      <td>NaN</td>\n",
       "    </tr>\n",
       "    <tr>\n",
       "      <th>3</th>\n",
       "      <td>2023-06-06T17:50:00</td>\n",
       "      <td>2023-06-06T19:50:00</td>\n",
       "      <td>DK2</td>\n",
       "      <td>106.230003</td>\n",
       "      <td>128.630005</td>\n",
       "      <td>36.910000</td>\n",
       "      <td>35.860001</td>\n",
       "      <td>73.550003</td>\n",
       "      <td>124.120003</td>\n",
       "      <td>-168.539993</td>\n",
       "      <td>NaN</td>\n",
       "      <td>NaN</td>\n",
       "      <td>1031.569946</td>\n",
       "      <td>17.719999</td>\n",
       "    </tr>\n",
       "    <tr>\n",
       "      <th>4</th>\n",
       "      <td>2023-06-06T17:45:00</td>\n",
       "      <td>2023-06-06T19:45:00</td>\n",
       "      <td>DK1</td>\n",
       "      <td>281.890015</td>\n",
       "      <td>338.890015</td>\n",
       "      <td>321.850006</td>\n",
       "      <td>249.529999</td>\n",
       "      <td>285.589996</td>\n",
       "      <td>-151.160004</td>\n",
       "      <td>-1107.560059</td>\n",
       "      <td>700.070007</td>\n",
       "      <td>803.150024</td>\n",
       "      <td>716.000000</td>\n",
       "      <td>NaN</td>\n",
       "    </tr>\n",
       "  </tbody>\n",
       "</table>\n",
       "</div>\n",
       "      <button class=\"colab-df-convert\" onclick=\"convertToInteractive('df-923e02e1-d802-4837-9f8e-8aa67c186b79')\"\n",
       "              title=\"Convert this dataframe to an interactive table.\"\n",
       "              style=\"display:none;\">\n",
       "        \n",
       "  <svg xmlns=\"http://www.w3.org/2000/svg\" height=\"24px\"viewBox=\"0 0 24 24\"\n",
       "       width=\"24px\">\n",
       "    <path d=\"M0 0h24v24H0V0z\" fill=\"none\"/>\n",
       "    <path d=\"M18.56 5.44l.94 2.06.94-2.06 2.06-.94-2.06-.94-.94-2.06-.94 2.06-2.06.94zm-11 1L8.5 8.5l.94-2.06 2.06-.94-2.06-.94L8.5 2.5l-.94 2.06-2.06.94zm10 10l.94 2.06.94-2.06 2.06-.94-2.06-.94-.94-2.06-.94 2.06-2.06.94z\"/><path d=\"M17.41 7.96l-1.37-1.37c-.4-.4-.92-.59-1.43-.59-.52 0-1.04.2-1.43.59L10.3 9.45l-7.72 7.72c-.78.78-.78 2.05 0 2.83L4 21.41c.39.39.9.59 1.41.59.51 0 1.02-.2 1.41-.59l7.78-7.78 2.81-2.81c.8-.78.8-2.07 0-2.86zM5.41 20L4 18.59l7.72-7.72 1.47 1.35L5.41 20z\"/>\n",
       "  </svg>\n",
       "      </button>\n",
       "      \n",
       "  <style>\n",
       "    .colab-df-container {\n",
       "      display:flex;\n",
       "      flex-wrap:wrap;\n",
       "      gap: 12px;\n",
       "    }\n",
       "\n",
       "    .colab-df-convert {\n",
       "      background-color: #E8F0FE;\n",
       "      border: none;\n",
       "      border-radius: 50%;\n",
       "      cursor: pointer;\n",
       "      display: none;\n",
       "      fill: #1967D2;\n",
       "      height: 32px;\n",
       "      padding: 0 0 0 0;\n",
       "      width: 32px;\n",
       "    }\n",
       "\n",
       "    .colab-df-convert:hover {\n",
       "      background-color: #E2EBFA;\n",
       "      box-shadow: 0px 1px 2px rgba(60, 64, 67, 0.3), 0px 1px 3px 1px rgba(60, 64, 67, 0.15);\n",
       "      fill: #174EA6;\n",
       "    }\n",
       "\n",
       "    [theme=dark] .colab-df-convert {\n",
       "      background-color: #3B4455;\n",
       "      fill: #D2E3FC;\n",
       "    }\n",
       "\n",
       "    [theme=dark] .colab-df-convert:hover {\n",
       "      background-color: #434B5C;\n",
       "      box-shadow: 0px 1px 3px 1px rgba(0, 0, 0, 0.15);\n",
       "      filter: drop-shadow(0px 1px 2px rgba(0, 0, 0, 0.3));\n",
       "      fill: #FFFFFF;\n",
       "    }\n",
       "  </style>\n",
       "\n",
       "      <script>\n",
       "        const buttonEl =\n",
       "          document.querySelector('#df-923e02e1-d802-4837-9f8e-8aa67c186b79 button.colab-df-convert');\n",
       "        buttonEl.style.display =\n",
       "          google.colab.kernel.accessAllowed ? 'block' : 'none';\n",
       "\n",
       "        async function convertToInteractive(key) {\n",
       "          const element = document.querySelector('#df-923e02e1-d802-4837-9f8e-8aa67c186b79');\n",
       "          const dataTable =\n",
       "            await google.colab.kernel.invokeFunction('convertToInteractive',\n",
       "                                                     [key], {});\n",
       "          if (!dataTable) return;\n",
       "\n",
       "          const docLinkHtml = 'Like what you see? Visit the ' +\n",
       "            '<a target=\"_blank\" href=https://colab.research.google.com/notebooks/data_table.ipynb>data table notebook</a>'\n",
       "            + ' to learn more about interactive tables.';\n",
       "          element.innerHTML = '';\n",
       "          dataTable['output_type'] = 'display_data';\n",
       "          await google.colab.output.renderOutput(dataTable, element);\n",
       "          const docLink = document.createElement('div');\n",
       "          docLink.innerHTML = docLinkHtml;\n",
       "          element.appendChild(docLink);\n",
       "        }\n",
       "      </script>\n",
       "    </div>\n",
       "  </div>\n",
       "  "
      ],
      "text/plain": [
       "           Minutes5UTC           Minutes5DK PriceArea  ProductionLt100MW  \\\n",
       "0  2023-06-06T17:55:00  2023-06-06T19:55:00       DK1         283.429993   \n",
       "1  2023-06-06T17:55:00  2023-06-06T19:55:00       DK2         106.400002   \n",
       "2  2023-06-06T17:50:00  2023-06-06T19:50:00       DK1         282.279999   \n",
       "3  2023-06-06T17:50:00  2023-06-06T19:50:00       DK2         106.230003   \n",
       "4  2023-06-06T17:45:00  2023-06-06T19:45:00       DK1         281.890015   \n",
       "\n",
       "   ProductionGe100MW  OffshoreWindPower  OnshoreWindPower  SolarPower  \\\n",
       "0         377.920013         319.230011        228.179993  236.270004   \n",
       "1         128.630005          36.009998         36.119999   67.080002   \n",
       "2         364.850006         329.769989        242.740005  259.670013   \n",
       "3         128.630005          36.910000         35.860001   73.550003   \n",
       "4         338.890015         321.850006        249.529999  285.589996   \n",
       "\n",
       "   ExchangeGreatBelt  ExchangeGermany  ExchangeNetherlands  ExchangeNorway  \\\n",
       "0         -88.269997     -1160.060059           700.070007      802.820007   \n",
       "1          88.269997      -167.500000                  NaN             NaN   \n",
       "2        -124.120003     -1135.500000           700.070007      803.000000   \n",
       "3         124.120003      -168.539993                  NaN             NaN   \n",
       "4        -151.160004     -1107.560059           700.070007      803.150024   \n",
       "\n",
       "   ExchangeSweden  BornholmSE4  \n",
       "0      715.000000          NaN  \n",
       "1     1073.619995    18.170000  \n",
       "2      716.000000          NaN  \n",
       "3     1031.569946    17.719999  \n",
       "4      716.000000          NaN  "
      ]
     },
     "execution_count": 8,
     "metadata": {},
     "output_type": "execute_result"
    }
   ],
   "source": [
    "#get data from an open energy data service provider\n",
    "url = 'https://api.energidataservice.dk/dataset/ElectricityProdex5MinRealtime?limit=500'\n",
    "\n",
    "response = requests.get(url)\n",
    "dictr = response.json() #parse json to dict\n",
    "recs = dictr['records'] \n",
    "df = json_normalize(recs) #flatten json files into data frame\n",
    "df.head()"
   ]
  },
  {
   "cell_type": "markdown",
   "metadata": {
    "id": "Mvbc44FU6BA2"
   },
   "source": [
    "#### 1\n",
    "Compute overview statistics (mean, variance, quantiles, counts,...) for all variables. Hint: there is a single pandas call to get this ..."
   ]
  },
  {
   "cell_type": "code",
   "execution_count": null,
   "metadata": {
    "id": "fxwaetEh6BA3"
   },
   "outputs": [],
   "source": []
  },
  {
   "cell_type": "markdown",
   "metadata": {
    "id": "HF5BITpp6BA3"
   },
   "source": [
    "#### 2 \n",
    "Compute the average ***OffshoreWindPower*** by each day for the last 7 days.\n",
    "* hint: you need to check the API to query the right data "
   ]
  },
  {
   "cell_type": "code",
   "execution_count": null,
   "metadata": {
    "id": "mbNuQhpK6BA3"
   },
   "outputs": [],
   "source": []
  },
  {
   "cell_type": "code",
   "execution_count": null,
   "metadata": {
    "id": "Yalol8LX6BA4"
   },
   "outputs": [],
   "source": []
  }
 ],
 "metadata": {
  "colab": {
   "name": "Assingment_Data_Scraping.ipynb",
   "provenance": []
  },
  "kernelspec": {
   "display_name": "Python 3 (ipykernel)",
   "language": "python",
   "name": "python3"
  },
  "language_info": {
   "codemirror_mode": {
    "name": "ipython",
    "version": 3
   },
   "file_extension": ".py",
   "mimetype": "text/x-python",
   "name": "python",
   "nbconvert_exporter": "python",
   "pygments_lexer": "ipython3",
   "version": "3.11.4"
  }
 },
 "nbformat": 4,
 "nbformat_minor": 1
}
