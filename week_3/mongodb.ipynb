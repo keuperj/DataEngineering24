{
 "cells": [
  {
   "cell_type": "markdown",
   "metadata": {
    "id": "_lw_aqybYaYH"
   },
   "source": [
    "\n",
    "\n",
    "# MongoDB\n",
    "* [PyMongo Docs](https://pymongo.readthedocs.io/en/stable/index.html)"
   ]
  },
  {
   "cell_type": "markdown",
   "metadata": {
    "id": "dE59TO-iaZIj"
   },
   "source": [
    "## MongoDB setup"
   ]
  },
  {
   "cell_type": "code",
   "execution_count": 11,
   "metadata": {
    "colab": {
     "base_uri": "https://localhost:8080/"
    },
    "id": "t0VnC7fubHM2",
    "outputId": "cee8f11f-9463-4c3b-fd44-4d5a08f0c3bc"
   },
   "outputs": [
    {
     "name": "stdout",
     "output_type": "stream",
     "text": [
      "\n",
      "WARNING: apt does not have a stable CLI interface. Use with caution in scripts.\n",
      "\n",
      " * Starting database mongodb\n",
      "   ...done.\n"
     ]
    }
   ],
   "source": [
    "!apt install mongodb >log\n",
    "!service mongodb start"
   ]
  },
  {
   "cell_type": "code",
   "execution_count": 7,
   "metadata": {
    "colab": {
     "base_uri": "https://localhost:8080/"
    },
    "id": "ZbtTfOfvawuy",
    "outputId": "d3efbd19-2055-46dc-e853-b654d8816e53"
   },
   "outputs": [
    {
     "name": "stdout",
     "output_type": "stream",
     "text": [
      "Looking in indexes: https://pypi.org/simple, https://us-python.pkg.dev/colab-wheels/public/simple/\n",
      "Collecting pymongo\n",
      "  Downloading pymongo-4.3.3-cp310-cp310-manylinux_2_17_x86_64.manylinux2014_x86_64.whl (492 kB)\n",
      "\u001b[2K     \u001b[90m━━━━━━━━━━━━━━━━━━━━━━━━━━━━━━━━━━━━━━\u001b[0m \u001b[32m492.9/492.9 kB\u001b[0m \u001b[31m20.1 MB/s\u001b[0m eta \u001b[36m0:00:00\u001b[0m\n",
      "\u001b[?25hCollecting dnspython<3.0.0,>=1.16.0 (from pymongo)\n",
      "  Downloading dnspython-2.3.0-py3-none-any.whl (283 kB)\n",
      "\u001b[2K     \u001b[90m━━━━━━━━━━━━━━━━━━━━━━━━━━━━━━━━━━━━━━\u001b[0m \u001b[32m283.7/283.7 kB\u001b[0m \u001b[31m25.9 MB/s\u001b[0m eta \u001b[36m0:00:00\u001b[0m\n",
      "\u001b[?25hInstalling collected packages: dnspython, pymongo\n",
      "Successfully installed dnspython-2.3.0 pymongo-4.3.3\n"
     ]
    }
   ],
   "source": [
    "#install python interface\n",
    "!pip install pymongo"
   ]
  },
  {
   "cell_type": "markdown",
   "metadata": {
    "id": "WC8VZ34DbQWm"
   },
   "source": [
    "## Connect to local DB"
   ]
  },
  {
   "cell_type": "code",
   "execution_count": 12,
   "metadata": {
    "id": "phjIyU7CYaYX"
   },
   "outputs": [],
   "source": [
    "#NOTE: this will only work if you have a local MongoDB Server running \n",
    "\n",
    "#import MongoDB client module\n",
    "from pymongo import MongoClient\n",
    "import warnings\n",
    "warnings.filterwarnings('ignore') \n",
    "#connect to MongoDB on localhost\n",
    "client = MongoClient()\n"
   ]
  },
  {
   "cell_type": "code",
   "execution_count": 13,
   "metadata": {
    "colab": {
     "base_uri": "https://localhost:8080/"
    },
    "id": "OZ7LMn4cYaYX",
    "outputId": "5eca4fdf-f605-49e2-b30f-e4a01f349653"
   },
   "outputs": [
    {
     "data": {
      "text/plain": [
       "frozenset({('localhost', 27017)})"
      ]
     },
     "execution_count": 13,
     "metadata": {},
     "output_type": "execute_result"
    }
   ],
   "source": [
    "#how many worker nodes are working in th MongoDB Cluster?\n",
    "client.nodes"
   ]
  },
  {
   "cell_type": "code",
   "execution_count": 15,
   "metadata": {
    "id": "il_zX8QpYaYY"
   },
   "outputs": [],
   "source": [
    "#use test DB\n",
    "db = client.test_database    "
   ]
  },
  {
   "cell_type": "markdown",
   "metadata": {
    "id": "O0ngg3FYcGX4"
   },
   "source": [
    "## Assignment\n",
    "* Create new DB called \"restaurants\" and import the given data as new collection\n",
    "* Give queries for the following tasks:\n",
    "  * A. Write a MongoDB query to display all the restaurant which is in the borough Bronx.\n",
    "  * B. Write a MongoDB query to display the first 5 restaurant which is in the borough Bronx.\n",
    "  * C. Write a MongoDB query to find the restaurants which locate in latitude value less than -95.754168.\n",
    "  * D. Write a MongoDB query to find the restaurant Id, name, borough and cuisine for those restaurants which contain 'Wil' as first three letters for its name.\n",
    "  * E. Write a MongoDB query to arranged the name of the cuisine in ascending order and for that same cuisine borough should be in descending order."
   ]
  },
  {
   "cell_type": "code",
   "execution_count": null,
   "metadata": {
    "id": "33g3GlkycHfP"
   },
   "outputs": [],
   "source": [
    "#get data\n",
    "!wget https://raw.githubusercontent.com/mongodb/docs-assets/primer-dataset/primer-dataset.json"
   ]
  }
 ],
 "metadata": {
  "celltoolbar": "Slideshow",
  "colab": {
   "provenance": []
  },
  "kernelspec": {
   "display_name": "Python 3 (ipykernel)",
   "language": "python",
   "name": "python3"
  },
  "language_info": {
   "codemirror_mode": {
    "name": "ipython",
    "version": 3
   },
   "file_extension": ".py",
   "mimetype": "text/x-python",
   "name": "python",
   "nbconvert_exporter": "python",
   "pygments_lexer": "ipython3",
   "version": "3.11.4"
  },
  "livereveal": {
   "enable_chalkboard": true,
   "footer": "Janis Keuper - SS22",
   "header": "Data Engineering"
  }
 },
 "nbformat": 4,
 "nbformat_minor": 1
}
