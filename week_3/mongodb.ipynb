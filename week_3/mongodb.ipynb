{
  "cells": [
    {
      "cell_type": "markdown",
      "metadata": {
        "id": "_lw_aqybYaYH"
      },
      "source": [
        "\n",
        "\n",
        "# MongoDB\n",
        "* [PyMongo Docs](https://pymongo.readthedocs.io/en/stable/index.html)"
      ]
    },
    {
      "cell_type": "code",
      "source": [
        "# MongoDB download and installation\n",
        "# latest binary from: https://www.mongodb.com/try/download/community\n",
        "!wget  https://fastdl.mongodb.org/linux/mongodb-linux-x86_64-ubuntu2204-7.0.7.tgz # Downloads MongoDB from official repository\n",
        "!tar xfv mongodb-linux-x86_64-ubuntu2204-7.0.7.tgz     # Unpack compressed file\n",
        "!rm mongodb-linux-x86_64-ubuntu2204-7.0.7.tgz         # Removes downloaded file\n",
        "\n",
        "# Default location of database is \"/data/db\" folder\n",
        "!mkdir data                                          # data folder creation\n",
        "!mkdir data/db"
      ],
      "metadata": {
        "colab": {
          "base_uri": "https://localhost:8080/"
        },
        "id": "ImOuW3DPcnZc",
        "outputId": "8c60c2c0-0f63-4974-f995-de7f5d41b0a8"
      },
      "execution_count": 11,
      "outputs": [
        {
          "output_type": "stream",
          "name": "stdout",
          "text": [
            "--2024-04-01 16:16:21--  https://fastdl.mongodb.org/linux/mongodb-linux-x86_64-ubuntu2204-7.0.7.tgz\n",
            "Resolving fastdl.mongodb.org (fastdl.mongodb.org)... 18.154.101.124, 18.154.101.72, 18.154.101.57, ...\n",
            "Connecting to fastdl.mongodb.org (fastdl.mongodb.org)|18.154.101.124|:443... connected.\n",
            "HTTP request sent, awaiting response... 200 OK\n",
            "Length: 85286525 (81M) [application/gzip]\n",
            "Saving to: ‘mongodb-linux-x86_64-ubuntu2204-7.0.7.tgz’\n",
            "\n",
            "mongodb-linux-x86_6 100%[===================>]  81.33M   215MB/s    in 0.4s    \n",
            "\n",
            "2024-04-01 16:16:22 (215 MB/s) - ‘mongodb-linux-x86_64-ubuntu2204-7.0.7.tgz’ saved [85286525/85286525]\n",
            "\n",
            "mongodb-linux-x86_64-ubuntu2204-7.0.7/LICENSE-Community.txt\n",
            "mongodb-linux-x86_64-ubuntu2204-7.0.7/MPL-2\n",
            "mongodb-linux-x86_64-ubuntu2204-7.0.7/README\n",
            "mongodb-linux-x86_64-ubuntu2204-7.0.7/THIRD-PARTY-NOTICES\n",
            "mongodb-linux-x86_64-ubuntu2204-7.0.7/bin/install_compass\n",
            "mongodb-linux-x86_64-ubuntu2204-7.0.7/bin/mongod\n",
            "mongodb-linux-x86_64-ubuntu2204-7.0.7/bin/mongos\n"
          ]
        }
      ]
    },
    {
      "cell_type": "code",
      "source": [
        "#start MomgoDB Server\n",
        "import subprocess\n",
        "p=subprocess.Popen(['/content/mongodb-linux-x86_64-ubuntu2204-7.0.7/bin/mongod', '--dbpath', '/data/db'])\n",
        "#p.wait()"
      ],
      "metadata": {
        "id": "iJiA0YqAcsgA"
      },
      "execution_count": 13,
      "outputs": []
    },
    {
      "cell_type": "markdown",
      "metadata": {
        "id": "dE59TO-iaZIj"
      },
      "source": [
        "## MongoDB setup"
      ]
    },
    {
      "cell_type": "code",
      "execution_count": 14,
      "metadata": {
        "colab": {
          "base_uri": "https://localhost:8080/"
        },
        "id": "ZbtTfOfvawuy",
        "outputId": "ede7038b-f6f9-45a8-f102-76a18789e6a2"
      },
      "outputs": [
        {
          "output_type": "stream",
          "name": "stdout",
          "text": [
            "Collecting pymongo\n",
            "  Downloading pymongo-4.6.3-cp310-cp310-manylinux_2_17_x86_64.manylinux2014_x86_64.whl (676 kB)\n",
            "\u001b[2K     \u001b[90m━━━━━━━━━━━━━━━━━━━━━━━━━━━━━━━━━━━━━━━━\u001b[0m \u001b[32m676.9/676.9 kB\u001b[0m \u001b[31m4.5 MB/s\u001b[0m eta \u001b[36m0:00:00\u001b[0m\n",
            "\u001b[?25hCollecting dnspython<3.0.0,>=1.16.0 (from pymongo)\n",
            "  Downloading dnspython-2.6.1-py3-none-any.whl (307 kB)\n",
            "\u001b[2K     \u001b[90m━━━━━━━━━━━━━━━━━━━━━━━━━━━━━━━━━━━━━━━━\u001b[0m \u001b[32m307.7/307.7 kB\u001b[0m \u001b[31m6.6 MB/s\u001b[0m eta \u001b[36m0:00:00\u001b[0m\n",
            "\u001b[?25hInstalling collected packages: dnspython, pymongo\n",
            "Successfully installed dnspython-2.6.1 pymongo-4.6.3\n"
          ]
        }
      ],
      "source": [
        "#install python interface\n",
        "!pip install pymongo"
      ]
    },
    {
      "cell_type": "markdown",
      "metadata": {
        "id": "WC8VZ34DbQWm"
      },
      "source": [
        "## Connect to local DB"
      ]
    },
    {
      "cell_type": "code",
      "execution_count": 15,
      "metadata": {
        "id": "phjIyU7CYaYX"
      },
      "outputs": [],
      "source": [
        "#NOTE: this will only work if you have a local MongoDB Server running\n",
        "\n",
        "#import MongoDB client module\n",
        "from pymongo import MongoClient\n",
        "import warnings\n",
        "warnings.filterwarnings('ignore')\n",
        "#connect to MongoDB on localhost\n",
        "client = MongoClient()\n"
      ]
    },
    {
      "cell_type": "code",
      "execution_count": 16,
      "metadata": {
        "colab": {
          "base_uri": "https://localhost:8080/"
        },
        "id": "OZ7LMn4cYaYX",
        "outputId": "c5418c59-8b4b-4587-839e-547c91882662"
      },
      "outputs": [
        {
          "output_type": "execute_result",
          "data": {
            "text/plain": [
              "frozenset({('localhost', 27017)})"
            ]
          },
          "metadata": {},
          "execution_count": 16
        }
      ],
      "source": [
        "#how many worker nodes are working in th MongoDB Cluster?\n",
        "client.nodes"
      ]
    },
    {
      "cell_type": "code",
      "source": [
        "#list databases\n",
        "client.list_database_names()"
      ],
      "metadata": {
        "colab": {
          "base_uri": "https://localhost:8080/"
        },
        "id": "QPpt2C3xdsm4",
        "outputId": "419855d7-0868-4417-826a-b1d4fb4a4ba0"
      },
      "execution_count": 18,
      "outputs": [
        {
          "output_type": "execute_result",
          "data": {
            "text/plain": [
              "['admin', 'config', 'local']"
            ]
          },
          "metadata": {},
          "execution_count": 18
        }
      ]
    },
    {
      "cell_type": "markdown",
      "metadata": {
        "id": "O0ngg3FYcGX4"
      },
      "source": [
        "## Assignment\n",
        "* Create new DB called \"restaurants\" and import the given data as new collection\n",
        "* Give queries for the following tasks:\n",
        "  * A. Write a MongoDB query to display all the restaurant which is in the borough Bronx.\n",
        "  * B. Write a MongoDB query to display the first 5 restaurant which is in the borough Bronx.\n",
        "  * C. Write a MongoDB query to find the restaurants which locate in latitude value less than -95.754168.\n",
        "  * D. Write a MongoDB query to find the restaurant Id, name, borough and cuisine for those restaurants which contain 'Wil' as first three letters for its name.\n",
        "  * E. Write a MongoDB query to arranged the name of the cuisine in ascending order and for that same cuisine borough should be in descending order."
      ]
    },
    {
      "cell_type": "code",
      "execution_count": null,
      "metadata": {
        "id": "33g3GlkycHfP"
      },
      "outputs": [],
      "source": [
        "#get data\n",
        "!wget https://raw.githubusercontent.com/mongodb/docs-assets/primer-dataset/primer-dataset.json"
      ]
    }
  ],
  "metadata": {
    "celltoolbar": "Slideshow",
    "colab": {
      "provenance": []
    },
    "kernelspec": {
      "display_name": "Python 3 (ipykernel)",
      "language": "python",
      "name": "python3"
    },
    "language_info": {
      "codemirror_mode": {
        "name": "ipython",
        "version": 3
      },
      "file_extension": ".py",
      "mimetype": "text/x-python",
      "name": "python",
      "nbconvert_exporter": "python",
      "pygments_lexer": "ipython3",
      "version": "3.11.4"
    },
    "livereveal": {
      "enable_chalkboard": true,
      "footer": "Janis Keuper - SS22",
      "header": "Data Engineering"
    }
  },
  "nbformat": 4,
  "nbformat_minor": 0
}