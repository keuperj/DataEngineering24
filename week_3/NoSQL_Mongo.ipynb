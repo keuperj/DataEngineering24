{
 "cells": [
  {
   "cell_type": "markdown",
   "metadata": {
    "slideshow": {
     "slide_type": "slide"
    }
   },
   "source": [
    "# NoSQL and MongoDB"
   ]
  },
  {
   "cell_type": "markdown",
   "metadata": {
    "slideshow": {
     "slide_type": "fragment"
    }
   },
   "source": [
    "#### Flexible and distributed data storrage ... "
   ]
  },
  {
   "cell_type": "markdown",
   "metadata": {
    "slideshow": {
     "slide_type": "slide"
    }
   },
   "source": [
    "## Outline\n",
    "\n",
    "* Prelude: XML \n",
    "* NoSQL Databases\n",
    "* MongoDB\n",
    "    * JSON\n",
    "* Use Case: Restaurant Rating Site"
   ]
  },
  {
   "cell_type": "markdown",
   "metadata": {
    "slideshow": {
     "slide_type": "slide"
    }
   },
   "source": [
    "## XML\n",
    "<img src=\"IMG/xml.png\" width=200>"
   ]
  },
  {
   "cell_type": "markdown",
   "metadata": {
    "slideshow": {
     "slide_type": "fragment"
    }
   },
   "source": [
    "***Extensible Markup Language (XML)*** is a markup language that defines a set of rules for encoding documents in a format that is both human-readable and machine-readable. \n",
    "The design goals of XML emphasize simplicity, generality, and usability across the Internet. It is a textual data format with strong support via Unicode for different human languages. Although the design of XML focuses on documents, the language is widely used for the representation of arbitrary data structures such as those used in web services. "
   ]
  },
  {
   "cell_type": "markdown",
   "metadata": {
    "slideshow": {
     "slide_type": "subslide"
    }
   },
   "source": [
    "### XML Tree Representation of Data\n",
    "<img SRC=\"IMG/xml_tree.gif\" width=800>"
   ]
  },
  {
   "cell_type": "markdown",
   "metadata": {
    "slideshow": {
     "slide_type": "subslide"
    }
   },
   "source": [
    "### Another XML Example\n",
    "```\n",
    "<?xml version=\"1.0\"?>\n",
    "<data>\n",
    "    <country name=\"Liechtenstein\">\n",
    "        <rank>1</rank>\n",
    "        <year>2008</year>\n",
    "        <gdppc>141100</gdppc>\n",
    "        <neighbor name=\"Austria\" direction=\"E\"/>\n",
    "        <neighbor name=\"Switzerland\" direction=\"W\"/>\n",
    "    </country>\n",
    "    <country name=\"Singapore\">\n",
    "        <rank>4</rank>\n",
    "        <year>2011</year>\n",
    "        <gdppc>59900</gdppc>\n",
    "        <neighbor name=\"Malaysia\" direction=\"N\"/>\n",
    "    </country>\n",
    "    <country name=\"Panama\">\n",
    "        <rank>68</rank>\n",
    "        <year>2011</year>\n",
    "        <gdppc>13600</gdppc>\n",
    "        <neighbor name=\"Costa Rica\" direction=\"W\"/>\n",
    "        <neighbor name=\"Colombia\" direction=\"E\"/>\n",
    "    </country>\n",
    "</data>\n",
    "```\n"
   ]
  },
  {
   "cell_type": "markdown",
   "metadata": {
    "slideshow": {
     "slide_type": "subslide"
    }
   },
   "source": [
    "### XML with ***Python***"
   ]
  },
  {
   "cell_type": "code",
   "execution_count": 1,
   "metadata": {
    "slideshow": {
     "slide_type": "skip"
    }
   },
   "outputs": [
    {
     "name": "stdout",
     "output_type": "stream",
     "text": [
      "Cloning into 'DATA'...\n",
      "remote: Enumerating objects: 126, done.\u001b[K\n",
      "remote: Counting objects: 100% (39/39), done.\u001b[K\n",
      "remote: Compressing objects: 100% (28/28), done.\u001b[K\n",
      "remote: Total 126 (delta 11), reused 39 (delta 11), pack-reused 87\u001b[K\n",
      "Receiving objects: 100% (126/126), 185.56 MiB | 7.03 MiB/s, done.\n",
      "Resolving deltas: 100% (32/32), done.\n",
      "Updating files: 100% (86/86), done.\n"
     ]
    }
   ],
   "source": [
    "#in colab, we need to clone the data from the repo\n",
    "!git clone https://github.com/keuperj/DATA.git"
   ]
  },
  {
   "cell_type": "code",
   "execution_count": 3,
   "metadata": {},
   "outputs": [],
   "source": [
    "import xml.etree.ElementTree as ET\n",
    "tree = ET.parse('DATA/example.xml') #parse xml document\n",
    "root = tree.getroot() #get tree root\n"
   ]
  },
  {
   "cell_type": "code",
   "execution_count": 4,
   "metadata": {
    "scrolled": true,
    "slideshow": {
     "slide_type": "subslide"
    }
   },
   "outputs": [
    {
     "name": "stdout",
     "output_type": "stream",
     "text": [
      "country {'name': 'Liechtenstein'}\n",
      "country {'name': 'Singapore'}\n",
      "country {'name': 'Panama'}\n"
     ]
    }
   ],
   "source": [
    "#get first elements of the tree\n",
    "for child in root:\n",
    "    print( child.tag, child.attrib)"
   ]
  },
  {
   "cell_type": "code",
   "execution_count": 5,
   "metadata": {
    "scrolled": true,
    "slideshow": {
     "slide_type": "subslide"
    }
   },
   "outputs": [
    {
     "name": "stdout",
     "output_type": "stream",
     "text": [
      "{'name': 'Austria', 'direction': 'E'}\n",
      "{'name': 'Switzerland', 'direction': 'W'}\n",
      "{'name': 'Malaysia', 'direction': 'N'}\n",
      "{'name': 'Costa Rica', 'direction': 'W'}\n",
      "{'name': 'Colombia', 'direction': 'E'}\n"
     ]
    }
   ],
   "source": [
    "#iterate over the neighbor attribute\n",
    "for neighbor in root.iter('neighbor'):\n",
    "    print (neighbor.attrib)"
   ]
  },
  {
   "cell_type": "code",
   "execution_count": 6,
   "metadata": {
    "scrolled": true,
    "slideshow": {
     "slide_type": "subslide"
    }
   },
   "outputs": [
    {
     "name": "stdout",
     "output_type": "stream",
     "text": [
      "Liechtenstein 1\n",
      "Singapore 4\n",
      "Panama 68\n"
     ]
    }
   ],
   "source": [
    "#get  all country nodes and extract attributes\n",
    "for country in root.findall('country'):\n",
    "    rank = country.find('rank').text\n",
    "    name = country.get('name')\n",
    "    print (name, rank)"
   ]
  },
  {
   "cell_type": "markdown",
   "metadata": {
    "slideshow": {
     "slide_type": "fragment"
    }
   },
   "source": [
    "#### more on the ***Python*** ***XML*** API: https://docs.python.org/3/library/xml.etree.elementtree.html"
   ]
  },
  {
   "cell_type": "markdown",
   "metadata": {
    "slideshow": {
     "slide_type": "slide"
    }
   },
   "source": [
    "<H3>Document based Data Bases</H3>\n",
    "<BR>\n",
    "<img src=\"IMG/MongoDB.png\">\n",
    "    \n",
    "* Data stored in documents (files)\n",
    "* Flexible structure in documents (like XML)\n",
    "* Queries like in SQL\n",
    "* Support distributed operations (***MapReduce***)  \n"
   ]
  },
  {
   "cell_type": "markdown",
   "metadata": {
    "slideshow": {
     "slide_type": "slide"
    }
   },
   "source": [
    "<H2>Use Case:</H2>\n",
    "<H3>A Restaurant rating system:</H3>\n",
    "<img src=\"IMG/TA.png\" width=\"65%\">\n"
   ]
  },
  {
   "cell_type": "markdown",
   "metadata": {
    "slideshow": {
     "slide_type": "subslide"
    }
   },
   "source": [
    "<H3>Implementation with MongoDB</H3>\n",
    "<BR>\n",
    "<img src=\"IMG/MongoDB.png\">\n",
    "    \n",
    "* Properties of MongoDB\n",
    "    * Document oriented DB\n",
    "        * Structure description in JSON\n",
    "        <img src=\"IMG/json.jpg\">\n",
    "   "
   ]
  },
  {
   "cell_type": "markdown",
   "metadata": {
    "slideshow": {
     "slide_type": "fragment"
    }
   },
   "source": [
    "\n",
    "* Data: open data set with restaurants and ratings:\n",
    "    * https://raw.githubusercontent.com/mongodb/docs-assets/primer-dataset/primer-dataset.json"
   ]
  },
  {
   "cell_type": "markdown",
   "metadata": {
    "slideshow": {
     "slide_type": "subslide"
    }
   },
   "source": [
    "<H3>Example: JSON Scheme for a restaurant </H3>\n",
    "\n",
    "```\n",
    "{\n",
    "  \"address\": {\n",
    "     \"coord\": [ -73.856077, 40.848447 ],\n",
    "     \"street\": \"Morris Park Ave\",\n",
    "     \"zipcode\": \"10462\"\n",
    "  },\n",
    "  \"borough\": \"Bronx\",\n",
    "  \"cuisine\": \"Bakery\",\n",
    "  \"grades\": [\n",
    "     { \"date\": { \"$date\": 1393804800000 }, \"score\": 2 },\n",
    "     { \"date\": { \"$date\": 1378857600000 }, \"score\": 6 },\n",
    "     { \"date\": { \"$date\": 1358985600000 }, \"score\": 10 },  \n",
    "  ],\n",
    "  \"name\": \"Morris Park Bake Shop\",\n",
    "  \"restaurant_id\": \"30075445\"\n",
    "}\n",
    "```"
   ]
  },
  {
   "cell_type": "markdown",
   "metadata": {
    "slideshow": {
     "slide_type": "slide"
    }
   },
   "source": [
    "<H2>Hands on!</H2>"
   ]
  },
  {
   "cell_type": "code",
   "execution_count": 1,
   "metadata": {
    "slideshow": {
     "slide_type": "-"
    }
   },
   "outputs": [
    {
     "ename": "ModuleNotFoundError",
     "evalue": "No module named 'pymongo'",
     "output_type": "error",
     "traceback": [
      "\u001b[0;31m---------------------------------------------------------------------------\u001b[0m",
      "\u001b[0;31mModuleNotFoundError\u001b[0m                       Traceback (most recent call last)",
      "Cell \u001b[0;32mIn[1], line 4\u001b[0m\n\u001b[1;32m      1\u001b[0m \u001b[38;5;66;03m#NOTE: this will only work if you have a local MongoDB Server running \u001b[39;00m\n\u001b[1;32m      2\u001b[0m \n\u001b[1;32m      3\u001b[0m \u001b[38;5;66;03m#import MongoDB client module\u001b[39;00m\n\u001b[0;32m----> 4\u001b[0m \u001b[38;5;28;01mfrom\u001b[39;00m \u001b[38;5;21;01mpymongo\u001b[39;00m \u001b[38;5;28;01mimport\u001b[39;00m MongoClient\n\u001b[1;32m      5\u001b[0m \u001b[38;5;28;01mimport\u001b[39;00m \u001b[38;5;21;01mwarnings\u001b[39;00m\n\u001b[1;32m      6\u001b[0m warnings\u001b[38;5;241m.\u001b[39mfilterwarnings(\u001b[38;5;124m'\u001b[39m\u001b[38;5;124mignore\u001b[39m\u001b[38;5;124m'\u001b[39m) \n",
      "\u001b[0;31mModuleNotFoundError\u001b[0m: No module named 'pymongo'"
     ]
    }
   ],
   "source": [
    "#NOTE: this will only work if you have a local MongoDB Server running \n",
    "\n",
    "#import MongoDB client module\n",
    "from pymongo import MongoClient\n",
    "import warnings\n",
    "warnings.filterwarnings('ignore') \n",
    "#connect to MongoDB on localhost\n",
    "client = MongoClient()\n"
   ]
  },
  {
   "cell_type": "code",
   "execution_count": 7,
   "metadata": {
    "slideshow": {
     "slide_type": "fragment"
    }
   },
   "outputs": [
    {
     "data": {
      "text/plain": [
       "frozenset({('localhost', 27017)})"
      ]
     },
     "execution_count": 7,
     "metadata": {},
     "output_type": "execute_result"
    }
   ],
   "source": [
    "#how many worker nodes are working in th MongoDB Cluster?\n",
    "client.nodes"
   ]
  },
  {
   "cell_type": "markdown",
   "metadata": {
    "slideshow": {
     "slide_type": "subslide"
    }
   },
   "source": [
    "<H3>What Data is on the  Cluster?</H3>"
   ]
  },
  {
   "cell_type": "code",
   "execution_count": 13,
   "metadata": {},
   "outputs": [
    {
     "data": {
      "text/plain": [
       "['admin', 'config', 'demo', 'local', 'mydb', 'test']"
      ]
     },
     "execution_count": 13,
     "metadata": {},
     "output_type": "execute_result"
    }
   ],
   "source": [
    "#see what databases are available\n",
    "client.list_database_names()"
   ]
  },
  {
   "cell_type": "code",
   "execution_count": 9,
   "metadata": {
    "slideshow": {
     "slide_type": "fragment"
    }
   },
   "outputs": [],
   "source": [
    "#generate reference to \"demo\" database\n",
    "db = client.demo"
   ]
  },
  {
   "cell_type": "code",
   "execution_count": 14,
   "metadata": {
    "slideshow": {
     "slide_type": "fragment"
    }
   },
   "outputs": [
    {
     "data": {
      "text/plain": [
       "['restaurants', 'myresults']"
      ]
     },
     "execution_count": 14,
     "metadata": {},
     "output_type": "execute_result"
    }
   ],
   "source": [
    "#list all collections \n",
    "db.list_collection_names()"
   ]
  },
  {
   "cell_type": "markdown",
   "metadata": {
    "slideshow": {
     "slide_type": "slide"
    }
   },
   "source": [
    "<H2>MongoDB Queries</H2>\n"
   ]
  },
  {
   "cell_type": "code",
   "execution_count": 15,
   "metadata": {
    "slideshow": {
     "slide_type": "fragment"
    }
   },
   "outputs": [
    {
     "ename": "AttributeError",
     "evalue": "'Cursor' object has no attribute 'count'",
     "output_type": "error",
     "traceback": [
      "\u001b[0;31m---------------------------------------------------------------------------\u001b[0m",
      "\u001b[0;31mAttributeError\u001b[0m                            Traceback (most recent call last)",
      "Input \u001b[0;32mIn [15]\u001b[0m, in \u001b[0;36m<cell line: 1>\u001b[0;34m()\u001b[0m\n\u001b[0;32m----> 1\u001b[0m \u001b[43mdb\u001b[49m\u001b[38;5;241;43m.\u001b[39;49m\u001b[43mrestaurants\u001b[49m\u001b[38;5;241;43m.\u001b[39;49m\u001b[43mfind\u001b[49m\u001b[43m(\u001b[49m\u001b[43m)\u001b[49m\u001b[38;5;241;43m.\u001b[39;49m\u001b[43mcount\u001b[49m()\n",
      "\u001b[0;31mAttributeError\u001b[0m: 'Cursor' object has no attribute 'count'"
     ]
    }
   ],
   "source": [
    "db.restaurants.find()."
   ]
  },
  {
   "cell_type": "code",
   "execution_count": null,
   "metadata": {
    "slideshow": {
     "slide_type": "subslide"
    }
   },
   "outputs": [],
   "source": [
    "db.restaurants.find()[129]"
   ]
  },
  {
   "cell_type": "markdown",
   "metadata": {
    "slideshow": {
     "slide_type": "slide"
    }
   },
   "source": [
    "<H3>Structured Queries</H3>\n",
    "\n",
    "* Number of restaurants in the city"
   ]
  },
  {
   "cell_type": "code",
   "execution_count": null,
   "metadata": {
    "slideshow": {
     "slide_type": "-"
    }
   },
   "outputs": [],
   "source": [
    "db.restaurants.find({\"borough\": \"Queens\"}).count()"
   ]
  },
  {
   "cell_type": "markdown",
   "metadata": {
    "slideshow": {
     "slide_type": "fragment"
    }
   },
   "source": [
    "* All entries with Score>10 and ZIP code 10075"
   ]
  },
  {
   "cell_type": "code",
   "execution_count": null,
   "metadata": {
    "slideshow": {
     "slide_type": "-"
    }
   },
   "outputs": [],
   "source": [
    "db.restaurants.find({\"grades.score\": {\"$gt\": 10}, \"address.zipcode\": \"10075\"}).count()"
   ]
  },
  {
   "cell_type": "markdown",
   "metadata": {
    "slideshow": {
     "slide_type": "slide"
    }
   },
   "source": [
    "<H3>Iterators</H3>\n",
    "\n",
    "* e.g. all iterators in ZIP code 10075"
   ]
  },
  {
   "cell_type": "code",
   "execution_count": null,
   "metadata": {
    "slideshow": {
     "slide_type": "-"
    }
   },
   "outputs": [],
   "source": [
    "cursor=db.restaurants.find({\"cuisine\": \"Bakery\",\"address.zipcode\": \"10075\"})\n",
    "for doc in cursor:\n",
    "    print (doc[\"name\"])\n",
    "    "
   ]
  },
  {
   "cell_type": "markdown",
   "metadata": {
    "slideshow": {
     "slide_type": "slide"
    }
   },
   "source": [
    "<H2>Map-Reduce with MongoDB</H2>\n",
    "<H3>Compute histogram of review scores</H3>"
   ]
  },
  {
   "cell_type": "code",
   "execution_count": null,
   "metadata": {},
   "outputs": [],
   "source": [
    "from bson.code import Code\n",
    "#map function\n",
    "map = Code(\"function () {\"\n",
    "            \"  this.grades.forEach(function(z) {\"\n",
    "            \"    emit(z.score, 1);\"\n",
    "            \"  });\"\n",
    "            \"}\")\n",
    "\n",
    "#reduce function\n",
    "reduce = Code(\"function (key, values) {\"\n",
    "              \"  var total = 0;\"\n",
    "              \"  for (var i = 0; i < values.length; i++) {\"\n",
    "              \"    total += values[i];\"\n",
    "              \"  }\"\n",
    "              \"  return total;\"\n",
    "              \"}\")\n",
    "\n",
    "result = db.restaurants.map_reduce(map, reduce, \"myresults\")"
   ]
  },
  {
   "cell_type": "code",
   "execution_count": null,
   "metadata": {
    "slideshow": {
     "slide_type": "skip"
    }
   },
   "outputs": [],
   "source": [
    "import pandas as pd\n",
    "import numpy as np\n",
    "import matplotlib.pyplot as plt\n",
    "%matplotlib inline"
   ]
  },
  {
   "cell_type": "code",
   "execution_count": null,
   "metadata": {
    "scrolled": true,
    "slideshow": {
     "slide_type": "subslide"
    }
   },
   "outputs": [],
   "source": [
    "import matplotlib.pyplot as plt\n",
    "import pandas as pd\n",
    "plt.figure()\n",
    "df=pd.DataFrame(list(result.find()))\n",
    "plt.bar(np.arange(20),df[0:20].value )\n",
    "plt.xlabel('score')\n",
    "plt.ylabel('# votes')\n",
    "plt.title('Review Scores')"
   ]
  },
  {
   "cell_type": "markdown",
   "metadata": {
    "slideshow": {
     "slide_type": "slide"
    }
   },
   "source": [
    "## Discussion"
   ]
  }
 ],
 "metadata": {
  "celltoolbar": "Slideshow",
  "kernelspec": {
   "display_name": "Python 3 (ipykernel)",
   "language": "python",
   "name": "python3"
  },
  "language_info": {
   "codemirror_mode": {
    "name": "ipython",
    "version": 3
   },
   "file_extension": ".py",
   "mimetype": "text/x-python",
   "name": "python",
   "nbconvert_exporter": "python",
   "pygments_lexer": "ipython3",
   "version": "3.11.4"
  },
  "livereveal": {
   "enable_chalkboard": true,
   "footer": "Janis Keuper - SS24",
   "header": "Data Engineering"
  }
 },
 "nbformat": 4,
 "nbformat_minor": 4
}
