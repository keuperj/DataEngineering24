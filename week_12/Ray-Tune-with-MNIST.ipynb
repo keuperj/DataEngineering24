{
  "cells": [
    {
      "cell_type": "markdown",
      "metadata": {
        "id": "J8i1lFZcQ8i-"
      },
      "source": [
        "# Ray Tune - A Deeper Dive Using MNIST with PyTorch\n",
        "\n",
        "\n",
        "Apopted from Anyscal unde Apache 2.0\n",
        "\n"
      ]
    },
    {
      "cell_type": "code",
      "source": [
        "print('NOTE: Intentionally crashing session to use the newly installed library.\\n')\n",
        "\n",
        "#!pip uninstall -y pyarrow\n",
        "!pip install pyarrow==10.0.1\n",
        "!pip install ray\n",
        "\n",
        "\n",
        "# A hack to force the runtime to restart, needed to include the above dependencies.\n",
        "import os\n",
        "os._exit(0)"
      ],
      "metadata": {
        "id": "RT_0SIh9VCr6",
        "outputId": "b674610e-f9a4-4a49-e7a7-62a50c9ad94a",
        "colab": {
          "base_uri": "https://localhost:8080/"
        }
      },
      "execution_count": null,
      "outputs": [
        {
          "output_type": "stream",
          "name": "stdout",
          "text": [
            "NOTE: Intentionally crashing session to use the newly installed library.\n",
            "\n",
            "Looking in indexes: https://pypi.org/simple, https://us-python.pkg.dev/colab-wheels/public/simple/\n",
            "Requirement already satisfied: pyarrow==10.0.1 in /usr/local/lib/python3.10/dist-packages (10.0.1)\n",
            "Requirement already satisfied: numpy>=1.16.6 in /usr/local/lib/python3.10/dist-packages (from pyarrow==10.0.1) (1.22.4)\n",
            "Looking in indexes: https://pypi.org/simple, https://us-python.pkg.dev/colab-wheels/public/simple/\n",
            "Requirement already satisfied: ray in /usr/local/lib/python3.10/dist-packages (2.5.0)\n",
            "Requirement already satisfied: attrs in /usr/local/lib/python3.10/dist-packages (from ray) (23.1.0)\n",
            "Requirement already satisfied: click>=7.0 in /usr/local/lib/python3.10/dist-packages (from ray) (8.1.3)\n",
            "Requirement already satisfied: filelock in /usr/local/lib/python3.10/dist-packages (from ray) (3.12.0)\n",
            "Requirement already satisfied: jsonschema in /usr/local/lib/python3.10/dist-packages (from ray) (4.3.3)\n",
            "Requirement already satisfied: msgpack<2.0.0,>=1.0.0 in /usr/local/lib/python3.10/dist-packages (from ray) (1.0.5)\n",
            "Requirement already satisfied: packaging in /usr/local/lib/python3.10/dist-packages (from ray) (23.1)\n",
            "Requirement already satisfied: protobuf!=3.19.5,>=3.15.3 in /usr/local/lib/python3.10/dist-packages (from ray) (3.20.3)\n",
            "Requirement already satisfied: pyyaml in /usr/local/lib/python3.10/dist-packages (from ray) (6.0)\n",
            "Requirement already satisfied: aiosignal in /usr/local/lib/python3.10/dist-packages (from ray) (1.3.1)\n",
            "Requirement already satisfied: frozenlist in /usr/local/lib/python3.10/dist-packages (from ray) (1.3.3)\n",
            "Requirement already satisfied: requests in /usr/local/lib/python3.10/dist-packages (from ray) (2.27.1)\n",
            "Requirement already satisfied: grpcio<=1.51.3,>=1.42.0 in /usr/local/lib/python3.10/dist-packages (from ray) (1.51.3)\n",
            "Requirement already satisfied: numpy>=1.19.3 in /usr/local/lib/python3.10/dist-packages (from ray) (1.22.4)\n",
            "Requirement already satisfied: pyrsistent!=0.17.0,!=0.17.1,!=0.17.2,>=0.14.0 in /usr/local/lib/python3.10/dist-packages (from jsonschema->ray) (0.19.3)\n",
            "Requirement already satisfied: urllib3<1.27,>=1.21.1 in /usr/local/lib/python3.10/dist-packages (from requests->ray) (1.26.15)\n",
            "Requirement already satisfied: certifi>=2017.4.17 in /usr/local/lib/python3.10/dist-packages (from requests->ray) (2022.12.7)\n",
            "Requirement already satisfied: charset-normalizer~=2.0.0 in /usr/local/lib/python3.10/dist-packages (from requests->ray) (2.0.12)\n",
            "Requirement already satisfied: idna<4,>=2.5 in /usr/local/lib/python3.10/dist-packages (from requests->ray) (3.4)\n"
          ]
        }
      ]
    },
    {
      "cell_type": "code",
      "execution_count": 1,
      "metadata": {
        "id": "8153AUOTQ8jC"
      },
      "outputs": [],
      "source": [
        "import os\n",
        "from torchvision import datasets, transforms\n",
        "import torch\n",
        "import torch.optim as optim\n",
        "import torch.nn as nn\n",
        "import torch.nn.functional as F\n",
        "from filelock import FileLock"
      ]
    },
    {
      "cell_type": "markdown",
      "metadata": {
        "id": "VV0Lip9tQ8jE"
      },
      "source": [
        "## PyTorch Hyperparameter Tuning\n",
        "\n",
        "Our example will closely follow the code in the [PyTorch MNIST example](https://github.com/pytorch/examples/blob/master/mnist/main.py). However, we will create an even simpler model than the one in the example, although you could try that model and compare its predictions.\n",
        "\n",
        "Let's start by defining a few global variables for epoch and test sizes. Also define a data location."
      ]
    },
    {
      "cell_type": "code",
      "execution_count": 2,
      "metadata": {
        "id": "C1Kxx3waQ8jF"
      },
      "outputs": [],
      "source": [
        "EPOCH_SIZE = 512\n",
        "TEST_SIZE = 256\n",
        "\n",
        "DATA_ROOT = 'data/mnist'"
      ]
    },
    {
      "cell_type": "markdown",
      "metadata": {
        "id": "vJ-lPVPxQ8jF"
      },
      "source": [
        "The following class defines a convolutional neural network.\n",
        "\n"
      ]
    },
    {
      "cell_type": "code",
      "execution_count": 3,
      "metadata": {
        "id": "PvzBuFDMQ8jG"
      },
      "outputs": [],
      "source": [
        "class ConvNet(nn.Module):\n",
        "    def __init__(self):\n",
        "        super(ConvNet, self).__init__()\n",
        "        self.conv1 = nn.Conv2d(1, 3, kernel_size=3)\n",
        "        self.fc = nn.Linear(192, 10)\n",
        "\n",
        "    def forward(self, x):\n",
        "        x = F.relu(F.max_pool2d(self.conv1(x), 3))\n",
        "        x = x.view(-1, 192)\n",
        "        x = self.fc(x)\n",
        "        return F.log_softmax(x, dim=1)"
      ]
    },
    {
      "cell_type": "markdown",
      "metadata": {
        "id": "A1v1lYWCQ8jG"
      },
      "source": [
        "After creating that network, we can now create our data loaders for training and test data. These are just plain [PyTorch `DataLoaders`](https://pytorch.org/docs/1.1.0/data.html?highlight=dataloader#torch.utils.data.DataLoader) with two additions:\n",
        "\n",
        "1. A `FileLock` is added to ensure that only one process downloads the data on each machine, just in case we have multiple workers per machine in our Ray cluster.\n",
        "2. The root directory for the data can be specified and it will be created if it doesn't exist.\n",
        "\n",
        "Otherwise, this code is identical to the [PyTorch example version](https://github.com/pytorch/examples/blob/master/mnist/main.py#L101)."
      ]
    },
    {
      "cell_type": "code",
      "execution_count": 4,
      "metadata": {
        "id": "_nfEgx7bQ8jH"
      },
      "outputs": [],
      "source": [
        "def get_data_loaders():\n",
        "    mnist_transforms = transforms.Compose(\n",
        "        [transforms.ToTensor(),\n",
        "         transforms.Normalize((0.1307, ), (0.3081, ))])\n",
        "\n",
        "    # We add FileLock here because multiple workers on the same machine coulde try\n",
        "    # download the data. This would cause overwrites, since DataLoader is not threadsafe.\n",
        "    # You wouldn't need this for single-process training.\n",
        "    lock_file = f'{DATA_ROOT}/data.lock'\n",
        "    import os\n",
        "    if not os.path.exists(DATA_ROOT):\n",
        "        os.makedirs(DATA_ROOT)\n",
        "\n",
        "    with FileLock(os.path.expanduser(lock_file)):\n",
        "        train_loader = torch.utils.data.DataLoader(\n",
        "            datasets.MNIST(DATA_ROOT, train=True, download=True, transform=mnist_transforms),\n",
        "            batch_size=64,\n",
        "            shuffle=True)\n",
        "\n",
        "        test_loader = torch.utils.data.DataLoader(\n",
        "            datasets.MNIST(DATA_ROOT, train=False, transform=mnist_transforms),\n",
        "            batch_size=64,\n",
        "            shuffle=True)\n",
        "    return train_loader, test_loader"
      ]
    },
    {
      "cell_type": "markdown",
      "metadata": {
        "id": "NHkAuN03Q8jI"
      },
      "source": [
        "Now we define our training and test functions. While the arguments are a bit switched up from the original PyTorch tutorial, the difference is inconsequential. The arguments are an optimizer, a model, the training data loader, and our device. Then we train the model."
      ]
    },
    {
      "cell_type": "code",
      "execution_count": 5,
      "metadata": {
        "id": "EGafjTVIQ8jJ"
      },
      "outputs": [],
      "source": [
        "def train(model, optimizer, train_loader, device=torch.device(\"cpu\")):\n",
        "    model.train()\n",
        "    for batch_idx, (data, target) in enumerate(train_loader):\n",
        "        if batch_idx * len(data) > EPOCH_SIZE:\n",
        "            return\n",
        "        data, target = data.to(device), target.to(device)\n",
        "        optimizer.zero_grad()\n",
        "        output = model(data)\n",
        "        loss = F.nll_loss(output, target)\n",
        "        loss.backward()\n",
        "        optimizer.step()"
      ]
    },
    {
      "cell_type": "markdown",
      "metadata": {
        "id": "atxoOeEhQ8jK"
      },
      "source": [
        "Similarly for our test model, we define a basic _average correct prediction_ metric that we will track. We could add more metrics, but we'll keep it simple."
      ]
    },
    {
      "cell_type": "code",
      "execution_count": 6,
      "metadata": {
        "id": "A8x23TbQQ8jK"
      },
      "outputs": [],
      "source": [
        "def test(model, data_loader, device=torch.device(\"cpu\")):\n",
        "    model.eval()\n",
        "    correct = 0\n",
        "    total = 0\n",
        "    with torch.no_grad():\n",
        "        for batch_idx, (data, target) in enumerate(data_loader):\n",
        "            if batch_idx * len(data) > TEST_SIZE:\n",
        "                break\n",
        "            data, target = data.to(device), target.to(device)\n",
        "            outputs = model(data)\n",
        "            _, predicted = torch.max(outputs.data, 1)\n",
        "            total += target.size(0)\n",
        "            correct += (predicted == target).sum().item()\n",
        "\n",
        "    return correct / total"
      ]
    },
    {
      "cell_type": "markdown",
      "metadata": {
        "id": "nsnUtjpOQ8jK"
      },
      "source": [
        "Finally, we create a wrapper function for this particular model. In doing so all we need to do is specify the configuration for the model that we would like to train and the function will do the rest:\n",
        "\n",
        "1. Retrieve the data with the loaders returned by `get_data_loaders()`\n",
        "2. Create the `ConvNet` model\n",
        "3. Optimize the model using _stochastic gradient descent_."
      ]
    },
    {
      "cell_type": "code",
      "execution_count": 7,
      "metadata": {
        "id": "YFWQnAuoQ8jL"
      },
      "outputs": [],
      "source": [
        "def train_mnist(config):\n",
        "    train_loader, test_loader = get_data_loaders()\n",
        "    model = ConvNet()\n",
        "    optimizer = optim.SGD(model.parameters(), lr=config[\"lr\"], momentum=config['momentum'])\n",
        "    for i in range(10):\n",
        "        train(model, optimizer, train_loader)\n",
        "        acc = test(model, test_loader)\n",
        "        print(f\"accuracy: {acc}\")"
      ]
    },
    {
      "cell_type": "markdown",
      "metadata": {
        "id": "5RwtQsn3Q8jL"
      },
      "source": [
        "### Single-Node Hyperparameter Tuning\n",
        "\n",
        "Let's show what we might do if we performed hyperparameter tuning on a single machine. We would have to enumerate all the possibilities and either train them serially or use something like multiprocessing to train them in parallel. That setup takes a little bit of work so people often decide to train them serially, which is easiest, but requires the most time.\n",
        "\n",
        "This is what we might do."
      ]
    },
    {
      "cell_type": "code",
      "execution_count": 8,
      "metadata": {
        "id": "fTw-hd_5Q8jM",
        "outputId": "8e84f5fb-16ca-4630-88e0-bd88ec7da3fc",
        "colab": {
          "base_uri": "https://localhost:8080/"
        }
      },
      "outputs": [
        {
          "output_type": "stream",
          "name": "stdout",
          "text": [
            "12\n"
          ]
        },
        {
          "output_type": "execute_result",
          "data": {
            "text/plain": [
              "[(0.001, 0.001),\n",
              " (0.001, 0.01),\n",
              " (0.001, 0.1),\n",
              " (0.001, 0.9),\n",
              " (0.01, 0.001),\n",
              " (0.01, 0.01),\n",
              " (0.01, 0.1),\n",
              " (0.01, 0.9),\n",
              " (0.1, 0.001),\n",
              " (0.1, 0.01),\n",
              " (0.1, 0.1),\n",
              " (0.1, 0.9)]"
            ]
          },
          "metadata": {},
          "execution_count": 8
        }
      ],
      "source": [
        "import itertools\n",
        "conf = {\n",
        "    \"lr\": [0.001, 0.01, 0.1],\n",
        "    \"momentum\": [0.001, 0.01, 0.1, 0.9]\n",
        "}\n",
        "\n",
        "combinations = list(itertools.product(*conf.values()))\n",
        "print(len(combinations))\n",
        "combinations"
      ]
    },
    {
      "cell_type": "code",
      "execution_count": 9,
      "metadata": {
        "id": "HkcweI1dQ8jN",
        "outputId": "da548902-a28b-4479-a11d-ffcca53079c1",
        "colab": {
          "base_uri": "https://localhost:8080/"
        }
      },
      "outputs": [
        {
          "output_type": "stream",
          "name": "stdout",
          "text": [
            "accuracy: 0.090625\n",
            "accuracy: 0.125\n",
            "accuracy: 0.0875\n",
            "accuracy: 0.096875\n",
            "accuracy: 0.075\n",
            "accuracy: 0.1\n",
            "accuracy: 0.109375\n",
            "accuracy: 0.115625\n",
            "accuracy: 0.134375\n",
            "accuracy: 0.1625\n"
          ]
        }
      ],
      "source": [
        "for lr, momentum in combinations:\n",
        "    train_mnist({\"lr\":lr, \"momentum\":momentum})\n",
        "    break # we'll stop this after one run and just use it for illustrative purposes"
      ]
    },
    {
      "cell_type": "markdown",
      "metadata": {
        "id": "ym1SEYE6Q8jN"
      },
      "source": [
        "### Distributed Hyperparameter Tuning with Ray Tune\n",
        "\n",
        "Ray Tune makes it trivial to move this code from a single node to multiple nodes. Let's see how to use the code we've written with Ray Tune.\n",
        "\n",
        "First, we set up Ray as before."
      ]
    },
    {
      "cell_type": "code",
      "execution_count": 10,
      "metadata": {
        "id": "bFiFzQgHQ8jN"
      },
      "outputs": [],
      "source": [
        "import ray\n",
        "from ray import tune"
      ]
    },
    {
      "cell_type": "code",
      "execution_count": 11,
      "metadata": {
        "id": "QWmQ8trYQ8jN",
        "outputId": "9a323f8e-1f42-4747-be7b-f882793db4a1",
        "colab": {
          "base_uri": "https://localhost:8080/",
          "height": 79
        }
      },
      "outputs": [
        {
          "output_type": "stream",
          "name": "stderr",
          "text": [
            "2023-06-15 11:38:19,914\tINFO worker.py:1636 -- Started a local Ray instance.\n"
          ]
        },
        {
          "output_type": "execute_result",
          "data": {
            "text/plain": [
              "RayContext(dashboard_url='', python_version='3.10.12', ray_version='2.5.0', ray_commit='586c376e0769082cb5cfa1333e8264a5fa6b73ec', address_info={'node_ip_address': '172.28.0.12', 'raylet_ip_address': '172.28.0.12', 'redis_address': None, 'object_store_address': '/tmp/ray/session_2023-06-15_11-38-16_707311_3191/sockets/plasma_store', 'raylet_socket_name': '/tmp/ray/session_2023-06-15_11-38-16_707311_3191/sockets/raylet', 'webui_url': '', 'session_dir': '/tmp/ray/session_2023-06-15_11-38-16_707311_3191', 'metrics_export_port': 50951, 'gcs_address': '172.28.0.12:44260', 'address': '172.28.0.12:44260', 'dashboard_agent_listen_port': 52365, 'node_id': '447e3575616b58e8f0756377575e9968b7802428654c72415e7fb4c6'})"
            ],
            "text/html": [
              "<div>\n",
              "    <div style=\"margin-left: 50px;display: flex;flex-direction: row;align-items: center\">\n",
              "        <h3 style=\"color: var(--jp-ui-font-color0)\">Ray</h3>\n",
              "        <svg version=\"1.1\" id=\"ray\" width=\"3em\" viewBox=\"0 0 144.5 144.6\" style=\"margin-left: 3em;margin-right: 3em\">\n",
              "            <g id=\"layer-1\">\n",
              "                <path fill=\"#00a2e9\" class=\"st0\" d=\"M97.3,77.2c-3.8-1.1-6.2,0.9-8.3,5.1c-3.5,6.8-9.9,9.9-17.4,9.6S58,88.1,54.8,81.2c-1.4-3-3-4-6.3-4.1\n",
              "                    c-5.6-0.1-9.9,0.1-13.1,6.4c-3.8,7.6-13.6,10.2-21.8,7.6C5.2,88.4-0.4,80.5,0,71.7c0.1-8.4,5.7-15.8,13.8-18.2\n",
              "                    c8.4-2.6,17.5,0.7,22.3,8c1.3,1.9,1.3,5.2,3.6,5.6c3.9,0.6,8,0.2,12,0.2c1.8,0,1.9-1.6,2.4-2.8c3.5-7.8,9.7-11.8,18-11.9\n",
              "                    c8.2-0.1,14.4,3.9,17.8,11.4c1.3,2.8,2.9,3.6,5.7,3.3c1-0.1,2,0.1,3,0c2.8-0.5,6.4,1.7,8.1-2.7s-2.3-5.5-4.1-7.5\n",
              "                    c-5.1-5.7-10.9-10.8-16.1-16.3C84,38,81.9,37.1,78,38.3C66.7,42,56.2,35.7,53,24.1C50.3,14,57.3,2.8,67.7,0.5\n",
              "                    C78.4-2,89,4.7,91.5,15.3c0.1,0.3,0.1,0.5,0.2,0.8c0.7,3.4,0.7,6.9-0.8,9.8c-1.7,3.2-0.8,5,1.5,7.2c6.7,6.5,13.3,13,19.8,19.7\n",
              "                    c1.8,1.8,3,2.1,5.5,1.2c9.1-3.4,17.9-0.6,23.4,7c4.8,6.9,4.6,16.1-0.4,22.9c-5.4,7.2-14.2,9.9-23.1,6.5c-2.3-0.9-3.5-0.6-5.1,1.1\n",
              "                    c-6.7,6.9-13.6,13.7-20.5,20.4c-1.8,1.8-2.5,3.2-1.4,5.9c3.5,8.7,0.3,18.6-7.7,23.6c-7.9,5-18.2,3.8-24.8-2.9\n",
              "                    c-6.4-6.4-7.4-16.2-2.5-24.3c4.9-7.8,14.5-11,23.1-7.8c3,1.1,4.7,0.5,6.9-1.7C91.7,98.4,98,92.3,104.2,86c1.6-1.6,4.1-2.7,2.6-6.2\n",
              "                    c-1.4-3.3-3.8-2.5-6.2-2.6C99.8,77.2,98.9,77.2,97.3,77.2z M72.1,29.7c5.5,0.1,9.9-4.3,10-9.8c0-0.1,0-0.2,0-0.3\n",
              "                    C81.8,14,77,9.8,71.5,10.2c-5,0.3-9,4.2-9.3,9.2c-0.2,5.5,4,10.1,9.5,10.3C71.8,29.7,72,29.7,72.1,29.7z M72.3,62.3\n",
              "                    c-5.4-0.1-9.9,4.2-10.1,9.7c0,0.2,0,0.3,0,0.5c0.2,5.4,4.5,9.7,9.9,10c5.1,0.1,9.9-4.7,10.1-9.8c0.2-5.5-4-10-9.5-10.3\n",
              "                    C72.6,62.3,72.4,62.3,72.3,62.3z M115,72.5c0.1,5.4,4.5,9.7,9.8,9.9c5.6-0.2,10-4.8,10-10.4c-0.2-5.4-4.6-9.7-10-9.7\n",
              "                    c-5.3-0.1-9.8,4.2-9.9,9.5C115,72.1,115,72.3,115,72.5z M19.5,62.3c-5.4,0.1-9.8,4.4-10,9.8c-0.1,5.1,5.2,10.4,10.2,10.3\n",
              "                    c5.6-0.2,10-4.9,9.8-10.5c-0.1-5.4-4.5-9.7-9.9-9.6C19.6,62.3,19.5,62.3,19.5,62.3z M71.8,134.6c5.9,0.2,10.3-3.9,10.4-9.6\n",
              "                    c0.5-5.5-3.6-10.4-9.1-10.8c-5.5-0.5-10.4,3.6-10.8,9.1c0,0.5,0,0.9,0,1.4c-0.2,5.3,4,9.8,9.3,10\n",
              "                    C71.6,134.6,71.7,134.6,71.8,134.6z\"/>\n",
              "            </g>\n",
              "        </svg>\n",
              "        <table>\n",
              "            <tr>\n",
              "                <td style=\"text-align: left\"><b>Python version:</b></td>\n",
              "                <td style=\"text-align: left\"><b>3.10.12</b></td>\n",
              "            </tr>\n",
              "            <tr>\n",
              "                <td style=\"text-align: left\"><b>Ray version:</b></td>\n",
              "                <td style=\"text-align: left\"><b> 2.5.0</b></td>\n",
              "            </tr>\n",
              "            \n",
              "        </table>\n",
              "    </div>\n",
              "</div>\n"
            ]
          },
          "metadata": {},
          "execution_count": 11
        }
      ],
      "source": [
        "ray.init(ignore_reinit_error=True)"
      ]
    },
    {
      "cell_type": "markdown",
      "metadata": {
        "id": "vTM1cUuDQ8jO"
      },
      "source": [
        "The first change is we'll perform a strict `grid_search` on our hyperparameters, like we used in the previous lesson. Our hyperparameters are the learning rate, `lr`, and the `momentum`."
      ]
    },
    {
      "cell_type": "code",
      "execution_count": 12,
      "metadata": {
        "id": "qerUnyFJQ8jO"
      },
      "outputs": [],
      "source": [
        "config = {\n",
        "    \"lr\": tune.grid_search([0.001, 0.01, 0.1]),\n",
        "    \"momentum\": tune.grid_search([0.001, 0.01, 0.1, 0.9])\n",
        "}"
      ]
    },
    {
      "cell_type": "markdown",
      "metadata": {
        "id": "XxPsdtTKQ8jO"
      },
      "source": [
        "Next we modify our trainable, `train_mnist`, to use Tune's \"reporting\" logger:"
      ]
    },
    {
      "cell_type": "code",
      "execution_count": 13,
      "metadata": {
        "id": "NrNBogYtQ8jO"
      },
      "outputs": [],
      "source": [
        "def train_mnist(config):\n",
        "    from ray.tune import report\n",
        "    train_loader, test_loader = get_data_loaders()\n",
        "    model = ConvNet()\n",
        "    optimizer = optim.SGD(model.parameters(), lr=config[\"lr\"], momentum=config['momentum'])\n",
        "    for i in range(10):\n",
        "        train(model, optimizer, train_loader)\n",
        "        acc = test(model, test_loader)\n",
        "        # This sends the score to Tune.\n",
        "        report(mean_accuracy=acc)"
      ]
    },
    {
      "cell_type": "markdown",
      "metadata": {
        "id": "3yQJqKCUQ8jP"
      },
      "source": [
        "That's all that we need to change in order for Ray Tune to be able to parallelize our different hyperparameter combinations.\n",
        "\n",
        "When we execute a hyperparameter sweep, we perform an **experiment**. Each distinct combination of our different hyperparameters constitutes a single **trial**."
      ]
    },
    {
      "cell_type": "markdown",
      "metadata": {
        "id": "aR_QI7qKQ8jP"
      },
      "source": [
        "## Tune's Functional vs. Class API\n",
        "\n",
        "In the above previous lesson, we used the **functional API**. This API is most convenient for quickly setting up experiments, but it provides less overall flexbility compared to the **class API** [`tune.Trainable`](https://docs.ray.io/en/latest/tune/api_docs/trainable.html#tune-trainable).\n",
        "\n",
        "We'll try both, starting with the functional API.\n",
        "\n",
        "We add a stopping criterion, `stop={\"training_iteration\": 20}`, so this will go reasonably quickly, while still producing good results. Consider removing this condition if you don't mind waiting longer and you want optimal results.\n",
        "\n",
        "**Note**: Unlike the functional API, in which you the trainable can call a `tune.report()`, the class API method `cls.step()` can only return a value."
      ]
    },
    {
      "cell_type": "code",
      "execution_count": 14,
      "metadata": {
        "scrolled": true,
        "id": "EVbN7fDiQ8jP",
        "outputId": "b203e8d9-1164-4fb0-9e7d-e8c9111e6d2f",
        "colab": {
          "base_uri": "https://localhost:8080/"
        }
      },
      "outputs": [
        {
          "output_type": "stream",
          "name": "stderr",
          "text": [
            "2023-06-15 11:38:21,208\tINFO tensorboardx.py:178 -- pip install \"ray[tune]\" to see TensorBoard files.\n",
            "2023-06-15 11:38:21,209\tWARNING callback.py:144 -- The TensorboardX logger cannot be instantiated because either TensorboardX or one of it's dependencies is not installed. Please make sure you have the latest version of TensorboardX installed: `pip install -U tensorboardx`\n"
          ]
        },
        {
          "output_type": "stream",
          "name": "stdout",
          "text": [
            "== Status ==\n",
            "Current time: 2023-06-15 11:38:21 (running for 00:00:00.21)\n",
            "Using FIFO scheduling algorithm.\n",
            "Logical resource usage: 0/2 CPUs, 0/0 GPUs\n",
            "Result logdir: /root/ray_results/train_mnist_2023-06-15_11-38-21\n",
            "Number of trials: 12/12 (12 PENDING)\n",
            "\n",
            "\n",
            "== Status ==\n",
            "Current time: 2023-06-15 11:38:26 (running for 00:00:05.26)\n",
            "Using FIFO scheduling algorithm.\n",
            "Logical resource usage: 2.0/2 CPUs, 0/0 GPUs\n",
            "Result logdir: /root/ray_results/train_mnist_2023-06-15_11-38-21\n",
            "Number of trials: 12/12 (12 PENDING)\n",
            "\n",
            "\n",
            "\u001b[2m\u001b[36m(train_mnist pid=6272)\u001b[0m Downloading http://yann.lecun.com/exdb/mnist/train-images-idx3-ubyte.gz\n",
            "\u001b[2m\u001b[36m(train_mnist pid=6272)\u001b[0m Downloading http://yann.lecun.com/exdb/mnist/train-images-idx3-ubyte.gz to data/mnist/MNIST/raw/train-images-idx3-ubyte.gz\n"
          ]
        },
        {
          "output_type": "stream",
          "name": "stderr",
          "text": [
            "\u001b[2m\u001b[36m(train_mnist pid=6272)\u001b[0m \r  0%|          | 0/9912422 [00:00<?, ?it/s]\n",
            "\u001b[2m\u001b[36m(train_mnist pid=6272)\u001b[0m \r100%|██████████| 9912422/9912422 [00:00<00:00, 122185192.98it/s]\n"
          ]
        },
        {
          "output_type": "stream",
          "name": "stdout",
          "text": [
            "\u001b[2m\u001b[36m(train_mnist pid=6272)\u001b[0m Extracting data/mnist/MNIST/raw/train-images-idx3-ubyte.gz to data/mnist/MNIST/raw\n",
            "\u001b[2m\u001b[36m(train_mnist pid=6272)\u001b[0m \n",
            "== Status ==\n",
            "Current time: 2023-06-15 11:38:31 (running for 00:00:10.28)\n",
            "Using FIFO scheduling algorithm.\n",
            "Logical resource usage: 2.0/2 CPUs, 0/0 GPUs\n",
            "Result logdir: /root/ray_results/train_mnist_2023-06-15_11-38-21\n",
            "Number of trials: 12/12 (10 PENDING, 2 RUNNING)\n",
            "\n",
            "\n",
            "\u001b[2m\u001b[36m(train_mnist pid=6272)\u001b[0m Downloading http://yann.lecun.com/exdb/mnist/train-labels-idx1-ubyte.gz\u001b[32m [repeated 10x across cluster] (Ray deduplicates logs by default. Set RAY_DEDUP_LOGS=0 to disable log deduplication, or see https://docs.ray.io/en/master/ray-observability/ray-logging.html#log-deduplication for more options.)\u001b[0m\n",
            "\u001b[2m\u001b[36m(train_mnist pid=6273)\u001b[0m Downloading http://yann.lecun.com/exdb/mnist/train-images-idx3-ubyte.gz to data/mnist/MNIST/raw/train-images-idx3-ubyte.gz\u001b[32m [repeated 9x across cluster]\u001b[0m\n",
            "\u001b[2m\u001b[36m(train_mnist pid=6273)\u001b[0m Extracting data/mnist/MNIST/raw/train-images-idx3-ubyte.gz to data/mnist/MNIST/raw\u001b[32m [repeated 9x across cluster]\u001b[0m\n"
          ]
        },
        {
          "output_type": "stream",
          "name": "stderr",
          "text": [
            "\u001b[2m\u001b[36m(train_mnist pid=6272)\u001b[0m \r  0%|          | 0/1648877 [00:00<?, ?it/s]\u001b[32m [repeated 11x across cluster]\u001b[0m\n",
            "\u001b[2m\u001b[36m(train_mnist pid=6273)\u001b[0m \r100%|██████████| 9912422/9912422 [00:00<00:00, 142459168.95it/s]\u001b[32m [repeated 5x across cluster]\u001b[0m\n"
          ]
        },
        {
          "output_type": "stream",
          "name": "stdout",
          "text": [
            "\u001b[2m\u001b[36m(train_mnist pid=6272)\u001b[0m \u001b[32m [repeated 14x across cluster]\u001b[0m\n",
            "== Status ==\n",
            "Current time: 2023-06-15 11:38:36 (running for 00:00:15.29)\n",
            "Using FIFO scheduling algorithm.\n",
            "Logical resource usage: 2.0/2 CPUs, 0/0 GPUs\n",
            "Result logdir: /root/ray_results/train_mnist_2023-06-15_11-38-21\n",
            "Number of trials: 12/12 (8 PENDING, 2 RUNNING, 2 TERMINATED)\n",
            "\n",
            "\n",
            "\u001b[2m\u001b[36m(train_mnist pid=6272)\u001b[0m Downloading http://yann.lecun.com/exdb/mnist/train-labels-idx1-ubyte.gz\u001b[32m [repeated 8x across cluster]\u001b[0m\n",
            "\u001b[2m\u001b[36m(train_mnist pid=6272)\u001b[0m Downloading http://yann.lecun.com/exdb/mnist/train-labels-idx1-ubyte.gz to data/mnist/MNIST/raw/train-labels-idx1-ubyte.gz\u001b[32m [repeated 9x across cluster]\u001b[0m\n",
            "\u001b[2m\u001b[36m(train_mnist pid=6273)\u001b[0m Extracting data/mnist/MNIST/raw/train-images-idx3-ubyte.gz to data/mnist/MNIST/raw\u001b[32m [repeated 8x across cluster]\u001b[0m\n"
          ]
        },
        {
          "output_type": "stream",
          "name": "stderr",
          "text": [
            "\u001b[2m\u001b[36m(train_mnist pid=6272)\u001b[0m \r  0%|          | 0/28881 [00:00<?, ?it/s]\r100%|██████████| 28881/28881 [00:00<00:00, 157934411.77it/s]\u001b[32m [repeated 7x across cluster]\u001b[0m\n",
            "\u001b[2m\u001b[36m(train_mnist pid=6273)\u001b[0m \r100%|██████████| 9912422/9912422 [00:00<00:00, 131028834.50it/s]\u001b[32m [repeated 4x across cluster]\u001b[0m\n"
          ]
        },
        {
          "output_type": "stream",
          "name": "stdout",
          "text": [
            "\u001b[2m\u001b[36m(train_mnist pid=6273)\u001b[0m \u001b[32m [repeated 5x across cluster]\u001b[0m\n",
            "== Status ==\n",
            "Current time: 2023-06-15 11:38:41 (running for 00:00:20.38)\n",
            "Using FIFO scheduling algorithm.\n",
            "Logical resource usage: 2.0/2 CPUs, 0/0 GPUs\n",
            "Result logdir: /root/ray_results/train_mnist_2023-06-15_11-38-21\n",
            "Number of trials: 12/12 (6 PENDING, 2 RUNNING, 4 TERMINATED)\n",
            "\n",
            "\n",
            "\u001b[2m\u001b[36m(train_mnist pid=6272)\u001b[0m Downloading http://yann.lecun.com/exdb/mnist/train-images-idx3-ubyte.gz\u001b[32m [repeated 6x across cluster]\u001b[0m\n",
            "\u001b[2m\u001b[36m(train_mnist pid=6273)\u001b[0m Downloading http://yann.lecun.com/exdb/mnist/t10k-labels-idx1-ubyte.gz to data/mnist/MNIST/raw/t10k-labels-idx1-ubyte.gz\u001b[32m [repeated 5x across cluster]\u001b[0m\n",
            "\u001b[2m\u001b[36m(train_mnist pid=6273)\u001b[0m Extracting data/mnist/MNIST/raw/t10k-labels-idx1-ubyte.gz to data/mnist/MNIST/raw\u001b[32m [repeated 6x across cluster]\u001b[0m\n",
            "\u001b[2m\u001b[36m(train_mnist pid=6273)\u001b[0m \u001b[32m [repeated 4x across cluster]\u001b[0m\n"
          ]
        },
        {
          "output_type": "stream",
          "name": "stderr",
          "text": [
            "\u001b[2m\u001b[36m(train_mnist pid=6272)\u001b[0m \r  0%|          | 0/9912422 [00:00<?, ?it/s]\u001b[32m [repeated 6x across cluster]\u001b[0m\n",
            "\u001b[2m\u001b[36m(train_mnist pid=6273)\u001b[0m \r  0%|          | 0/9912422 [00:00<?, ?it/s]\n",
            "\u001b[2m\u001b[36m(train_mnist pid=6272)\u001b[0m \r100%|██████████| 9912422/9912422 [00:00<00:00, 169693317.46it/s]\n"
          ]
        },
        {
          "output_type": "stream",
          "name": "stdout",
          "text": [
            "== Status ==\n",
            "Current time: 2023-06-15 11:38:46 (running for 00:00:25.46)\n",
            "Using FIFO scheduling algorithm.\n",
            "Logical resource usage: 2.0/2 CPUs, 0/0 GPUs\n",
            "Result logdir: /root/ray_results/train_mnist_2023-06-15_11-38-21\n",
            "Number of trials: 12/12 (4 PENDING, 2 RUNNING, 6 TERMINATED)\n",
            "\n",
            "\n",
            "\u001b[2m\u001b[36m(train_mnist pid=6272)\u001b[0m Downloading http://yann.lecun.com/exdb/mnist/t10k-images-idx3-ubyte.gz\u001b[32m [repeated 11x across cluster]\u001b[0m\n",
            "\u001b[2m\u001b[36m(train_mnist pid=6272)\u001b[0m Downloading http://yann.lecun.com/exdb/mnist/t10k-images-idx3-ubyte.gz to data/mnist/MNIST/raw/t10k-images-idx3-ubyte.gz\u001b[32m [repeated 12x across cluster]\u001b[0m\n",
            "\u001b[2m\u001b[36m(train_mnist pid=6272)\u001b[0m Extracting data/mnist/MNIST/raw/train-labels-idx1-ubyte.gz to data/mnist/MNIST/raw\u001b[32m [repeated 10x across cluster]\u001b[0m\n",
            "\u001b[2m\u001b[36m(train_mnist pid=6272)\u001b[0m \u001b[32m [repeated 10x across cluster]\u001b[0m\n"
          ]
        },
        {
          "output_type": "stream",
          "name": "stderr",
          "text": [
            "\u001b[2m\u001b[36m(train_mnist pid=6272)\u001b[0m \r  0%|          | 0/1648877 [00:00<?, ?it/s]\u001b[32m [repeated 11x across cluster]\u001b[0m\n",
            "\u001b[2m\u001b[36m(train_mnist pid=6272)\u001b[0m \r100%|██████████| 1648877/1648877 [00:00<00:00, 38632164.16it/s]\u001b[32m [repeated 4x across cluster]\u001b[0m\n"
          ]
        },
        {
          "output_type": "stream",
          "name": "stdout",
          "text": [
            "== Status ==\n",
            "Current time: 2023-06-15 11:38:51 (running for 00:00:30.46)\n",
            "Using FIFO scheduling algorithm.\n",
            "Logical resource usage: 2.0/2 CPUs, 0/0 GPUs\n",
            "Result logdir: /root/ray_results/train_mnist_2023-06-15_11-38-21\n",
            "Number of trials: 12/12 (2 PENDING, 2 RUNNING, 8 TERMINATED)\n",
            "\n",
            "\n",
            "\u001b[2m\u001b[36m(train_mnist pid=6272)\u001b[0m Downloading http://yann.lecun.com/exdb/mnist/train-images-idx3-ubyte.gz\u001b[32m [repeated 5x across cluster]\u001b[0m\n",
            "\u001b[2m\u001b[36m(train_mnist pid=6272)\u001b[0m Downloading http://yann.lecun.com/exdb/mnist/train-images-idx3-ubyte.gz to data/mnist/MNIST/raw/train-images-idx3-ubyte.gz\u001b[32m [repeated 5x across cluster]\u001b[0m\n",
            "\u001b[2m\u001b[36m(train_mnist pid=6273)\u001b[0m Extracting data/mnist/MNIST/raw/t10k-labels-idx1-ubyte.gz to data/mnist/MNIST/raw\u001b[32m [repeated 6x across cluster]\u001b[0m\n"
          ]
        },
        {
          "output_type": "stream",
          "name": "stderr",
          "text": [
            "\u001b[2m\u001b[36m(train_mnist pid=6272)\u001b[0m \r  0%|          | 0/9912422 [00:00<?, ?it/s]\u001b[32m [repeated 5x across cluster]\u001b[0m\n",
            "\u001b[2m\u001b[36m(train_mnist pid=6272)\u001b[0m \r100%|██████████| 9912422/9912422 [00:00<00:00, 126377625.52it/s]\n"
          ]
        },
        {
          "output_type": "stream",
          "name": "stdout",
          "text": [
            "\u001b[2m\u001b[36m(train_mnist pid=6273)\u001b[0m \u001b[32m [repeated 6x across cluster]\u001b[0m\n"
          ]
        },
        {
          "output_type": "stream",
          "name": "stderr",
          "text": [
            "\u001b[2m\u001b[36m(train_mnist pid=6273)\u001b[0m \r100%|██████████| 9912422/9912422 [00:00<00:00, 142803157.40it/s]\n"
          ]
        },
        {
          "output_type": "stream",
          "name": "stdout",
          "text": [
            "== Status ==\n",
            "Current time: 2023-06-15 11:38:56 (running for 00:00:35.47)\n",
            "Using FIFO scheduling algorithm.\n",
            "Logical resource usage: 2.0/2 CPUs, 0/0 GPUs\n",
            "Result logdir: /root/ray_results/train_mnist_2023-06-15_11-38-21\n",
            "Number of trials: 12/12 (2 RUNNING, 10 TERMINATED)\n",
            "\n",
            "\n"
          ]
        },
        {
          "output_type": "stream",
          "name": "stderr",
          "text": [
            "2023-06-15 11:38:59,419\tINFO tune.py:1111 -- Total run time: 38.22 seconds (38.19 seconds for the tuning loop).\n"
          ]
        },
        {
          "output_type": "stream",
          "name": "stdout",
          "text": [
            "== Status ==\n",
            "Current time: 2023-06-15 11:38:59 (running for 00:00:38.20)\n",
            "Using FIFO scheduling algorithm.\n",
            "Logical resource usage: 1.0/2 CPUs, 0/0 GPUs\n",
            "Result logdir: /root/ray_results/train_mnist_2023-06-15_11-38-21\n",
            "Number of trials: 12/12 (12 TERMINATED)\n",
            "\n",
            "\n",
            "CPU times: user 1.07 s, sys: 182 ms, total: 1.26 s\n",
            "Wall time: 38.3 s\n"
          ]
        }
      ],
      "source": [
        "%%time\n",
        "analysis_func = tune.run(train_mnist, config=config, stop={\"training_iteration\": 20},\n",
        "                         verbose=1)"
      ]
    },
    {
      "cell_type": "code",
      "execution_count": 15,
      "metadata": {
        "id": "TRIdkuboQ8jP",
        "outputId": "f9d6f6af-3ff4-4cfc-8357-0217a373274e",
        "colab": {
          "base_uri": "https://localhost:8080/"
        }
      },
      "outputs": [
        {
          "output_type": "stream",
          "name": "stdout",
          "text": [
            "Best config:  {'lr': 0.1, 'momentum': 0.01}\n"
          ]
        }
      ],
      "source": [
        "print(\"Best config: \", analysis_func.get_best_config(metric=\"mean_accuracy\", mode=\"max\"))"
      ]
    },
    {
      "cell_type": "code",
      "execution_count": 16,
      "metadata": {
        "id": "3u52SRHWQ8jQ",
        "outputId": "14bf17b7-abdc-4d37-8293-c1fd85176298",
        "colab": {
          "base_uri": "https://localhost:8080/",
          "height": 530
        }
      },
      "outputs": [
        {
          "output_type": "execute_result",
          "data": {
            "text/plain": [
              "    mean_accuracy  time_this_iter_s   done  training_iteration     trial_id  \\\n",
              "5        0.906250          0.345789  False                  10  213f5_00005   \n",
              "11       0.903125          0.223297  False                  10  213f5_00011   \n",
              "2        0.900000          0.545079  False                  10  213f5_00002   \n",
              "10       0.893750          0.371153  False                  10  213f5_00010   \n",
              "8        0.890625          0.644053  False                  10  213f5_00008   \n",
              "\n",
              "                   date   timestamp  time_total_s   pid      hostname  \\\n",
              "5   2023-06-15_11-38-43  1686829123      5.980468  6273  b739b75c6450   \n",
              "11  2023-06-15_11-38-59  1686829139      4.379885  6273  b739b75c6450   \n",
              "2   2023-06-15_11-38-37  1686829117      5.023850  6272  b739b75c6450   \n",
              "10  2023-06-15_11-38-58  1686829138      4.960583  6272  b739b75c6450   \n",
              "8   2023-06-15_11-38-53  1686829133      5.528092  6272  b739b75c6450   \n",
              "\n",
              "        node_ip  time_since_restore  iterations_since_restore  config/lr  \\\n",
              "5   172.28.0.12            5.980468                        10       0.10   \n",
              "11  172.28.0.12            4.379885                        10       0.10   \n",
              "2   172.28.0.12            5.023850                        10       0.10   \n",
              "10  172.28.0.12            4.960583                        10       0.01   \n",
              "8   172.28.0.12            5.528092                        10       0.10   \n",
              "\n",
              "    config/momentum                                             logdir  \n",
              "5             0.010  /root/ray_results/train_mnist_2023-06-15_11-38...  \n",
              "11            0.900  /root/ray_results/train_mnist_2023-06-15_11-38...  \n",
              "2             0.001  /root/ray_results/train_mnist_2023-06-15_11-38...  \n",
              "10            0.900  /root/ray_results/train_mnist_2023-06-15_11-38...  \n",
              "8             0.100  /root/ray_results/train_mnist_2023-06-15_11-38...  "
            ],
            "text/html": [
              "\n",
              "  <div id=\"df-39b90328-51e9-46a6-9e9b-13a5e61e89cc\">\n",
              "    <div class=\"colab-df-container\">\n",
              "      <div>\n",
              "<style scoped>\n",
              "    .dataframe tbody tr th:only-of-type {\n",
              "        vertical-align: middle;\n",
              "    }\n",
              "\n",
              "    .dataframe tbody tr th {\n",
              "        vertical-align: top;\n",
              "    }\n",
              "\n",
              "    .dataframe thead th {\n",
              "        text-align: right;\n",
              "    }\n",
              "</style>\n",
              "<table border=\"1\" class=\"dataframe\">\n",
              "  <thead>\n",
              "    <tr style=\"text-align: right;\">\n",
              "      <th></th>\n",
              "      <th>mean_accuracy</th>\n",
              "      <th>time_this_iter_s</th>\n",
              "      <th>done</th>\n",
              "      <th>training_iteration</th>\n",
              "      <th>trial_id</th>\n",
              "      <th>date</th>\n",
              "      <th>timestamp</th>\n",
              "      <th>time_total_s</th>\n",
              "      <th>pid</th>\n",
              "      <th>hostname</th>\n",
              "      <th>node_ip</th>\n",
              "      <th>time_since_restore</th>\n",
              "      <th>iterations_since_restore</th>\n",
              "      <th>config/lr</th>\n",
              "      <th>config/momentum</th>\n",
              "      <th>logdir</th>\n",
              "    </tr>\n",
              "  </thead>\n",
              "  <tbody>\n",
              "    <tr>\n",
              "      <th>5</th>\n",
              "      <td>0.906250</td>\n",
              "      <td>0.345789</td>\n",
              "      <td>False</td>\n",
              "      <td>10</td>\n",
              "      <td>213f5_00005</td>\n",
              "      <td>2023-06-15_11-38-43</td>\n",
              "      <td>1686829123</td>\n",
              "      <td>5.980468</td>\n",
              "      <td>6273</td>\n",
              "      <td>b739b75c6450</td>\n",
              "      <td>172.28.0.12</td>\n",
              "      <td>5.980468</td>\n",
              "      <td>10</td>\n",
              "      <td>0.10</td>\n",
              "      <td>0.010</td>\n",
              "      <td>/root/ray_results/train_mnist_2023-06-15_11-38...</td>\n",
              "    </tr>\n",
              "    <tr>\n",
              "      <th>11</th>\n",
              "      <td>0.903125</td>\n",
              "      <td>0.223297</td>\n",
              "      <td>False</td>\n",
              "      <td>10</td>\n",
              "      <td>213f5_00011</td>\n",
              "      <td>2023-06-15_11-38-59</td>\n",
              "      <td>1686829139</td>\n",
              "      <td>4.379885</td>\n",
              "      <td>6273</td>\n",
              "      <td>b739b75c6450</td>\n",
              "      <td>172.28.0.12</td>\n",
              "      <td>4.379885</td>\n",
              "      <td>10</td>\n",
              "      <td>0.10</td>\n",
              "      <td>0.900</td>\n",
              "      <td>/root/ray_results/train_mnist_2023-06-15_11-38...</td>\n",
              "    </tr>\n",
              "    <tr>\n",
              "      <th>2</th>\n",
              "      <td>0.900000</td>\n",
              "      <td>0.545079</td>\n",
              "      <td>False</td>\n",
              "      <td>10</td>\n",
              "      <td>213f5_00002</td>\n",
              "      <td>2023-06-15_11-38-37</td>\n",
              "      <td>1686829117</td>\n",
              "      <td>5.023850</td>\n",
              "      <td>6272</td>\n",
              "      <td>b739b75c6450</td>\n",
              "      <td>172.28.0.12</td>\n",
              "      <td>5.023850</td>\n",
              "      <td>10</td>\n",
              "      <td>0.10</td>\n",
              "      <td>0.001</td>\n",
              "      <td>/root/ray_results/train_mnist_2023-06-15_11-38...</td>\n",
              "    </tr>\n",
              "    <tr>\n",
              "      <th>10</th>\n",
              "      <td>0.893750</td>\n",
              "      <td>0.371153</td>\n",
              "      <td>False</td>\n",
              "      <td>10</td>\n",
              "      <td>213f5_00010</td>\n",
              "      <td>2023-06-15_11-38-58</td>\n",
              "      <td>1686829138</td>\n",
              "      <td>4.960583</td>\n",
              "      <td>6272</td>\n",
              "      <td>b739b75c6450</td>\n",
              "      <td>172.28.0.12</td>\n",
              "      <td>4.960583</td>\n",
              "      <td>10</td>\n",
              "      <td>0.01</td>\n",
              "      <td>0.900</td>\n",
              "      <td>/root/ray_results/train_mnist_2023-06-15_11-38...</td>\n",
              "    </tr>\n",
              "    <tr>\n",
              "      <th>8</th>\n",
              "      <td>0.890625</td>\n",
              "      <td>0.644053</td>\n",
              "      <td>False</td>\n",
              "      <td>10</td>\n",
              "      <td>213f5_00008</td>\n",
              "      <td>2023-06-15_11-38-53</td>\n",
              "      <td>1686829133</td>\n",
              "      <td>5.528092</td>\n",
              "      <td>6272</td>\n",
              "      <td>b739b75c6450</td>\n",
              "      <td>172.28.0.12</td>\n",
              "      <td>5.528092</td>\n",
              "      <td>10</td>\n",
              "      <td>0.10</td>\n",
              "      <td>0.100</td>\n",
              "      <td>/root/ray_results/train_mnist_2023-06-15_11-38...</td>\n",
              "    </tr>\n",
              "  </tbody>\n",
              "</table>\n",
              "</div>\n",
              "      <button class=\"colab-df-convert\" onclick=\"convertToInteractive('df-39b90328-51e9-46a6-9e9b-13a5e61e89cc')\"\n",
              "              title=\"Convert this dataframe to an interactive table.\"\n",
              "              style=\"display:none;\">\n",
              "        \n",
              "  <svg xmlns=\"http://www.w3.org/2000/svg\" height=\"24px\"viewBox=\"0 0 24 24\"\n",
              "       width=\"24px\">\n",
              "    <path d=\"M0 0h24v24H0V0z\" fill=\"none\"/>\n",
              "    <path d=\"M18.56 5.44l.94 2.06.94-2.06 2.06-.94-2.06-.94-.94-2.06-.94 2.06-2.06.94zm-11 1L8.5 8.5l.94-2.06 2.06-.94-2.06-.94L8.5 2.5l-.94 2.06-2.06.94zm10 10l.94 2.06.94-2.06 2.06-.94-2.06-.94-.94-2.06-.94 2.06-2.06.94z\"/><path d=\"M17.41 7.96l-1.37-1.37c-.4-.4-.92-.59-1.43-.59-.52 0-1.04.2-1.43.59L10.3 9.45l-7.72 7.72c-.78.78-.78 2.05 0 2.83L4 21.41c.39.39.9.59 1.41.59.51 0 1.02-.2 1.41-.59l7.78-7.78 2.81-2.81c.8-.78.8-2.07 0-2.86zM5.41 20L4 18.59l7.72-7.72 1.47 1.35L5.41 20z\"/>\n",
              "  </svg>\n",
              "      </button>\n",
              "      \n",
              "  <style>\n",
              "    .colab-df-container {\n",
              "      display:flex;\n",
              "      flex-wrap:wrap;\n",
              "      gap: 12px;\n",
              "    }\n",
              "\n",
              "    .colab-df-convert {\n",
              "      background-color: #E8F0FE;\n",
              "      border: none;\n",
              "      border-radius: 50%;\n",
              "      cursor: pointer;\n",
              "      display: none;\n",
              "      fill: #1967D2;\n",
              "      height: 32px;\n",
              "      padding: 0 0 0 0;\n",
              "      width: 32px;\n",
              "    }\n",
              "\n",
              "    .colab-df-convert:hover {\n",
              "      background-color: #E2EBFA;\n",
              "      box-shadow: 0px 1px 2px rgba(60, 64, 67, 0.3), 0px 1px 3px 1px rgba(60, 64, 67, 0.15);\n",
              "      fill: #174EA6;\n",
              "    }\n",
              "\n",
              "    [theme=dark] .colab-df-convert {\n",
              "      background-color: #3B4455;\n",
              "      fill: #D2E3FC;\n",
              "    }\n",
              "\n",
              "    [theme=dark] .colab-df-convert:hover {\n",
              "      background-color: #434B5C;\n",
              "      box-shadow: 0px 1px 3px 1px rgba(0, 0, 0, 0.15);\n",
              "      filter: drop-shadow(0px 1px 2px rgba(0, 0, 0, 0.3));\n",
              "      fill: #FFFFFF;\n",
              "    }\n",
              "  </style>\n",
              "\n",
              "      <script>\n",
              "        const buttonEl =\n",
              "          document.querySelector('#df-39b90328-51e9-46a6-9e9b-13a5e61e89cc button.colab-df-convert');\n",
              "        buttonEl.style.display =\n",
              "          google.colab.kernel.accessAllowed ? 'block' : 'none';\n",
              "\n",
              "        async function convertToInteractive(key) {\n",
              "          const element = document.querySelector('#df-39b90328-51e9-46a6-9e9b-13a5e61e89cc');\n",
              "          const dataTable =\n",
              "            await google.colab.kernel.invokeFunction('convertToInteractive',\n",
              "                                                     [key], {});\n",
              "          if (!dataTable) return;\n",
              "\n",
              "          const docLinkHtml = 'Like what you see? Visit the ' +\n",
              "            '<a target=\"_blank\" href=https://colab.research.google.com/notebooks/data_table.ipynb>data table notebook</a>'\n",
              "            + ' to learn more about interactive tables.';\n",
              "          element.innerHTML = '';\n",
              "          dataTable['output_type'] = 'display_data';\n",
              "          await google.colab.output.renderOutput(dataTable, element);\n",
              "          const docLink = document.createElement('div');\n",
              "          docLink.innerHTML = docLinkHtml;\n",
              "          element.appendChild(docLink);\n",
              "        }\n",
              "      </script>\n",
              "    </div>\n",
              "  </div>\n",
              "  "
            ]
          },
          "metadata": {},
          "execution_count": 16
        }
      ],
      "source": [
        "analysis_func.dataframe().sort_values('mean_accuracy', ascending=False).head()"
      ]
    },
    {
      "cell_type": "code",
      "execution_count": 17,
      "metadata": {
        "id": "nKLxsH3LQ8jQ",
        "outputId": "4ead9f54-0dc9-46f9-c6da-ee2b7e145b3c",
        "colab": {
          "base_uri": "https://localhost:8080/",
          "height": 425
        }
      },
      "outputs": [
        {
          "output_type": "execute_result",
          "data": {
            "text/plain": [
              "    mean_accuracy  config/lr  config/momentum\n",
              "5        0.906250      0.100            0.010\n",
              "11       0.903125      0.100            0.900\n",
              "2        0.900000      0.100            0.001\n",
              "10       0.893750      0.010            0.900\n",
              "8        0.890625      0.100            0.100\n",
              "1        0.787500      0.010            0.001\n",
              "4        0.715625      0.010            0.010\n",
              "7        0.637500      0.010            0.100\n",
              "9        0.559375      0.001            0.900\n",
              "3        0.293750      0.001            0.010\n",
              "6        0.256250      0.001            0.100\n",
              "0        0.200000      0.001            0.001"
            ],
            "text/html": [
              "\n",
              "  <div id=\"df-6b1b8f6f-cfb1-4ac7-b13d-9df9788ff1f0\">\n",
              "    <div class=\"colab-df-container\">\n",
              "      <div>\n",
              "<style scoped>\n",
              "    .dataframe tbody tr th:only-of-type {\n",
              "        vertical-align: middle;\n",
              "    }\n",
              "\n",
              "    .dataframe tbody tr th {\n",
              "        vertical-align: top;\n",
              "    }\n",
              "\n",
              "    .dataframe thead th {\n",
              "        text-align: right;\n",
              "    }\n",
              "</style>\n",
              "<table border=\"1\" class=\"dataframe\">\n",
              "  <thead>\n",
              "    <tr style=\"text-align: right;\">\n",
              "      <th></th>\n",
              "      <th>mean_accuracy</th>\n",
              "      <th>config/lr</th>\n",
              "      <th>config/momentum</th>\n",
              "    </tr>\n",
              "  </thead>\n",
              "  <tbody>\n",
              "    <tr>\n",
              "      <th>5</th>\n",
              "      <td>0.906250</td>\n",
              "      <td>0.100</td>\n",
              "      <td>0.010</td>\n",
              "    </tr>\n",
              "    <tr>\n",
              "      <th>11</th>\n",
              "      <td>0.903125</td>\n",
              "      <td>0.100</td>\n",
              "      <td>0.900</td>\n",
              "    </tr>\n",
              "    <tr>\n",
              "      <th>2</th>\n",
              "      <td>0.900000</td>\n",
              "      <td>0.100</td>\n",
              "      <td>0.001</td>\n",
              "    </tr>\n",
              "    <tr>\n",
              "      <th>10</th>\n",
              "      <td>0.893750</td>\n",
              "      <td>0.010</td>\n",
              "      <td>0.900</td>\n",
              "    </tr>\n",
              "    <tr>\n",
              "      <th>8</th>\n",
              "      <td>0.890625</td>\n",
              "      <td>0.100</td>\n",
              "      <td>0.100</td>\n",
              "    </tr>\n",
              "    <tr>\n",
              "      <th>1</th>\n",
              "      <td>0.787500</td>\n",
              "      <td>0.010</td>\n",
              "      <td>0.001</td>\n",
              "    </tr>\n",
              "    <tr>\n",
              "      <th>4</th>\n",
              "      <td>0.715625</td>\n",
              "      <td>0.010</td>\n",
              "      <td>0.010</td>\n",
              "    </tr>\n",
              "    <tr>\n",
              "      <th>7</th>\n",
              "      <td>0.637500</td>\n",
              "      <td>0.010</td>\n",
              "      <td>0.100</td>\n",
              "    </tr>\n",
              "    <tr>\n",
              "      <th>9</th>\n",
              "      <td>0.559375</td>\n",
              "      <td>0.001</td>\n",
              "      <td>0.900</td>\n",
              "    </tr>\n",
              "    <tr>\n",
              "      <th>3</th>\n",
              "      <td>0.293750</td>\n",
              "      <td>0.001</td>\n",
              "      <td>0.010</td>\n",
              "    </tr>\n",
              "    <tr>\n",
              "      <th>6</th>\n",
              "      <td>0.256250</td>\n",
              "      <td>0.001</td>\n",
              "      <td>0.100</td>\n",
              "    </tr>\n",
              "    <tr>\n",
              "      <th>0</th>\n",
              "      <td>0.200000</td>\n",
              "      <td>0.001</td>\n",
              "      <td>0.001</td>\n",
              "    </tr>\n",
              "  </tbody>\n",
              "</table>\n",
              "</div>\n",
              "      <button class=\"colab-df-convert\" onclick=\"convertToInteractive('df-6b1b8f6f-cfb1-4ac7-b13d-9df9788ff1f0')\"\n",
              "              title=\"Convert this dataframe to an interactive table.\"\n",
              "              style=\"display:none;\">\n",
              "        \n",
              "  <svg xmlns=\"http://www.w3.org/2000/svg\" height=\"24px\"viewBox=\"0 0 24 24\"\n",
              "       width=\"24px\">\n",
              "    <path d=\"M0 0h24v24H0V0z\" fill=\"none\"/>\n",
              "    <path d=\"M18.56 5.44l.94 2.06.94-2.06 2.06-.94-2.06-.94-.94-2.06-.94 2.06-2.06.94zm-11 1L8.5 8.5l.94-2.06 2.06-.94-2.06-.94L8.5 2.5l-.94 2.06-2.06.94zm10 10l.94 2.06.94-2.06 2.06-.94-2.06-.94-.94-2.06-.94 2.06-2.06.94z\"/><path d=\"M17.41 7.96l-1.37-1.37c-.4-.4-.92-.59-1.43-.59-.52 0-1.04.2-1.43.59L10.3 9.45l-7.72 7.72c-.78.78-.78 2.05 0 2.83L4 21.41c.39.39.9.59 1.41.59.51 0 1.02-.2 1.41-.59l7.78-7.78 2.81-2.81c.8-.78.8-2.07 0-2.86zM5.41 20L4 18.59l7.72-7.72 1.47 1.35L5.41 20z\"/>\n",
              "  </svg>\n",
              "      </button>\n",
              "      \n",
              "  <style>\n",
              "    .colab-df-container {\n",
              "      display:flex;\n",
              "      flex-wrap:wrap;\n",
              "      gap: 12px;\n",
              "    }\n",
              "\n",
              "    .colab-df-convert {\n",
              "      background-color: #E8F0FE;\n",
              "      border: none;\n",
              "      border-radius: 50%;\n",
              "      cursor: pointer;\n",
              "      display: none;\n",
              "      fill: #1967D2;\n",
              "      height: 32px;\n",
              "      padding: 0 0 0 0;\n",
              "      width: 32px;\n",
              "    }\n",
              "\n",
              "    .colab-df-convert:hover {\n",
              "      background-color: #E2EBFA;\n",
              "      box-shadow: 0px 1px 2px rgba(60, 64, 67, 0.3), 0px 1px 3px 1px rgba(60, 64, 67, 0.15);\n",
              "      fill: #174EA6;\n",
              "    }\n",
              "\n",
              "    [theme=dark] .colab-df-convert {\n",
              "      background-color: #3B4455;\n",
              "      fill: #D2E3FC;\n",
              "    }\n",
              "\n",
              "    [theme=dark] .colab-df-convert:hover {\n",
              "      background-color: #434B5C;\n",
              "      box-shadow: 0px 1px 3px 1px rgba(0, 0, 0, 0.15);\n",
              "      filter: drop-shadow(0px 1px 2px rgba(0, 0, 0, 0.3));\n",
              "      fill: #FFFFFF;\n",
              "    }\n",
              "  </style>\n",
              "\n",
              "      <script>\n",
              "        const buttonEl =\n",
              "          document.querySelector('#df-6b1b8f6f-cfb1-4ac7-b13d-9df9788ff1f0 button.colab-df-convert');\n",
              "        buttonEl.style.display =\n",
              "          google.colab.kernel.accessAllowed ? 'block' : 'none';\n",
              "\n",
              "        async function convertToInteractive(key) {\n",
              "          const element = document.querySelector('#df-6b1b8f6f-cfb1-4ac7-b13d-9df9788ff1f0');\n",
              "          const dataTable =\n",
              "            await google.colab.kernel.invokeFunction('convertToInteractive',\n",
              "                                                     [key], {});\n",
              "          if (!dataTable) return;\n",
              "\n",
              "          const docLinkHtml = 'Like what you see? Visit the ' +\n",
              "            '<a target=\"_blank\" href=https://colab.research.google.com/notebooks/data_table.ipynb>data table notebook</a>'\n",
              "            + ' to learn more about interactive tables.';\n",
              "          element.innerHTML = '';\n",
              "          dataTable['output_type'] = 'display_data';\n",
              "          await google.colab.output.renderOutput(dataTable, element);\n",
              "          const docLink = document.createElement('div');\n",
              "          docLink.innerHTML = docLinkHtml;\n",
              "          element.appendChild(docLink);\n",
              "        }\n",
              "      </script>\n",
              "    </div>\n",
              "  </div>\n",
              "  "
            ]
          },
          "metadata": {},
          "execution_count": 17
        }
      ],
      "source": [
        "analysis_func.dataframe()[['mean_accuracy', 'config/lr', 'config/momentum']].sort_values('mean_accuracy', ascending=False)"
      ]
    },
    {
      "cell_type": "markdown",
      "metadata": {
        "id": "SkBA2ZKYQ8jQ"
      },
      "source": [
        "How long did it take? We'll compare this value with a different training run in the next lesson."
      ]
    },
    {
      "cell_type": "code",
      "execution_count": 18,
      "metadata": {
        "id": "ow5JhU_TQ8jQ",
        "outputId": "157bf4ed-2bb9-45fc-c579-55ee81dd3f81",
        "colab": {
          "base_uri": "https://localhost:8080/"
        }
      },
      "outputs": [
        {
          "output_type": "stream",
          "name": "stdout",
          "text": [
            "   -inf seconds,    -inf minutes\n"
          ]
        }
      ],
      "source": [
        "stats = analysis_func.stats()\n",
        "secs = stats[\"timestamp\"] - stats[\"start_time\"]\n",
        "print(f'{secs:7.2f} seconds, {secs/60.0:7.2f} minutes')"
      ]
    },
    {
      "cell_type": "markdown",
      "metadata": {
        "id": "-QOH5A3ZQ8jQ"
      },
      "source": [
        "### Use Tune's Trainable Class API"
      ]
    },
    {
      "cell_type": "markdown",
      "metadata": {
        "id": "rZXCMYVxQ8jR"
      },
      "source": [
        "As a subclass of `tune.Trainable`, Tune will create a Trainable object on a separate process (using the [Ray Actor API](https://docs.ray.io/en/latest/actors.html#actor-guide)).\n",
        "\n",
        " * setup function is invoked once training starts.\n",
        " * step is invoked multiple times. Each time, the Trainable object executes one logical iteration of training in the tuning process, which may include one or more iterations of actual training.\n"
      ]
    },
    {
      "cell_type": "code",
      "execution_count": 19,
      "metadata": {
        "id": "SwrfyeIMQ8jR"
      },
      "outputs": [],
      "source": [
        "class TrainMNIST(tune.Trainable):\n",
        "    def setup(self, config):\n",
        "        self.config = config\n",
        "        self.train_loader, self.test_loader = get_data_loaders()\n",
        "        self.model = ConvNet()\n",
        "        self.optimizer = optim.SGD(self.model.parameters(), lr=self.config[\"lr\"])\n",
        "\n",
        "    def step(self):\n",
        "        train(self.model, self.optimizer, self.train_loader)\n",
        "        acc = test(self.model, self.test_loader)\n",
        "        return {\"mean_accuracy\": acc}"
      ]
    },
    {
      "cell_type": "code",
      "execution_count": 20,
      "metadata": {
        "scrolled": true,
        "id": "mO-mnyYFQ8jR",
        "outputId": "ca4ffbec-b1a7-482d-f647-b516e3ba52da",
        "colab": {
          "base_uri": "https://localhost:8080/"
        }
      },
      "outputs": [
        {
          "output_type": "stream",
          "name": "stderr",
          "text": [
            "2023-06-15 11:40:17,540\tWARNING callback.py:144 -- The TensorboardX logger cannot be instantiated because either TensorboardX or one of it's dependencies is not installed. Please make sure you have the latest version of TensorboardX installed: `pip install -U tensorboardx`\n"
          ]
        },
        {
          "output_type": "stream",
          "name": "stdout",
          "text": [
            "== Status ==\n",
            "Current time: 2023-06-15 11:40:17 (running for 00:00:00.20)\n",
            "Using FIFO scheduling algorithm.\n",
            "Logical resource usage: 0/2 CPUs, 0/0 GPUs\n",
            "Result logdir: /root/ray_results/TrainMNIST_2023-06-15_11-40-17\n",
            "Number of trials: 12/12 (12 PENDING)\n",
            "\n",
            "\n",
            "== Status ==\n",
            "Current time: 2023-06-15 11:40:22 (running for 00:00:05.25)\n",
            "Using FIFO scheduling algorithm.\n",
            "Logical resource usage: 2.0/2 CPUs, 0/0 GPUs\n",
            "Result logdir: /root/ray_results/TrainMNIST_2023-06-15_11-40-17\n",
            "Number of trials: 12/12 (12 PENDING)\n",
            "\n",
            "\n",
            "\u001b[2m\u001b[36m(TrainMNIST pid=7040)\u001b[0m Downloading http://yann.lecun.com/exdb/mnist/train-images-idx3-ubyte.gz\u001b[32m [repeated 8x across cluster]\u001b[0m\n",
            "\u001b[2m\u001b[36m(train_mnist pid=6273)\u001b[0m Downloading http://yann.lecun.com/exdb/mnist/t10k-labels-idx1-ubyte.gz to data/mnist/MNIST/raw/t10k-labels-idx1-ubyte.gz\u001b[32m [repeated 7x across cluster]\u001b[0m\n",
            "\u001b[2m\u001b[36m(train_mnist pid=6273)\u001b[0m Extracting data/mnist/MNIST/raw/t10k-labels-idx1-ubyte.gz to data/mnist/MNIST/raw\u001b[32m [repeated 8x across cluster]\u001b[0m\n",
            "\u001b[2m\u001b[36m(train_mnist pid=6273)\u001b[0m \u001b[32m [repeated 8x across cluster]\u001b[0m\n"
          ]
        },
        {
          "output_type": "stream",
          "name": "stderr",
          "text": [
            "\u001b[2m\u001b[36m(TrainMNIST pid=7040)\u001b[0m \r  0%|          | 0/9912422 [00:00<?, ?it/s]\u001b[32m [repeated 8x across cluster]\u001b[0m\n",
            "\u001b[2m\u001b[36m(TrainMNIST pid=7040)\u001b[0m \r100%|██████████| 9912422/9912422 [00:00<00:00, 139361015.93it/s]\n"
          ]
        },
        {
          "output_type": "stream",
          "name": "stdout",
          "text": [
            "== Status ==\n",
            "Current time: 2023-06-15 11:40:27 (running for 00:00:10.32)\n",
            "Using FIFO scheduling algorithm.\n",
            "Logical resource usage: 2.0/2 CPUs, 0/0 GPUs\n",
            "Result logdir: /root/ray_results/TrainMNIST_2023-06-15_11-40-17\n",
            "Number of trials: 12/12 (10 PENDING, 2 RUNNING)\n",
            "\n",
            "\n",
            "== Status ==\n",
            "Current time: 2023-06-15 11:40:32 (running for 00:00:15.40)\n",
            "Using FIFO scheduling algorithm.\n",
            "Logical resource usage: 2.0/2 CPUs, 0/0 GPUs\n",
            "Result logdir: /root/ray_results/TrainMNIST_2023-06-15_11-40-17\n",
            "Number of trials: 12/12 (10 PENDING, 2 RUNNING)\n",
            "\n",
            "\n",
            "== Status ==\n",
            "Current time: 2023-06-15 11:40:38 (running for 00:00:20.48)\n",
            "Using FIFO scheduling algorithm.\n",
            "Logical resource usage: 2.0/2 CPUs, 0/0 GPUs\n",
            "Result logdir: /root/ray_results/TrainMNIST_2023-06-15_11-40-17\n",
            "Number of trials: 12/12 (10 PENDING, 2 TERMINATED)\n",
            "\n",
            "\n",
            "\u001b[2m\u001b[36m(TrainMNIST pid=7288)\u001b[0m Downloading http://yann.lecun.com/exdb/mnist/train-images-idx3-ubyte.gz\u001b[32m [repeated 8x across cluster]\u001b[0m\n",
            "\u001b[2m\u001b[36m(TrainMNIST pid=7288)\u001b[0m Downloading http://yann.lecun.com/exdb/mnist/train-images-idx3-ubyte.gz to data/mnist/MNIST/raw/train-images-idx3-ubyte.gz\u001b[32m [repeated 9x across cluster]\u001b[0m\n",
            "\u001b[2m\u001b[36m(TrainMNIST pid=7075)\u001b[0m Extracting data/mnist/MNIST/raw/t10k-labels-idx1-ubyte.gz to data/mnist/MNIST/raw\u001b[32m [repeated 8x across cluster]\u001b[0m\n",
            "\u001b[2m\u001b[36m(TrainMNIST pid=7075)\u001b[0m \u001b[32m [repeated 8x across cluster]\u001b[0m\n"
          ]
        },
        {
          "output_type": "stream",
          "name": "stderr",
          "text": [
            "\u001b[2m\u001b[36m(TrainMNIST pid=7288)\u001b[0m \r  0%|          | 0/9912422 [00:00<?, ?it/s]\r100%|██████████| 9912422/9912422 [00:00<00:00, 146962570.68it/s]\u001b[32m [repeated 8x across cluster]\u001b[0m\n",
            "\u001b[2m\u001b[36m(TrainMNIST pid=7040)\u001b[0m \r100%|██████████| 1648877/1648877 [00:00<00:00, 37193809.88it/s]\u001b[32m [repeated 2x across cluster]\u001b[0m\n"
          ]
        },
        {
          "output_type": "stream",
          "name": "stdout",
          "text": [
            "== Status ==\n",
            "Current time: 2023-06-15 11:40:43 (running for 00:00:25.54)\n",
            "Using FIFO scheduling algorithm.\n",
            "Logical resource usage: 2.0/2 CPUs, 0/0 GPUs\n",
            "Result logdir: /root/ray_results/TrainMNIST_2023-06-15_11-40-17\n",
            "Number of trials: 12/12 (8 PENDING, 2 RUNNING, 2 TERMINATED)\n",
            "\n",
            "\n",
            "== Status ==\n",
            "Current time: 2023-06-15 11:40:48 (running for 00:00:30.63)\n",
            "Using FIFO scheduling algorithm.\n",
            "Logical resource usage: 2.0/2 CPUs, 0/0 GPUs\n",
            "Result logdir: /root/ray_results/TrainMNIST_2023-06-15_11-40-17\n",
            "Number of trials: 12/12 (8 PENDING, 2 RUNNING, 2 TERMINATED)\n",
            "\n",
            "\n",
            "== Status ==\n",
            "Current time: 2023-06-15 11:40:53 (running for 00:00:35.70)\n",
            "Using FIFO scheduling algorithm.\n",
            "Logical resource usage: 2.0/2 CPUs, 0/0 GPUs\n",
            "Result logdir: /root/ray_results/TrainMNIST_2023-06-15_11-40-17\n",
            "Number of trials: 12/12 (8 PENDING, 4 TERMINATED)\n",
            "\n",
            "\n",
            "\u001b[2m\u001b[36m(TrainMNIST pid=7503)\u001b[0m Downloading http://yann.lecun.com/exdb/mnist/train-images-idx3-ubyte.gz\u001b[32m [repeated 8x across cluster]\u001b[0m\n",
            "\u001b[2m\u001b[36m(TrainMNIST pid=7286)\u001b[0m Downloading http://yann.lecun.com/exdb/mnist/t10k-labels-idx1-ubyte.gz to data/mnist/MNIST/raw/t10k-labels-idx1-ubyte.gz\u001b[32m [repeated 7x across cluster]\u001b[0m\n",
            "\u001b[2m\u001b[36m(TrainMNIST pid=7286)\u001b[0m Extracting data/mnist/MNIST/raw/t10k-labels-idx1-ubyte.gz to data/mnist/MNIST/raw\u001b[32m [repeated 8x across cluster]\u001b[0m\n",
            "\u001b[2m\u001b[36m(TrainMNIST pid=7286)\u001b[0m \u001b[32m [repeated 8x across cluster]\u001b[0m\n"
          ]
        },
        {
          "output_type": "stream",
          "name": "stderr",
          "text": [
            "\u001b[2m\u001b[36m(TrainMNIST pid=7503)\u001b[0m \r  0%|          | 0/9912422 [00:00<?, ?it/s]\u001b[32m [repeated 8x across cluster]\u001b[0m\n",
            "\u001b[2m\u001b[36m(TrainMNIST pid=7286)\u001b[0m \r  0%|          | 0/9912422 [00:00<?, ?it/s]\n",
            "\u001b[2m\u001b[36m(TrainMNIST pid=7503)\u001b[0m \r100%|██████████| 9912422/9912422 [00:00<00:00, 133979057.55it/s]\n"
          ]
        },
        {
          "output_type": "stream",
          "name": "stdout",
          "text": [
            "== Status ==\n",
            "Current time: 2023-06-15 11:40:58 (running for 00:00:40.75)\n",
            "Using FIFO scheduling algorithm.\n",
            "Logical resource usage: 2.0/2 CPUs, 0/0 GPUs\n",
            "Result logdir: /root/ray_results/TrainMNIST_2023-06-15_11-40-17\n",
            "Number of trials: 12/12 (6 PENDING, 2 RUNNING, 4 TERMINATED)\n",
            "\n",
            "\n",
            "== Status ==\n",
            "Current time: 2023-06-15 11:41:03 (running for 00:00:45.84)\n",
            "Using FIFO scheduling algorithm.\n",
            "Logical resource usage: 2.0/2 CPUs, 0/0 GPUs\n",
            "Result logdir: /root/ray_results/TrainMNIST_2023-06-15_11-40-17\n",
            "Number of trials: 12/12 (6 PENDING, 2 RUNNING, 4 TERMINATED)\n",
            "\n",
            "\n",
            "== Status ==\n",
            "Current time: 2023-06-15 11:41:08 (running for 00:00:50.85)\n",
            "Using FIFO scheduling algorithm.\n",
            "Logical resource usage: 2.0/2 CPUs, 0/0 GPUs\n",
            "Result logdir: /root/ray_results/TrainMNIST_2023-06-15_11-40-17\n",
            "Number of trials: 12/12 (6 PENDING, 6 TERMINATED)\n",
            "\n",
            "\n"
          ]
        },
        {
          "output_type": "stream",
          "name": "stderr",
          "text": [
            "\u001b[2m\u001b[36m(TrainMNIST pid=7681)\u001b[0m \r  0%|          | 0/9912422 [00:00<?, ?it/s]\u001b[32m [repeated 8x across cluster]\u001b[0m\n",
            "\u001b[2m\u001b[36m(TrainMNIST pid=7505)\u001b[0m \r100%|██████████| 1648877/1648877 [00:00<00:00, 39088954.18it/s]\u001b[32m [repeated 3x across cluster]\u001b[0m\n"
          ]
        },
        {
          "output_type": "stream",
          "name": "stdout",
          "text": [
            "\u001b[2m\u001b[36m(TrainMNIST pid=7681)\u001b[0m Downloading http://yann.lecun.com/exdb/mnist/train-images-idx3-ubyte.gz\u001b[32m [repeated 8x across cluster]\u001b[0m\n",
            "\u001b[2m\u001b[36m(TrainMNIST pid=7681)\u001b[0m Downloading http://yann.lecun.com/exdb/mnist/train-images-idx3-ubyte.gz to data/mnist/MNIST/raw/train-images-idx3-ubyte.gz\u001b[32m [repeated 9x across cluster]\u001b[0m\n",
            "\u001b[2m\u001b[36m(TrainMNIST pid=7505)\u001b[0m Extracting data/mnist/MNIST/raw/t10k-labels-idx1-ubyte.gz to data/mnist/MNIST/raw\u001b[32m [repeated 8x across cluster]\u001b[0m\n",
            "\u001b[2m\u001b[36m(TrainMNIST pid=7505)\u001b[0m \u001b[32m [repeated 8x across cluster]\u001b[0m\n"
          ]
        },
        {
          "output_type": "stream",
          "name": "stderr",
          "text": [
            "\u001b[2m\u001b[36m(TrainMNIST pid=7714)\u001b[0m \r 87%|████████▋ | 8650752/9912422 [00:00<00:00, 75914217.99it/s]\r100%|██████████| 9912422/9912422 [00:00<00:00, 84050255.93it/s]\n"
          ]
        },
        {
          "output_type": "stream",
          "name": "stdout",
          "text": [
            "== Status ==\n",
            "Current time: 2023-06-15 11:41:13 (running for 00:00:55.89)\n",
            "Using FIFO scheduling algorithm.\n",
            "Logical resource usage: 2.0/2 CPUs, 0/0 GPUs\n",
            "Result logdir: /root/ray_results/TrainMNIST_2023-06-15_11-40-17\n",
            "Number of trials: 12/12 (4 PENDING, 2 RUNNING, 6 TERMINATED)\n",
            "\n",
            "\n",
            "== Status ==\n",
            "Current time: 2023-06-15 11:41:18 (running for 00:01:00.98)\n",
            "Using FIFO scheduling algorithm.\n",
            "Logical resource usage: 2.0/2 CPUs, 0/0 GPUs\n",
            "Result logdir: /root/ray_results/TrainMNIST_2023-06-15_11-40-17\n",
            "Number of trials: 12/12 (4 PENDING, 2 RUNNING, 6 TERMINATED)\n",
            "\n",
            "\n",
            "== Status ==\n",
            "Current time: 2023-06-15 11:41:23 (running for 00:01:06.07)\n",
            "Using FIFO scheduling algorithm.\n",
            "Logical resource usage: 2.0/2 CPUs, 0/0 GPUs\n",
            "Result logdir: /root/ray_results/TrainMNIST_2023-06-15_11-40-17\n",
            "Number of trials: 12/12 (4 PENDING, 8 TERMINATED)\n",
            "\n",
            "\n",
            "\u001b[2m\u001b[36m(TrainMNIST pid=7862)\u001b[0m Downloading http://yann.lecun.com/exdb/mnist/train-images-idx3-ubyte.gz\u001b[32m [repeated 8x across cluster]\u001b[0m\n",
            "\u001b[2m\u001b[36m(TrainMNIST pid=7862)\u001b[0m Downloading http://yann.lecun.com/exdb/mnist/train-images-idx3-ubyte.gz to data/mnist/MNIST/raw/train-images-idx3-ubyte.gz\u001b[32m [repeated 8x across cluster]\u001b[0m\n",
            "\u001b[2m\u001b[36m(TrainMNIST pid=7714)\u001b[0m Extracting data/mnist/MNIST/raw/t10k-labels-idx1-ubyte.gz to data/mnist/MNIST/raw\u001b[32m [repeated 8x across cluster]\u001b[0m\n",
            "\u001b[2m\u001b[36m(TrainMNIST pid=7714)\u001b[0m \u001b[32m [repeated 8x across cluster]\u001b[0m\n"
          ]
        },
        {
          "output_type": "stream",
          "name": "stderr",
          "text": [
            "\u001b[2m\u001b[36m(TrainMNIST pid=7862)\u001b[0m \r  0%|          | 0/9912422 [00:00<?, ?it/s]\r100%|██████████| 9912422/9912422 [00:00<00:00, 148568518.11it/s]\u001b[32m [repeated 8x across cluster]\u001b[0m\n",
            "\u001b[2m\u001b[36m(TrainMNIST pid=7681)\u001b[0m \r100%|██████████| 1648877/1648877 [00:00<00:00, 38624181.24it/s]\u001b[32m [repeated 2x across cluster]\u001b[0m\n"
          ]
        },
        {
          "output_type": "stream",
          "name": "stdout",
          "text": [
            "== Status ==\n",
            "Current time: 2023-06-15 11:41:28 (running for 00:01:11.13)\n",
            "Using FIFO scheduling algorithm.\n",
            "Logical resource usage: 2.0/2 CPUs, 0/0 GPUs\n",
            "Result logdir: /root/ray_results/TrainMNIST_2023-06-15_11-40-17\n",
            "Number of trials: 12/12 (2 PENDING, 2 RUNNING, 8 TERMINATED)\n",
            "\n",
            "\n",
            "== Status ==\n",
            "Current time: 2023-06-15 11:41:33 (running for 00:01:16.19)\n",
            "Using FIFO scheduling algorithm.\n",
            "Logical resource usage: 2.0/2 CPUs, 0/0 GPUs\n",
            "Result logdir: /root/ray_results/TrainMNIST_2023-06-15_11-40-17\n",
            "Number of trials: 12/12 (2 PENDING, 2 RUNNING, 8 TERMINATED)\n",
            "\n",
            "\n",
            "== Status ==\n",
            "Current time: 2023-06-15 11:41:38 (running for 00:01:21.21)\n",
            "Using FIFO scheduling algorithm.\n",
            "Logical resource usage: 2.0/2 CPUs, 0/0 GPUs\n",
            "Result logdir: /root/ray_results/TrainMNIST_2023-06-15_11-40-17\n",
            "Number of trials: 12/12 (2 PENDING, 10 TERMINATED)\n",
            "\n",
            "\n",
            "\u001b[2m\u001b[36m(TrainMNIST pid=8043)\u001b[0m Downloading http://yann.lecun.com/exdb/mnist/train-images-idx3-ubyte.gz\u001b[32m [repeated 8x across cluster]\u001b[0m\n",
            "\u001b[2m\u001b[36m(TrainMNIST pid=8043)\u001b[0m Downloading http://yann.lecun.com/exdb/mnist/train-images-idx3-ubyte.gz to data/mnist/MNIST/raw/train-images-idx3-ubyte.gz\u001b[32m [repeated 8x across cluster]\u001b[0m\n",
            "\u001b[2m\u001b[36m(TrainMNIST pid=7898)\u001b[0m Extracting data/mnist/MNIST/raw/t10k-labels-idx1-ubyte.gz to data/mnist/MNIST/raw\u001b[32m [repeated 8x across cluster]\u001b[0m\n",
            "\u001b[2m\u001b[36m(TrainMNIST pid=7898)\u001b[0m \u001b[32m [repeated 8x across cluster]\u001b[0m\n"
          ]
        },
        {
          "output_type": "stream",
          "name": "stderr",
          "text": [
            "\u001b[2m\u001b[36m(TrainMNIST pid=8043)\u001b[0m \r  0%|          | 0/9912422 [00:00<?, ?it/s]\r100%|██████████| 9912422/9912422 [00:00<00:00, 136404594.68it/s]\u001b[32m [repeated 8x across cluster]\u001b[0m\n",
            "100%|██████████| 9912422/9912422 [00:00<00:00, 136404594.68it/s]\n",
            "100%|██████████| 1648877/1648877 [00:00<00:00, 37471507.97it/s]\n"
          ]
        },
        {
          "output_type": "stream",
          "name": "stdout",
          "text": [
            "== Status ==\n",
            "Current time: 2023-06-15 11:41:43 (running for 00:01:26.22)\n",
            "Using FIFO scheduling algorithm.\n",
            "Logical resource usage: 2.0/2 CPUs, 0/0 GPUs\n",
            "Result logdir: /root/ray_results/TrainMNIST_2023-06-15_11-40-17\n",
            "Number of trials: 12/12 (2 RUNNING, 10 TERMINATED)\n",
            "\n",
            "\n",
            "== Status ==\n",
            "Current time: 2023-06-15 11:41:48 (running for 00:01:31.31)\n",
            "Using FIFO scheduling algorithm.\n",
            "Logical resource usage: 2.0/2 CPUs, 0/0 GPUs\n",
            "Result logdir: /root/ray_results/TrainMNIST_2023-06-15_11-40-17\n",
            "Number of trials: 12/12 (2 RUNNING, 10 TERMINATED)\n",
            "\n",
            "\n"
          ]
        },
        {
          "output_type": "stream",
          "name": "stderr",
          "text": [
            "2023-06-15 11:41:51,622\tINFO tune.py:1111 -- Total run time: 94.10 seconds (94.07 seconds for the tuning loop).\n"
          ]
        },
        {
          "output_type": "stream",
          "name": "stdout",
          "text": [
            "== Status ==\n",
            "Current time: 2023-06-15 11:41:51 (running for 00:01:34.07)\n",
            "Using FIFO scheduling algorithm.\n",
            "Logical resource usage: 1.0/2 CPUs, 0/0 GPUs\n",
            "Result logdir: /root/ray_results/TrainMNIST_2023-06-15_11-40-17\n",
            "Number of trials: 12/12 (12 TERMINATED)\n",
            "\n",
            "\n",
            "CPU times: user 2.03 s, sys: 285 ms, total: 2.32 s\n",
            "Wall time: 1min 34s\n"
          ]
        }
      ],
      "source": [
        "%%time\n",
        "analysis = tune.run(\n",
        "    TrainMNIST,\n",
        "    config=config,\n",
        "    stop={\"training_iteration\": 20},\n",
        "    verbose=1\n",
        ")"
      ]
    },
    {
      "cell_type": "code",
      "execution_count": 21,
      "metadata": {
        "id": "rM-mpALaQ8jR",
        "outputId": "645006ce-db45-47bc-af17-f68dd3f10ba1",
        "colab": {
          "base_uri": "https://localhost:8080/"
        }
      },
      "outputs": [
        {
          "output_type": "stream",
          "name": "stdout",
          "text": [
            "Best config:  {'lr': 0.1, 'momentum': 0.01}\n"
          ]
        }
      ],
      "source": [
        "print(\"Best config: \", analysis.get_best_config(metric=\"mean_accuracy\", mode=\"max\"))"
      ]
    },
    {
      "cell_type": "code",
      "execution_count": 22,
      "metadata": {
        "id": "nA60qW-XQ8jS",
        "outputId": "f37fe244-1517-469a-bc1e-1c0c6c50154c",
        "colab": {
          "base_uri": "https://localhost:8080/",
          "height": 530
        }
      },
      "outputs": [
        {
          "output_type": "execute_result",
          "data": {
            "text/plain": [
              "   mean_accuracy  done  training_iteration     trial_id                 date  \\\n",
              "0       0.125000  True                  20  66963_00000  2023-06-15_11-40-33   \n",
              "1       0.840625  True                  20  66963_00001  2023-06-15_11-40-33   \n",
              "2       0.868750  True                  20  66963_00002  2023-06-15_11-40-49   \n",
              "3       0.162500  True                  20  66963_00003  2023-06-15_11-40-49   \n",
              "4       0.831250  True                  20  66963_00004  2023-06-15_11-41-05   \n",
              "\n",
              "    timestamp  time_this_iter_s  time_total_s   pid      hostname  \\\n",
              "0  1686829233          0.402833      7.609252  7040  b739b75c6450   \n",
              "1  1686829233          0.328962      7.510359  7075  b739b75c6450   \n",
              "2  1686829249          0.527731      7.756325  7286  b739b75c6450   \n",
              "3  1686829249          0.677231      7.842635  7288  b739b75c6450   \n",
              "4  1686829265          0.631667      8.981776  7503  b739b75c6450   \n",
              "\n",
              "       node_ip  time_since_restore  iterations_since_restore  config/lr  \\\n",
              "0  172.28.0.12            7.609252                        20      0.001   \n",
              "1  172.28.0.12            7.510359                        20      0.010   \n",
              "2  172.28.0.12            7.756325                        20      0.100   \n",
              "3  172.28.0.12            7.842635                        20      0.001   \n",
              "4  172.28.0.12            8.981776                        20      0.010   \n",
              "\n",
              "   config/momentum                                             logdir  \n",
              "0            0.001  /root/ray_results/TrainMNIST_2023-06-15_11-40-...  \n",
              "1            0.001  /root/ray_results/TrainMNIST_2023-06-15_11-40-...  \n",
              "2            0.001  /root/ray_results/TrainMNIST_2023-06-15_11-40-...  \n",
              "3            0.010  /root/ray_results/TrainMNIST_2023-06-15_11-40-...  \n",
              "4            0.010  /root/ray_results/TrainMNIST_2023-06-15_11-40-...  "
            ],
            "text/html": [
              "\n",
              "  <div id=\"df-861e429c-e25b-465c-971c-3a2864f62dbb\">\n",
              "    <div class=\"colab-df-container\">\n",
              "      <div>\n",
              "<style scoped>\n",
              "    .dataframe tbody tr th:only-of-type {\n",
              "        vertical-align: middle;\n",
              "    }\n",
              "\n",
              "    .dataframe tbody tr th {\n",
              "        vertical-align: top;\n",
              "    }\n",
              "\n",
              "    .dataframe thead th {\n",
              "        text-align: right;\n",
              "    }\n",
              "</style>\n",
              "<table border=\"1\" class=\"dataframe\">\n",
              "  <thead>\n",
              "    <tr style=\"text-align: right;\">\n",
              "      <th></th>\n",
              "      <th>mean_accuracy</th>\n",
              "      <th>done</th>\n",
              "      <th>training_iteration</th>\n",
              "      <th>trial_id</th>\n",
              "      <th>date</th>\n",
              "      <th>timestamp</th>\n",
              "      <th>time_this_iter_s</th>\n",
              "      <th>time_total_s</th>\n",
              "      <th>pid</th>\n",
              "      <th>hostname</th>\n",
              "      <th>node_ip</th>\n",
              "      <th>time_since_restore</th>\n",
              "      <th>iterations_since_restore</th>\n",
              "      <th>config/lr</th>\n",
              "      <th>config/momentum</th>\n",
              "      <th>logdir</th>\n",
              "    </tr>\n",
              "  </thead>\n",
              "  <tbody>\n",
              "    <tr>\n",
              "      <th>0</th>\n",
              "      <td>0.125000</td>\n",
              "      <td>True</td>\n",
              "      <td>20</td>\n",
              "      <td>66963_00000</td>\n",
              "      <td>2023-06-15_11-40-33</td>\n",
              "      <td>1686829233</td>\n",
              "      <td>0.402833</td>\n",
              "      <td>7.609252</td>\n",
              "      <td>7040</td>\n",
              "      <td>b739b75c6450</td>\n",
              "      <td>172.28.0.12</td>\n",
              "      <td>7.609252</td>\n",
              "      <td>20</td>\n",
              "      <td>0.001</td>\n",
              "      <td>0.001</td>\n",
              "      <td>/root/ray_results/TrainMNIST_2023-06-15_11-40-...</td>\n",
              "    </tr>\n",
              "    <tr>\n",
              "      <th>1</th>\n",
              "      <td>0.840625</td>\n",
              "      <td>True</td>\n",
              "      <td>20</td>\n",
              "      <td>66963_00001</td>\n",
              "      <td>2023-06-15_11-40-33</td>\n",
              "      <td>1686829233</td>\n",
              "      <td>0.328962</td>\n",
              "      <td>7.510359</td>\n",
              "      <td>7075</td>\n",
              "      <td>b739b75c6450</td>\n",
              "      <td>172.28.0.12</td>\n",
              "      <td>7.510359</td>\n",
              "      <td>20</td>\n",
              "      <td>0.010</td>\n",
              "      <td>0.001</td>\n",
              "      <td>/root/ray_results/TrainMNIST_2023-06-15_11-40-...</td>\n",
              "    </tr>\n",
              "    <tr>\n",
              "      <th>2</th>\n",
              "      <td>0.868750</td>\n",
              "      <td>True</td>\n",
              "      <td>20</td>\n",
              "      <td>66963_00002</td>\n",
              "      <td>2023-06-15_11-40-49</td>\n",
              "      <td>1686829249</td>\n",
              "      <td>0.527731</td>\n",
              "      <td>7.756325</td>\n",
              "      <td>7286</td>\n",
              "      <td>b739b75c6450</td>\n",
              "      <td>172.28.0.12</td>\n",
              "      <td>7.756325</td>\n",
              "      <td>20</td>\n",
              "      <td>0.100</td>\n",
              "      <td>0.001</td>\n",
              "      <td>/root/ray_results/TrainMNIST_2023-06-15_11-40-...</td>\n",
              "    </tr>\n",
              "    <tr>\n",
              "      <th>3</th>\n",
              "      <td>0.162500</td>\n",
              "      <td>True</td>\n",
              "      <td>20</td>\n",
              "      <td>66963_00003</td>\n",
              "      <td>2023-06-15_11-40-49</td>\n",
              "      <td>1686829249</td>\n",
              "      <td>0.677231</td>\n",
              "      <td>7.842635</td>\n",
              "      <td>7288</td>\n",
              "      <td>b739b75c6450</td>\n",
              "      <td>172.28.0.12</td>\n",
              "      <td>7.842635</td>\n",
              "      <td>20</td>\n",
              "      <td>0.001</td>\n",
              "      <td>0.010</td>\n",
              "      <td>/root/ray_results/TrainMNIST_2023-06-15_11-40-...</td>\n",
              "    </tr>\n",
              "    <tr>\n",
              "      <th>4</th>\n",
              "      <td>0.831250</td>\n",
              "      <td>True</td>\n",
              "      <td>20</td>\n",
              "      <td>66963_00004</td>\n",
              "      <td>2023-06-15_11-41-05</td>\n",
              "      <td>1686829265</td>\n",
              "      <td>0.631667</td>\n",
              "      <td>8.981776</td>\n",
              "      <td>7503</td>\n",
              "      <td>b739b75c6450</td>\n",
              "      <td>172.28.0.12</td>\n",
              "      <td>8.981776</td>\n",
              "      <td>20</td>\n",
              "      <td>0.010</td>\n",
              "      <td>0.010</td>\n",
              "      <td>/root/ray_results/TrainMNIST_2023-06-15_11-40-...</td>\n",
              "    </tr>\n",
              "  </tbody>\n",
              "</table>\n",
              "</div>\n",
              "      <button class=\"colab-df-convert\" onclick=\"convertToInteractive('df-861e429c-e25b-465c-971c-3a2864f62dbb')\"\n",
              "              title=\"Convert this dataframe to an interactive table.\"\n",
              "              style=\"display:none;\">\n",
              "        \n",
              "  <svg xmlns=\"http://www.w3.org/2000/svg\" height=\"24px\"viewBox=\"0 0 24 24\"\n",
              "       width=\"24px\">\n",
              "    <path d=\"M0 0h24v24H0V0z\" fill=\"none\"/>\n",
              "    <path d=\"M18.56 5.44l.94 2.06.94-2.06 2.06-.94-2.06-.94-.94-2.06-.94 2.06-2.06.94zm-11 1L8.5 8.5l.94-2.06 2.06-.94-2.06-.94L8.5 2.5l-.94 2.06-2.06.94zm10 10l.94 2.06.94-2.06 2.06-.94-2.06-.94-.94-2.06-.94 2.06-2.06.94z\"/><path d=\"M17.41 7.96l-1.37-1.37c-.4-.4-.92-.59-1.43-.59-.52 0-1.04.2-1.43.59L10.3 9.45l-7.72 7.72c-.78.78-.78 2.05 0 2.83L4 21.41c.39.39.9.59 1.41.59.51 0 1.02-.2 1.41-.59l7.78-7.78 2.81-2.81c.8-.78.8-2.07 0-2.86zM5.41 20L4 18.59l7.72-7.72 1.47 1.35L5.41 20z\"/>\n",
              "  </svg>\n",
              "      </button>\n",
              "      \n",
              "  <style>\n",
              "    .colab-df-container {\n",
              "      display:flex;\n",
              "      flex-wrap:wrap;\n",
              "      gap: 12px;\n",
              "    }\n",
              "\n",
              "    .colab-df-convert {\n",
              "      background-color: #E8F0FE;\n",
              "      border: none;\n",
              "      border-radius: 50%;\n",
              "      cursor: pointer;\n",
              "      display: none;\n",
              "      fill: #1967D2;\n",
              "      height: 32px;\n",
              "      padding: 0 0 0 0;\n",
              "      width: 32px;\n",
              "    }\n",
              "\n",
              "    .colab-df-convert:hover {\n",
              "      background-color: #E2EBFA;\n",
              "      box-shadow: 0px 1px 2px rgba(60, 64, 67, 0.3), 0px 1px 3px 1px rgba(60, 64, 67, 0.15);\n",
              "      fill: #174EA6;\n",
              "    }\n",
              "\n",
              "    [theme=dark] .colab-df-convert {\n",
              "      background-color: #3B4455;\n",
              "      fill: #D2E3FC;\n",
              "    }\n",
              "\n",
              "    [theme=dark] .colab-df-convert:hover {\n",
              "      background-color: #434B5C;\n",
              "      box-shadow: 0px 1px 3px 1px rgba(0, 0, 0, 0.15);\n",
              "      filter: drop-shadow(0px 1px 2px rgba(0, 0, 0, 0.3));\n",
              "      fill: #FFFFFF;\n",
              "    }\n",
              "  </style>\n",
              "\n",
              "      <script>\n",
              "        const buttonEl =\n",
              "          document.querySelector('#df-861e429c-e25b-465c-971c-3a2864f62dbb button.colab-df-convert');\n",
              "        buttonEl.style.display =\n",
              "          google.colab.kernel.accessAllowed ? 'block' : 'none';\n",
              "\n",
              "        async function convertToInteractive(key) {\n",
              "          const element = document.querySelector('#df-861e429c-e25b-465c-971c-3a2864f62dbb');\n",
              "          const dataTable =\n",
              "            await google.colab.kernel.invokeFunction('convertToInteractive',\n",
              "                                                     [key], {});\n",
              "          if (!dataTable) return;\n",
              "\n",
              "          const docLinkHtml = 'Like what you see? Visit the ' +\n",
              "            '<a target=\"_blank\" href=https://colab.research.google.com/notebooks/data_table.ipynb>data table notebook</a>'\n",
              "            + ' to learn more about interactive tables.';\n",
              "          element.innerHTML = '';\n",
              "          dataTable['output_type'] = 'display_data';\n",
              "          await google.colab.output.renderOutput(dataTable, element);\n",
              "          const docLink = document.createElement('div');\n",
              "          docLink.innerHTML = docLinkHtml;\n",
              "          element.appendChild(docLink);\n",
              "        }\n",
              "      </script>\n",
              "    </div>\n",
              "  </div>\n",
              "  "
            ]
          },
          "metadata": {},
          "execution_count": 22
        }
      ],
      "source": [
        "# Get a dataframe for analyzing trial results.\n",
        "df = analysis.dataframe()\n",
        "df.head()"
      ]
    },
    {
      "cell_type": "code",
      "execution_count": 23,
      "metadata": {
        "id": "6EcLXGKPQ8jS",
        "outputId": "fba2fce3-743a-4188-b580-45dc5f09b556",
        "colab": {
          "base_uri": "https://localhost:8080/",
          "height": 530
        }
      },
      "outputs": [
        {
          "output_type": "execute_result",
          "data": {
            "text/plain": [
              "    mean_accuracy  done  training_iteration     trial_id                 date  \\\n",
              "5        0.925000  True                  20  66963_00005  2023-06-15_11-41-05   \n",
              "11       0.925000  True                  20  66963_00011  2023-06-15_11-41-51   \n",
              "2        0.868750  True                  20  66963_00002  2023-06-15_11-40-49   \n",
              "10       0.846875  True                  20  66963_00010  2023-06-15_11-41-50   \n",
              "1        0.840625  True                  20  66963_00001  2023-06-15_11-40-33   \n",
              "\n",
              "     timestamp  time_this_iter_s  time_total_s   pid      hostname  \\\n",
              "5   1686829265          0.710634      8.789523  7505  b739b75c6450   \n",
              "11  1686829311          0.232130      8.638450  8079  b739b75c6450   \n",
              "2   1686829249          0.527731      7.756325  7286  b739b75c6450   \n",
              "10  1686829310          0.388859      9.285601  8043  b739b75c6450   \n",
              "1   1686829233          0.328962      7.510359  7075  b739b75c6450   \n",
              "\n",
              "        node_ip  time_since_restore  iterations_since_restore  config/lr  \\\n",
              "5   172.28.0.12            8.789523                        20       0.10   \n",
              "11  172.28.0.12            8.638450                        20       0.10   \n",
              "2   172.28.0.12            7.756325                        20       0.10   \n",
              "10  172.28.0.12            9.285601                        20       0.01   \n",
              "1   172.28.0.12            7.510359                        20       0.01   \n",
              "\n",
              "    config/momentum                                             logdir  \n",
              "5             0.010  /root/ray_results/TrainMNIST_2023-06-15_11-40-...  \n",
              "11            0.900  /root/ray_results/TrainMNIST_2023-06-15_11-40-...  \n",
              "2             0.001  /root/ray_results/TrainMNIST_2023-06-15_11-40-...  \n",
              "10            0.900  /root/ray_results/TrainMNIST_2023-06-15_11-40-...  \n",
              "1             0.001  /root/ray_results/TrainMNIST_2023-06-15_11-40-...  "
            ],
            "text/html": [
              "\n",
              "  <div id=\"df-c212320b-25e5-41e3-bd66-8f998b85494c\">\n",
              "    <div class=\"colab-df-container\">\n",
              "      <div>\n",
              "<style scoped>\n",
              "    .dataframe tbody tr th:only-of-type {\n",
              "        vertical-align: middle;\n",
              "    }\n",
              "\n",
              "    .dataframe tbody tr th {\n",
              "        vertical-align: top;\n",
              "    }\n",
              "\n",
              "    .dataframe thead th {\n",
              "        text-align: right;\n",
              "    }\n",
              "</style>\n",
              "<table border=\"1\" class=\"dataframe\">\n",
              "  <thead>\n",
              "    <tr style=\"text-align: right;\">\n",
              "      <th></th>\n",
              "      <th>mean_accuracy</th>\n",
              "      <th>done</th>\n",
              "      <th>training_iteration</th>\n",
              "      <th>trial_id</th>\n",
              "      <th>date</th>\n",
              "      <th>timestamp</th>\n",
              "      <th>time_this_iter_s</th>\n",
              "      <th>time_total_s</th>\n",
              "      <th>pid</th>\n",
              "      <th>hostname</th>\n",
              "      <th>node_ip</th>\n",
              "      <th>time_since_restore</th>\n",
              "      <th>iterations_since_restore</th>\n",
              "      <th>config/lr</th>\n",
              "      <th>config/momentum</th>\n",
              "      <th>logdir</th>\n",
              "    </tr>\n",
              "  </thead>\n",
              "  <tbody>\n",
              "    <tr>\n",
              "      <th>5</th>\n",
              "      <td>0.925000</td>\n",
              "      <td>True</td>\n",
              "      <td>20</td>\n",
              "      <td>66963_00005</td>\n",
              "      <td>2023-06-15_11-41-05</td>\n",
              "      <td>1686829265</td>\n",
              "      <td>0.710634</td>\n",
              "      <td>8.789523</td>\n",
              "      <td>7505</td>\n",
              "      <td>b739b75c6450</td>\n",
              "      <td>172.28.0.12</td>\n",
              "      <td>8.789523</td>\n",
              "      <td>20</td>\n",
              "      <td>0.10</td>\n",
              "      <td>0.010</td>\n",
              "      <td>/root/ray_results/TrainMNIST_2023-06-15_11-40-...</td>\n",
              "    </tr>\n",
              "    <tr>\n",
              "      <th>11</th>\n",
              "      <td>0.925000</td>\n",
              "      <td>True</td>\n",
              "      <td>20</td>\n",
              "      <td>66963_00011</td>\n",
              "      <td>2023-06-15_11-41-51</td>\n",
              "      <td>1686829311</td>\n",
              "      <td>0.232130</td>\n",
              "      <td>8.638450</td>\n",
              "      <td>8079</td>\n",
              "      <td>b739b75c6450</td>\n",
              "      <td>172.28.0.12</td>\n",
              "      <td>8.638450</td>\n",
              "      <td>20</td>\n",
              "      <td>0.10</td>\n",
              "      <td>0.900</td>\n",
              "      <td>/root/ray_results/TrainMNIST_2023-06-15_11-40-...</td>\n",
              "    </tr>\n",
              "    <tr>\n",
              "      <th>2</th>\n",
              "      <td>0.868750</td>\n",
              "      <td>True</td>\n",
              "      <td>20</td>\n",
              "      <td>66963_00002</td>\n",
              "      <td>2023-06-15_11-40-49</td>\n",
              "      <td>1686829249</td>\n",
              "      <td>0.527731</td>\n",
              "      <td>7.756325</td>\n",
              "      <td>7286</td>\n",
              "      <td>b739b75c6450</td>\n",
              "      <td>172.28.0.12</td>\n",
              "      <td>7.756325</td>\n",
              "      <td>20</td>\n",
              "      <td>0.10</td>\n",
              "      <td>0.001</td>\n",
              "      <td>/root/ray_results/TrainMNIST_2023-06-15_11-40-...</td>\n",
              "    </tr>\n",
              "    <tr>\n",
              "      <th>10</th>\n",
              "      <td>0.846875</td>\n",
              "      <td>True</td>\n",
              "      <td>20</td>\n",
              "      <td>66963_00010</td>\n",
              "      <td>2023-06-15_11-41-50</td>\n",
              "      <td>1686829310</td>\n",
              "      <td>0.388859</td>\n",
              "      <td>9.285601</td>\n",
              "      <td>8043</td>\n",
              "      <td>b739b75c6450</td>\n",
              "      <td>172.28.0.12</td>\n",
              "      <td>9.285601</td>\n",
              "      <td>20</td>\n",
              "      <td>0.01</td>\n",
              "      <td>0.900</td>\n",
              "      <td>/root/ray_results/TrainMNIST_2023-06-15_11-40-...</td>\n",
              "    </tr>\n",
              "    <tr>\n",
              "      <th>1</th>\n",
              "      <td>0.840625</td>\n",
              "      <td>True</td>\n",
              "      <td>20</td>\n",
              "      <td>66963_00001</td>\n",
              "      <td>2023-06-15_11-40-33</td>\n",
              "      <td>1686829233</td>\n",
              "      <td>0.328962</td>\n",
              "      <td>7.510359</td>\n",
              "      <td>7075</td>\n",
              "      <td>b739b75c6450</td>\n",
              "      <td>172.28.0.12</td>\n",
              "      <td>7.510359</td>\n",
              "      <td>20</td>\n",
              "      <td>0.01</td>\n",
              "      <td>0.001</td>\n",
              "      <td>/root/ray_results/TrainMNIST_2023-06-15_11-40-...</td>\n",
              "    </tr>\n",
              "  </tbody>\n",
              "</table>\n",
              "</div>\n",
              "      <button class=\"colab-df-convert\" onclick=\"convertToInteractive('df-c212320b-25e5-41e3-bd66-8f998b85494c')\"\n",
              "              title=\"Convert this dataframe to an interactive table.\"\n",
              "              style=\"display:none;\">\n",
              "        \n",
              "  <svg xmlns=\"http://www.w3.org/2000/svg\" height=\"24px\"viewBox=\"0 0 24 24\"\n",
              "       width=\"24px\">\n",
              "    <path d=\"M0 0h24v24H0V0z\" fill=\"none\"/>\n",
              "    <path d=\"M18.56 5.44l.94 2.06.94-2.06 2.06-.94-2.06-.94-.94-2.06-.94 2.06-2.06.94zm-11 1L8.5 8.5l.94-2.06 2.06-.94-2.06-.94L8.5 2.5l-.94 2.06-2.06.94zm10 10l.94 2.06.94-2.06 2.06-.94-2.06-.94-.94-2.06-.94 2.06-2.06.94z\"/><path d=\"M17.41 7.96l-1.37-1.37c-.4-.4-.92-.59-1.43-.59-.52 0-1.04.2-1.43.59L10.3 9.45l-7.72 7.72c-.78.78-.78 2.05 0 2.83L4 21.41c.39.39.9.59 1.41.59.51 0 1.02-.2 1.41-.59l7.78-7.78 2.81-2.81c.8-.78.8-2.07 0-2.86zM5.41 20L4 18.59l7.72-7.72 1.47 1.35L5.41 20z\"/>\n",
              "  </svg>\n",
              "      </button>\n",
              "      \n",
              "  <style>\n",
              "    .colab-df-container {\n",
              "      display:flex;\n",
              "      flex-wrap:wrap;\n",
              "      gap: 12px;\n",
              "    }\n",
              "\n",
              "    .colab-df-convert {\n",
              "      background-color: #E8F0FE;\n",
              "      border: none;\n",
              "      border-radius: 50%;\n",
              "      cursor: pointer;\n",
              "      display: none;\n",
              "      fill: #1967D2;\n",
              "      height: 32px;\n",
              "      padding: 0 0 0 0;\n",
              "      width: 32px;\n",
              "    }\n",
              "\n",
              "    .colab-df-convert:hover {\n",
              "      background-color: #E2EBFA;\n",
              "      box-shadow: 0px 1px 2px rgba(60, 64, 67, 0.3), 0px 1px 3px 1px rgba(60, 64, 67, 0.15);\n",
              "      fill: #174EA6;\n",
              "    }\n",
              "\n",
              "    [theme=dark] .colab-df-convert {\n",
              "      background-color: #3B4455;\n",
              "      fill: #D2E3FC;\n",
              "    }\n",
              "\n",
              "    [theme=dark] .colab-df-convert:hover {\n",
              "      background-color: #434B5C;\n",
              "      box-shadow: 0px 1px 3px 1px rgba(0, 0, 0, 0.15);\n",
              "      filter: drop-shadow(0px 1px 2px rgba(0, 0, 0, 0.3));\n",
              "      fill: #FFFFFF;\n",
              "    }\n",
              "  </style>\n",
              "\n",
              "      <script>\n",
              "        const buttonEl =\n",
              "          document.querySelector('#df-c212320b-25e5-41e3-bd66-8f998b85494c button.colab-df-convert');\n",
              "        buttonEl.style.display =\n",
              "          google.colab.kernel.accessAllowed ? 'block' : 'none';\n",
              "\n",
              "        async function convertToInteractive(key) {\n",
              "          const element = document.querySelector('#df-c212320b-25e5-41e3-bd66-8f998b85494c');\n",
              "          const dataTable =\n",
              "            await google.colab.kernel.invokeFunction('convertToInteractive',\n",
              "                                                     [key], {});\n",
              "          if (!dataTable) return;\n",
              "\n",
              "          const docLinkHtml = 'Like what you see? Visit the ' +\n",
              "            '<a target=\"_blank\" href=https://colab.research.google.com/notebooks/data_table.ipynb>data table notebook</a>'\n",
              "            + ' to learn more about interactive tables.';\n",
              "          element.innerHTML = '';\n",
              "          dataTable['output_type'] = 'display_data';\n",
              "          await google.colab.output.renderOutput(dataTable, element);\n",
              "          const docLink = document.createElement('div');\n",
              "          docLink.innerHTML = docLinkHtml;\n",
              "          element.appendChild(docLink);\n",
              "        }\n",
              "      </script>\n",
              "    </div>\n",
              "  </div>\n",
              "  "
            ]
          },
          "metadata": {},
          "execution_count": 23
        }
      ],
      "source": [
        "analysis.dataframe().sort_values('mean_accuracy', ascending=False).head()"
      ]
    },
    {
      "cell_type": "markdown",
      "metadata": {
        "id": "tg8l1CaFQ8jS"
      },
      "source": [
        "It's easier to see what we want if project out the interesting columns:"
      ]
    },
    {
      "cell_type": "code",
      "execution_count": 24,
      "metadata": {
        "id": "xrIL1esIQ8jS",
        "outputId": "ebce56ba-8df2-4eec-a888-ce2d70165e6f",
        "colab": {
          "base_uri": "https://localhost:8080/",
          "height": 425
        }
      },
      "outputs": [
        {
          "output_type": "execute_result",
          "data": {
            "text/plain": [
              "    mean_accuracy  config/lr  config/momentum\n",
              "5        0.925000      0.100            0.010\n",
              "11       0.925000      0.100            0.900\n",
              "2        0.868750      0.100            0.001\n",
              "10       0.846875      0.010            0.900\n",
              "1        0.840625      0.010            0.001\n",
              "8        0.834375      0.100            0.100\n",
              "4        0.831250      0.010            0.010\n",
              "7        0.828125      0.010            0.100\n",
              "9        0.250000      0.001            0.900\n",
              "6        0.218750      0.001            0.100\n",
              "3        0.162500      0.001            0.010\n",
              "0        0.125000      0.001            0.001"
            ],
            "text/html": [
              "\n",
              "  <div id=\"df-43b0d351-13f8-47fe-9e2d-3a180c995419\">\n",
              "    <div class=\"colab-df-container\">\n",
              "      <div>\n",
              "<style scoped>\n",
              "    .dataframe tbody tr th:only-of-type {\n",
              "        vertical-align: middle;\n",
              "    }\n",
              "\n",
              "    .dataframe tbody tr th {\n",
              "        vertical-align: top;\n",
              "    }\n",
              "\n",
              "    .dataframe thead th {\n",
              "        text-align: right;\n",
              "    }\n",
              "</style>\n",
              "<table border=\"1\" class=\"dataframe\">\n",
              "  <thead>\n",
              "    <tr style=\"text-align: right;\">\n",
              "      <th></th>\n",
              "      <th>mean_accuracy</th>\n",
              "      <th>config/lr</th>\n",
              "      <th>config/momentum</th>\n",
              "    </tr>\n",
              "  </thead>\n",
              "  <tbody>\n",
              "    <tr>\n",
              "      <th>5</th>\n",
              "      <td>0.925000</td>\n",
              "      <td>0.100</td>\n",
              "      <td>0.010</td>\n",
              "    </tr>\n",
              "    <tr>\n",
              "      <th>11</th>\n",
              "      <td>0.925000</td>\n",
              "      <td>0.100</td>\n",
              "      <td>0.900</td>\n",
              "    </tr>\n",
              "    <tr>\n",
              "      <th>2</th>\n",
              "      <td>0.868750</td>\n",
              "      <td>0.100</td>\n",
              "      <td>0.001</td>\n",
              "    </tr>\n",
              "    <tr>\n",
              "      <th>10</th>\n",
              "      <td>0.846875</td>\n",
              "      <td>0.010</td>\n",
              "      <td>0.900</td>\n",
              "    </tr>\n",
              "    <tr>\n",
              "      <th>1</th>\n",
              "      <td>0.840625</td>\n",
              "      <td>0.010</td>\n",
              "      <td>0.001</td>\n",
              "    </tr>\n",
              "    <tr>\n",
              "      <th>8</th>\n",
              "      <td>0.834375</td>\n",
              "      <td>0.100</td>\n",
              "      <td>0.100</td>\n",
              "    </tr>\n",
              "    <tr>\n",
              "      <th>4</th>\n",
              "      <td>0.831250</td>\n",
              "      <td>0.010</td>\n",
              "      <td>0.010</td>\n",
              "    </tr>\n",
              "    <tr>\n",
              "      <th>7</th>\n",
              "      <td>0.828125</td>\n",
              "      <td>0.010</td>\n",
              "      <td>0.100</td>\n",
              "    </tr>\n",
              "    <tr>\n",
              "      <th>9</th>\n",
              "      <td>0.250000</td>\n",
              "      <td>0.001</td>\n",
              "      <td>0.900</td>\n",
              "    </tr>\n",
              "    <tr>\n",
              "      <th>6</th>\n",
              "      <td>0.218750</td>\n",
              "      <td>0.001</td>\n",
              "      <td>0.100</td>\n",
              "    </tr>\n",
              "    <tr>\n",
              "      <th>3</th>\n",
              "      <td>0.162500</td>\n",
              "      <td>0.001</td>\n",
              "      <td>0.010</td>\n",
              "    </tr>\n",
              "    <tr>\n",
              "      <th>0</th>\n",
              "      <td>0.125000</td>\n",
              "      <td>0.001</td>\n",
              "      <td>0.001</td>\n",
              "    </tr>\n",
              "  </tbody>\n",
              "</table>\n",
              "</div>\n",
              "      <button class=\"colab-df-convert\" onclick=\"convertToInteractive('df-43b0d351-13f8-47fe-9e2d-3a180c995419')\"\n",
              "              title=\"Convert this dataframe to an interactive table.\"\n",
              "              style=\"display:none;\">\n",
              "        \n",
              "  <svg xmlns=\"http://www.w3.org/2000/svg\" height=\"24px\"viewBox=\"0 0 24 24\"\n",
              "       width=\"24px\">\n",
              "    <path d=\"M0 0h24v24H0V0z\" fill=\"none\"/>\n",
              "    <path d=\"M18.56 5.44l.94 2.06.94-2.06 2.06-.94-2.06-.94-.94-2.06-.94 2.06-2.06.94zm-11 1L8.5 8.5l.94-2.06 2.06-.94-2.06-.94L8.5 2.5l-.94 2.06-2.06.94zm10 10l.94 2.06.94-2.06 2.06-.94-2.06-.94-.94-2.06-.94 2.06-2.06.94z\"/><path d=\"M17.41 7.96l-1.37-1.37c-.4-.4-.92-.59-1.43-.59-.52 0-1.04.2-1.43.59L10.3 9.45l-7.72 7.72c-.78.78-.78 2.05 0 2.83L4 21.41c.39.39.9.59 1.41.59.51 0 1.02-.2 1.41-.59l7.78-7.78 2.81-2.81c.8-.78.8-2.07 0-2.86zM5.41 20L4 18.59l7.72-7.72 1.47 1.35L5.41 20z\"/>\n",
              "  </svg>\n",
              "      </button>\n",
              "      \n",
              "  <style>\n",
              "    .colab-df-container {\n",
              "      display:flex;\n",
              "      flex-wrap:wrap;\n",
              "      gap: 12px;\n",
              "    }\n",
              "\n",
              "    .colab-df-convert {\n",
              "      background-color: #E8F0FE;\n",
              "      border: none;\n",
              "      border-radius: 50%;\n",
              "      cursor: pointer;\n",
              "      display: none;\n",
              "      fill: #1967D2;\n",
              "      height: 32px;\n",
              "      padding: 0 0 0 0;\n",
              "      width: 32px;\n",
              "    }\n",
              "\n",
              "    .colab-df-convert:hover {\n",
              "      background-color: #E2EBFA;\n",
              "      box-shadow: 0px 1px 2px rgba(60, 64, 67, 0.3), 0px 1px 3px 1px rgba(60, 64, 67, 0.15);\n",
              "      fill: #174EA6;\n",
              "    }\n",
              "\n",
              "    [theme=dark] .colab-df-convert {\n",
              "      background-color: #3B4455;\n",
              "      fill: #D2E3FC;\n",
              "    }\n",
              "\n",
              "    [theme=dark] .colab-df-convert:hover {\n",
              "      background-color: #434B5C;\n",
              "      box-shadow: 0px 1px 3px 1px rgba(0, 0, 0, 0.15);\n",
              "      filter: drop-shadow(0px 1px 2px rgba(0, 0, 0, 0.3));\n",
              "      fill: #FFFFFF;\n",
              "    }\n",
              "  </style>\n",
              "\n",
              "      <script>\n",
              "        const buttonEl =\n",
              "          document.querySelector('#df-43b0d351-13f8-47fe-9e2d-3a180c995419 button.colab-df-convert');\n",
              "        buttonEl.style.display =\n",
              "          google.colab.kernel.accessAllowed ? 'block' : 'none';\n",
              "\n",
              "        async function convertToInteractive(key) {\n",
              "          const element = document.querySelector('#df-43b0d351-13f8-47fe-9e2d-3a180c995419');\n",
              "          const dataTable =\n",
              "            await google.colab.kernel.invokeFunction('convertToInteractive',\n",
              "                                                     [key], {});\n",
              "          if (!dataTable) return;\n",
              "\n",
              "          const docLinkHtml = 'Like what you see? Visit the ' +\n",
              "            '<a target=\"_blank\" href=https://colab.research.google.com/notebooks/data_table.ipynb>data table notebook</a>'\n",
              "            + ' to learn more about interactive tables.';\n",
              "          element.innerHTML = '';\n",
              "          dataTable['output_type'] = 'display_data';\n",
              "          await google.colab.output.renderOutput(dataTable, element);\n",
              "          const docLink = document.createElement('div');\n",
              "          docLink.innerHTML = docLinkHtml;\n",
              "          element.appendChild(docLink);\n",
              "        }\n",
              "      </script>\n",
              "    </div>\n",
              "  </div>\n",
              "  "
            ]
          },
          "metadata": {},
          "execution_count": 24
        }
      ],
      "source": [
        "analysis.dataframe()[['mean_accuracy', 'config/lr', 'config/momentum']].sort_values('mean_accuracy', ascending=False)"
      ]
    },
    {
      "cell_type": "markdown",
      "metadata": {
        "id": "sMHi3Sl_Q8jS"
      },
      "source": [
        "How long did it take? We'll compare this value with a different training run in the next lesson."
      ]
    },
    {
      "cell_type": "code",
      "execution_count": 25,
      "metadata": {
        "id": "9jAGFvx0Q8jT",
        "outputId": "e508b9e9-7134-4b80-c8de-8849ecaf69ab",
        "colab": {
          "base_uri": "https://localhost:8080/"
        }
      },
      "outputs": [
        {
          "output_type": "stream",
          "name": "stdout",
          "text": [
            "   -inf seconds,    -inf minutes\n"
          ]
        }
      ],
      "source": [
        "stats = analysis.stats()\n",
        "secs = stats[\"timestamp\"] - stats[\"start_time\"]\n",
        "print(f'{secs:7.2f} seconds, {secs/60.0:7.2f} minutes')"
      ]
    },
    {
      "cell_type": "markdown",
      "metadata": {
        "id": "ECfBEBxbQ8jT"
      },
      "source": [
        "The next lesson will explore optimization algorithms that speed up HPO."
      ]
    },
    {
      "cell_type": "code",
      "execution_count": 26,
      "metadata": {
        "id": "LQWwVhrsQ8jT",
        "outputId": "dd2e2efd-5550-4d69-a051-0554f7e3310e",
        "colab": {
          "base_uri": "https://localhost:8080/"
        }
      },
      "outputs": [
        {
          "output_type": "stream",
          "name": "stdout",
          "text": [
            "\u001b[2m\u001b[36m(TrainMNIST pid=8079)\u001b[0m Downloading http://yann.lecun.com/exdb/mnist/t10k-labels-idx1-ubyte.gz\u001b[32m [repeated 7x across cluster]\u001b[0m\n",
            "\u001b[2m\u001b[36m(TrainMNIST pid=8079)\u001b[0m Downloading http://yann.lecun.com/exdb/mnist/t10k-labels-idx1-ubyte.gz to data/mnist/MNIST/raw/t10k-labels-idx1-ubyte.gz\u001b[32m [repeated 7x across cluster]\u001b[0m\n",
            "\u001b[2m\u001b[36m(TrainMNIST pid=8079)\u001b[0m Extracting data/mnist/MNIST/raw/t10k-labels-idx1-ubyte.gz to data/mnist/MNIST/raw\u001b[32m [repeated 8x across cluster]\u001b[0m\n",
            "\u001b[2m\u001b[36m(TrainMNIST pid=8079)\u001b[0m \u001b[32m [repeated 8x across cluster]\u001b[0m\n"
          ]
        },
        {
          "output_type": "stream",
          "name": "stderr",
          "text": [
            "\u001b[2m\u001b[36m(TrainMNIST pid=8079)\u001b[0m \r  0%|          | 0/4542 [00:00<?, ?it/s]\r100%|██████████| 4542/4542 [00:00<00:00, 23548243.22it/s]\u001b[32m [repeated 7x across cluster]\u001b[0m\n",
            "\u001b[2m\u001b[36m(TrainMNIST pid=8079)\u001b[0m \r100%|██████████| 1648877/1648877 [00:00<00:00, 36870988.95it/s]\u001b[32m [repeated 2x across cluster]\u001b[0m\n"
          ]
        }
      ],
      "source": [
        "ray.shutdown()  # \"Undo ray.init()\"."
      ]
    },
    {
      "cell_type": "code",
      "source": [],
      "metadata": {
        "id": "VARYsktaWtLF"
      },
      "execution_count": null,
      "outputs": []
    }
  ],
  "metadata": {
    "kernelspec": {
      "display_name": "Python 3 (ipykernel)",
      "language": "python",
      "name": "python3"
    },
    "language_info": {
      "codemirror_mode": {
        "name": "ipython",
        "version": 3
      },
      "file_extension": ".py",
      "mimetype": "text/x-python",
      "name": "python",
      "nbconvert_exporter": "python",
      "pygments_lexer": "ipython3",
      "version": "3.8.12"
    },
    "colab": {
      "name": "04-Ray-Tune-with-MNIST.ipynb",
      "provenance": []
    }
  },
  "nbformat": 4,
  "nbformat_minor": 0
}